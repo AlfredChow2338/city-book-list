{
  "cells": [
    {
      "cell_type": "markdown",
      "id": "b1c6a137",
      "metadata": {
        "id": "b1c6a137"
      },
      "source": [
        "# SDSC3006 Lab 9 PCA, PCR, PLS\n",
        "\n",
        "TA Email: jiaxin.yu@my.cityu.edu.hk\n",
        "\n",
        "\n",
        "---\n",
        "\n",
        "\n",
        "**PCA (Principal Component Analysis)**:\n",
        "PCA is a dimensionality reduction technique that aims to capture the most important patterns in the data by transforming it into a new set of uncorrelated variables called principal components (PCs).\n",
        "\n",
        "\n",
        "PCA helps in reducing the dimensionality of the data while retaining as much *variance information* as possible. The transformed PCs can be used for visualization, or further analysis.\n",
        "\n",
        "\n",
        "**PCR (Principal Component Regression)**:\n",
        "PCR is a regression technique that combines PCA and linear regression. It first applies PCA to the predictor variables and then performs linear regression on the selected principal components.\n",
        "\n",
        "\n",
        "PCR combines the dimensionality reduction capability of PCA with the predictive power of linear regression. It can be useful when dealing with high-dimensional data and helps to avoid multicollinearity issues.\n",
        "\n",
        "\n",
        "**PLS (Partial Least Squares)**:\n",
        "PLS combines ideas of both PCA and multiple linear regression.\n",
        "PLS aims to find a set of latent variables that capture the maximum *covariance*  shared between the predictor and response variables.\n",
        "\n",
        "\n",
        "PLS differs from PCA in that it focuses on the covariance between the predictor and response variables, rather than solely considering the variance of the predictor variables in PCA/PCR.\n",
        "This makes PLS particularly useful in situations where the number of predictor variables is large compared to the number of observations or when there is strong collinearity among the predictors.\n"
      ]
    },
    {
      "cell_type": "markdown",
      "source": [
        "As in other labs, we import some of our libraries at this top level. This makes the code more readable, as scanning the first few lines of the notebook tell us what libraries are used in this notebook."
      ],
      "metadata": {
        "id": "herDy9zgBqfN"
      },
      "id": "herDy9zgBqfN"
    },
    {
      "cell_type": "code",
      "source": [
        "!pip install ISLP==0.3.19"
      ],
      "metadata": {
        "colab": {
          "base_uri": "https://localhost:8080/",
          "height": 1000
        },
        "id": "pSRpXwLkRD8f",
        "outputId": "e9df7b32-0aca-42c9-8760-d7adf70188b0"
      },
      "id": "pSRpXwLkRD8f",
      "execution_count": 1,
      "outputs": [
        {
          "output_type": "stream",
          "name": "stdout",
          "text": [
            "Collecting ISLP==0.3.19\n",
            "  Downloading ISLP-0.3.19-py3-none-any.whl (3.6 MB)\n",
            "\u001b[2K     \u001b[90m━━━━━━━━━━━━━━━━━━━━━━━━━━━━━━━━━━━━━━━━\u001b[0m \u001b[32m3.6/3.6 MB\u001b[0m \u001b[31m1.5 MB/s\u001b[0m eta \u001b[36m0:00:00\u001b[0m\n",
            "\u001b[?25hRequirement already satisfied: numpy<1.25,>=1.7.1 in /usr/local/lib/python3.10/dist-packages (from ISLP==0.3.19) (1.23.5)\n",
            "Requirement already satisfied: scipy>=0.9 in /usr/local/lib/python3.10/dist-packages (from ISLP==0.3.19) (1.11.3)\n",
            "Requirement already satisfied: pandas<=1.9,>=0.20 in /usr/local/lib/python3.10/dist-packages (from ISLP==0.3.19) (1.5.3)\n",
            "Requirement already satisfied: lxml in /usr/local/lib/python3.10/dist-packages (from ISLP==0.3.19) (4.9.3)\n",
            "Requirement already satisfied: scikit-learn>=1.2 in /usr/local/lib/python3.10/dist-packages (from ISLP==0.3.19) (1.2.2)\n",
            "Requirement already satisfied: joblib in /usr/local/lib/python3.10/dist-packages (from ISLP==0.3.19) (1.3.2)\n",
            "Requirement already satisfied: statsmodels>=0.13 in /usr/local/lib/python3.10/dist-packages (from ISLP==0.3.19) (0.14.0)\n",
            "Collecting lifelines (from ISLP==0.3.19)\n",
            "  Downloading lifelines-0.27.8-py3-none-any.whl (350 kB)\n",
            "\u001b[2K     \u001b[90m━━━━━━━━━━━━━━━━━━━━━━━━━━━━━━━━━━━━━━━━\u001b[0m \u001b[32m350.7/350.7 kB\u001b[0m \u001b[31m32.9 MB/s\u001b[0m eta \u001b[36m0:00:00\u001b[0m\n",
            "\u001b[?25hCollecting pygam (from ISLP==0.3.19)\n",
            "  Downloading pygam-0.9.0-py3-none-any.whl (522 kB)\n",
            "\u001b[2K     \u001b[90m━━━━━━━━━━━━━━━━━━━━━━━━━━━━━━━━━━━━━━━━\u001b[0m \u001b[32m522.2/522.2 kB\u001b[0m \u001b[31m43.4 MB/s\u001b[0m eta \u001b[36m0:00:00\u001b[0m\n",
            "\u001b[?25hRequirement already satisfied: torch in /usr/local/lib/python3.10/dist-packages (from ISLP==0.3.19) (2.1.0+cu118)\n",
            "Collecting pytorch-lightning (from ISLP==0.3.19)\n",
            "  Downloading pytorch_lightning-2.1.1-py3-none-any.whl (776 kB)\n",
            "\u001b[2K     \u001b[90m━━━━━━━━━━━━━━━━━━━━━━━━━━━━━━━━━━━━━━━━\u001b[0m \u001b[32m776.3/776.3 kB\u001b[0m \u001b[31m50.4 MB/s\u001b[0m eta \u001b[36m0:00:00\u001b[0m\n",
            "\u001b[?25hCollecting torchmetrics (from ISLP==0.3.19)\n",
            "  Downloading torchmetrics-1.2.0-py3-none-any.whl (805 kB)\n",
            "\u001b[2K     \u001b[90m━━━━━━━━━━━━━━━━━━━━━━━━━━━━━━━━━━━━━━━━\u001b[0m \u001b[32m805.2/805.2 kB\u001b[0m \u001b[31m55.1 MB/s\u001b[0m eta \u001b[36m0:00:00\u001b[0m\n",
            "\u001b[?25hRequirement already satisfied: python-dateutil>=2.8.1 in /usr/local/lib/python3.10/dist-packages (from pandas<=1.9,>=0.20->ISLP==0.3.19) (2.8.2)\n",
            "Requirement already satisfied: pytz>=2020.1 in /usr/local/lib/python3.10/dist-packages (from pandas<=1.9,>=0.20->ISLP==0.3.19) (2023.3.post1)\n",
            "Requirement already satisfied: threadpoolctl>=2.0.0 in /usr/local/lib/python3.10/dist-packages (from scikit-learn>=1.2->ISLP==0.3.19) (3.2.0)\n",
            "Requirement already satisfied: patsy>=0.5.2 in /usr/local/lib/python3.10/dist-packages (from statsmodels>=0.13->ISLP==0.3.19) (0.5.3)\n",
            "Requirement already satisfied: packaging>=21.3 in /usr/local/lib/python3.10/dist-packages (from statsmodels>=0.13->ISLP==0.3.19) (23.2)\n",
            "Requirement already satisfied: matplotlib>=3.0 in /usr/local/lib/python3.10/dist-packages (from lifelines->ISLP==0.3.19) (3.7.1)\n",
            "Requirement already satisfied: autograd>=1.5 in /usr/local/lib/python3.10/dist-packages (from lifelines->ISLP==0.3.19) (1.6.2)\n",
            "Collecting autograd-gamma>=0.3 (from lifelines->ISLP==0.3.19)\n",
            "  Downloading autograd-gamma-0.5.0.tar.gz (4.0 kB)\n",
            "  Preparing metadata (setup.py) ... \u001b[?25l\u001b[?25hdone\n",
            "Collecting formulaic>=0.2.2 (from lifelines->ISLP==0.3.19)\n",
            "  Downloading formulaic-0.6.6-py3-none-any.whl (91 kB)\n",
            "\u001b[2K     \u001b[90m━━━━━━━━━━━━━━━━━━━━━━━━━━━━━━━━━━━━━━━━\u001b[0m \u001b[32m91.0/91.0 kB\u001b[0m \u001b[31m10.6 MB/s\u001b[0m eta \u001b[36m0:00:00\u001b[0m\n",
            "\u001b[?25hCollecting numpy<1.25,>=1.7.1 (from ISLP==0.3.19)\n",
            "  Downloading numpy-1.24.4-cp310-cp310-manylinux_2_17_x86_64.manylinux2014_x86_64.whl (17.3 MB)\n",
            "\u001b[2K     \u001b[90m━━━━━━━━━━━━━━━━━━━━━━━━━━━━━━━━━━━━━━━━\u001b[0m \u001b[32m17.3/17.3 MB\u001b[0m \u001b[31m56.1 MB/s\u001b[0m eta \u001b[36m0:00:00\u001b[0m\n",
            "\u001b[?25hRequirement already satisfied: progressbar2<5.0.0,>=4.2.0 in /usr/local/lib/python3.10/dist-packages (from pygam->ISLP==0.3.19) (4.2.0)\n",
            "Requirement already satisfied: tqdm>=4.57.0 in /usr/local/lib/python3.10/dist-packages (from pytorch-lightning->ISLP==0.3.19) (4.66.1)\n",
            "Requirement already satisfied: PyYAML>=5.4 in /usr/local/lib/python3.10/dist-packages (from pytorch-lightning->ISLP==0.3.19) (6.0.1)\n",
            "Requirement already satisfied: fsspec[http]>2021.06.0 in /usr/local/lib/python3.10/dist-packages (from pytorch-lightning->ISLP==0.3.19) (2023.6.0)\n",
            "Requirement already satisfied: typing-extensions>=4.0.0 in /usr/local/lib/python3.10/dist-packages (from pytorch-lightning->ISLP==0.3.19) (4.5.0)\n",
            "Collecting lightning-utilities>=0.8.0 (from pytorch-lightning->ISLP==0.3.19)\n",
            "  Downloading lightning_utilities-0.9.0-py3-none-any.whl (23 kB)\n",
            "Requirement already satisfied: filelock in /usr/local/lib/python3.10/dist-packages (from torch->ISLP==0.3.19) (3.13.1)\n",
            "Requirement already satisfied: sympy in /usr/local/lib/python3.10/dist-packages (from torch->ISLP==0.3.19) (1.12)\n",
            "Requirement already satisfied: networkx in /usr/local/lib/python3.10/dist-packages (from torch->ISLP==0.3.19) (3.2.1)\n",
            "Requirement already satisfied: jinja2 in /usr/local/lib/python3.10/dist-packages (from torch->ISLP==0.3.19) (3.1.2)\n",
            "Requirement already satisfied: triton==2.1.0 in /usr/local/lib/python3.10/dist-packages (from torch->ISLP==0.3.19) (2.1.0)\n",
            "Requirement already satisfied: future>=0.15.2 in /usr/local/lib/python3.10/dist-packages (from autograd>=1.5->lifelines->ISLP==0.3.19) (0.18.3)\n",
            "Collecting astor>=0.8 (from formulaic>=0.2.2->lifelines->ISLP==0.3.19)\n",
            "  Downloading astor-0.8.1-py2.py3-none-any.whl (27 kB)\n",
            "Collecting interface-meta>=1.2.0 (from formulaic>=0.2.2->lifelines->ISLP==0.3.19)\n",
            "  Downloading interface_meta-1.3.0-py3-none-any.whl (14 kB)\n",
            "Requirement already satisfied: wrapt>=1.0 in /usr/local/lib/python3.10/dist-packages (from formulaic>=0.2.2->lifelines->ISLP==0.3.19) (1.14.1)\n",
            "Requirement already satisfied: requests in /usr/local/lib/python3.10/dist-packages (from fsspec[http]>2021.06.0->pytorch-lightning->ISLP==0.3.19) (2.31.0)\n",
            "Requirement already satisfied: aiohttp!=4.0.0a0,!=4.0.0a1 in /usr/local/lib/python3.10/dist-packages (from fsspec[http]>2021.06.0->pytorch-lightning->ISLP==0.3.19) (3.8.6)\n",
            "Requirement already satisfied: contourpy>=1.0.1 in /usr/local/lib/python3.10/dist-packages (from matplotlib>=3.0->lifelines->ISLP==0.3.19) (1.2.0)\n",
            "Requirement already satisfied: cycler>=0.10 in /usr/local/lib/python3.10/dist-packages (from matplotlib>=3.0->lifelines->ISLP==0.3.19) (0.12.1)\n",
            "Requirement already satisfied: fonttools>=4.22.0 in /usr/local/lib/python3.10/dist-packages (from matplotlib>=3.0->lifelines->ISLP==0.3.19) (4.44.0)\n",
            "Requirement already satisfied: kiwisolver>=1.0.1 in /usr/local/lib/python3.10/dist-packages (from matplotlib>=3.0->lifelines->ISLP==0.3.19) (1.4.5)\n",
            "Requirement already satisfied: pillow>=6.2.0 in /usr/local/lib/python3.10/dist-packages (from matplotlib>=3.0->lifelines->ISLP==0.3.19) (9.4.0)\n",
            "Requirement already satisfied: pyparsing>=2.3.1 in /usr/local/lib/python3.10/dist-packages (from matplotlib>=3.0->lifelines->ISLP==0.3.19) (3.1.1)\n",
            "Requirement already satisfied: six in /usr/local/lib/python3.10/dist-packages (from patsy>=0.5.2->statsmodels>=0.13->ISLP==0.3.19) (1.16.0)\n",
            "Requirement already satisfied: python-utils>=3.0.0 in /usr/local/lib/python3.10/dist-packages (from progressbar2<5.0.0,>=4.2.0->pygam->ISLP==0.3.19) (3.8.1)\n",
            "Requirement already satisfied: MarkupSafe>=2.0 in /usr/local/lib/python3.10/dist-packages (from jinja2->torch->ISLP==0.3.19) (2.1.3)\n",
            "Requirement already satisfied: mpmath>=0.19 in /usr/local/lib/python3.10/dist-packages (from sympy->torch->ISLP==0.3.19) (1.3.0)\n",
            "Requirement already satisfied: attrs>=17.3.0 in /usr/local/lib/python3.10/dist-packages (from aiohttp!=4.0.0a0,!=4.0.0a1->fsspec[http]>2021.06.0->pytorch-lightning->ISLP==0.3.19) (23.1.0)\n",
            "Requirement already satisfied: charset-normalizer<4.0,>=2.0 in /usr/local/lib/python3.10/dist-packages (from aiohttp!=4.0.0a0,!=4.0.0a1->fsspec[http]>2021.06.0->pytorch-lightning->ISLP==0.3.19) (3.3.2)\n",
            "Requirement already satisfied: multidict<7.0,>=4.5 in /usr/local/lib/python3.10/dist-packages (from aiohttp!=4.0.0a0,!=4.0.0a1->fsspec[http]>2021.06.0->pytorch-lightning->ISLP==0.3.19) (6.0.4)\n",
            "Requirement already satisfied: async-timeout<5.0,>=4.0.0a3 in /usr/local/lib/python3.10/dist-packages (from aiohttp!=4.0.0a0,!=4.0.0a1->fsspec[http]>2021.06.0->pytorch-lightning->ISLP==0.3.19) (4.0.3)\n",
            "Requirement already satisfied: yarl<2.0,>=1.0 in /usr/local/lib/python3.10/dist-packages (from aiohttp!=4.0.0a0,!=4.0.0a1->fsspec[http]>2021.06.0->pytorch-lightning->ISLP==0.3.19) (1.9.2)\n",
            "Requirement already satisfied: frozenlist>=1.1.1 in /usr/local/lib/python3.10/dist-packages (from aiohttp!=4.0.0a0,!=4.0.0a1->fsspec[http]>2021.06.0->pytorch-lightning->ISLP==0.3.19) (1.4.0)\n",
            "Requirement already satisfied: aiosignal>=1.1.2 in /usr/local/lib/python3.10/dist-packages (from aiohttp!=4.0.0a0,!=4.0.0a1->fsspec[http]>2021.06.0->pytorch-lightning->ISLP==0.3.19) (1.3.1)\n",
            "Requirement already satisfied: idna<4,>=2.5 in /usr/local/lib/python3.10/dist-packages (from requests->fsspec[http]>2021.06.0->pytorch-lightning->ISLP==0.3.19) (3.4)\n",
            "Requirement already satisfied: urllib3<3,>=1.21.1 in /usr/local/lib/python3.10/dist-packages (from requests->fsspec[http]>2021.06.0->pytorch-lightning->ISLP==0.3.19) (2.0.7)\n",
            "Requirement already satisfied: certifi>=2017.4.17 in /usr/local/lib/python3.10/dist-packages (from requests->fsspec[http]>2021.06.0->pytorch-lightning->ISLP==0.3.19) (2023.7.22)\n",
            "Building wheels for collected packages: autograd-gamma\n",
            "  Building wheel for autograd-gamma (setup.py) ... \u001b[?25l\u001b[?25hdone\n",
            "  Created wheel for autograd-gamma: filename=autograd_gamma-0.5.0-py3-none-any.whl size=4030 sha256=269f01dce7a451dd2c53c8c0e67b2c43d4969b30546dd9f2871e366d85e02e36\n",
            "  Stored in directory: /root/.cache/pip/wheels/25/cc/e0/ef2969164144c899fedb22b338f6703e2b9cf46eeebf254991\n",
            "Successfully built autograd-gamma\n",
            "Installing collected packages: numpy, lightning-utilities, interface-meta, astor, torchmetrics, pygam, formulaic, autograd-gamma, pytorch-lightning, lifelines, ISLP\n",
            "  Attempting uninstall: numpy\n",
            "    Found existing installation: numpy 1.23.5\n",
            "    Uninstalling numpy-1.23.5:\n",
            "      Successfully uninstalled numpy-1.23.5\n",
            "\u001b[31mERROR: pip's dependency resolver does not currently take into account all the packages that are installed. This behaviour is the source of the following dependency conflicts.\n",
            "lida 0.0.10 requires fastapi, which is not installed.\n",
            "lida 0.0.10 requires kaleido, which is not installed.\n",
            "lida 0.0.10 requires python-multipart, which is not installed.\n",
            "lida 0.0.10 requires uvicorn, which is not installed.\u001b[0m\u001b[31m\n",
            "\u001b[0mSuccessfully installed ISLP-0.3.19 astor-0.8.1 autograd-gamma-0.5.0 formulaic-0.6.6 interface-meta-1.3.0 lifelines-0.27.8 lightning-utilities-0.9.0 numpy-1.24.4 pygam-0.9.0 pytorch-lightning-2.1.1 torchmetrics-1.2.0\n"
          ]
        },
        {
          "output_type": "display_data",
          "data": {
            "application/vnd.colab-display-data+json": {
              "pip_warning": {
                "packages": [
                  "numpy"
                ]
              }
            }
          },
          "metadata": {}
        }
      ]
    },
    {
      "cell_type": "code",
      "execution_count": 1,
      "id": "6d5ba583",
      "metadata": {
        "execution": {},
        "lines_to_next_cell": 0,
        "id": "6d5ba583"
      },
      "outputs": [],
      "source": [
        "import numpy as np\n",
        "import pandas as pd\n",
        "import matplotlib.pyplot as plt\n",
        "from statsmodels.datasets import get_rdataset\n",
        "from sklearn.decomposition import PCA\n",
        "from sklearn.preprocessing import StandardScaler\n",
        "import sklearn.linear_model as skl\n",
        "from ISLP import load_data\n"
      ]
    },
    {
      "cell_type": "markdown",
      "id": "d01ab033",
      "metadata": {
        "id": "d01ab033"
      },
      "source": [
        "We also collect the other imports\n",
        "needed for PCR."
      ]
    },
    {
      "cell_type": "code",
      "execution_count": 2,
      "id": "64c83257",
      "metadata": {
        "execution": {},
        "id": "64c83257"
      },
      "outputs": [],
      "source": [
        "from sklearn.pipeline import Pipeline\n",
        "from sklearn.cross_decomposition import PLSRegression\n",
        "from ISLP.models import ModelSpec as MS\n",
        "import sklearn.model_selection as skm\n",
        "from matplotlib.pyplot import subplots\n"
      ]
    },
    {
      "cell_type": "markdown",
      "source": [
        "## Principal Components Analysis"
      ],
      "metadata": {
        "id": "X-InWlCvIeUT"
      },
      "id": "X-InWlCvIeUT"
    },
    {
      "cell_type": "markdown",
      "id": "da4201dc",
      "metadata": {
        "id": "da4201dc"
      },
      "source": [
        "\n",
        "\n",
        "### USArrest Data\n",
        "In this lab, we perform PCA on  `USArrests`, a data set in the\n",
        "`R` computing environment.\n",
        "We retrieve the data using `get_rdataset()`, which can fetch data from\n",
        "many standard `R` packages.\n",
        "\n",
        "The rows of the data set contain the 50 states, in alphabetical order."
      ]
    },
    {
      "cell_type": "code",
      "execution_count": 3,
      "id": "04ec4481",
      "metadata": {
        "execution": {},
        "colab": {
          "base_uri": "https://localhost:8080/",
          "height": 1000
        },
        "id": "04ec4481",
        "outputId": "3a710820-dccc-4b47-f84b-776450c10de8"
      },
      "outputs": [
        {
          "output_type": "execute_result",
          "data": {
            "text/plain": [
              "                Murder  Assault  UrbanPop  Rape\n",
              "rownames                                       \n",
              "Alabama           13.2      236        58  21.2\n",
              "Alaska            10.0      263        48  44.5\n",
              "Arizona            8.1      294        80  31.0\n",
              "Arkansas           8.8      190        50  19.5\n",
              "California         9.0      276        91  40.6\n",
              "Colorado           7.9      204        78  38.7\n",
              "Connecticut        3.3      110        77  11.1\n",
              "Delaware           5.9      238        72  15.8\n",
              "Florida           15.4      335        80  31.9\n",
              "Georgia           17.4      211        60  25.8\n",
              "Hawaii             5.3       46        83  20.2\n",
              "Idaho              2.6      120        54  14.2\n",
              "Illinois          10.4      249        83  24.0\n",
              "Indiana            7.2      113        65  21.0\n",
              "Iowa               2.2       56        57  11.3\n",
              "Kansas             6.0      115        66  18.0\n",
              "Kentucky           9.7      109        52  16.3\n",
              "Louisiana         15.4      249        66  22.2\n",
              "Maine              2.1       83        51   7.8\n",
              "Maryland          11.3      300        67  27.8\n",
              "Massachusetts      4.4      149        85  16.3\n",
              "Michigan          12.1      255        74  35.1\n",
              "Minnesota          2.7       72        66  14.9\n",
              "Mississippi       16.1      259        44  17.1\n",
              "Missouri           9.0      178        70  28.2\n",
              "Montana            6.0      109        53  16.4\n",
              "Nebraska           4.3      102        62  16.5\n",
              "Nevada            12.2      252        81  46.0\n",
              "New Hampshire      2.1       57        56   9.5\n",
              "New Jersey         7.4      159        89  18.8\n",
              "New Mexico        11.4      285        70  32.1\n",
              "New York          11.1      254        86  26.1\n",
              "North Carolina    13.0      337        45  16.1\n",
              "North Dakota       0.8       45        44   7.3\n",
              "Ohio               7.3      120        75  21.4\n",
              "Oklahoma           6.6      151        68  20.0\n",
              "Oregon             4.9      159        67  29.3\n",
              "Pennsylvania       6.3      106        72  14.9\n",
              "Rhode Island       3.4      174        87   8.3\n",
              "South Carolina    14.4      279        48  22.5\n",
              "South Dakota       3.8       86        45  12.8\n",
              "Tennessee         13.2      188        59  26.9\n",
              "Texas             12.7      201        80  25.5\n",
              "Utah               3.2      120        80  22.9\n",
              "Vermont            2.2       48        32  11.2\n",
              "Virginia           8.5      156        63  20.7\n",
              "Washington         4.0      145        73  26.2\n",
              "West Virginia      5.7       81        39   9.3\n",
              "Wisconsin          2.6       53        66  10.8\n",
              "Wyoming            6.8      161        60  15.6"
            ],
            "text/html": [
              "\n",
              "  <div id=\"df-23d4be68-0e91-4f0c-84a9-a22df3139177\" class=\"colab-df-container\">\n",
              "    <div>\n",
              "<style scoped>\n",
              "    .dataframe tbody tr th:only-of-type {\n",
              "        vertical-align: middle;\n",
              "    }\n",
              "\n",
              "    .dataframe tbody tr th {\n",
              "        vertical-align: top;\n",
              "    }\n",
              "\n",
              "    .dataframe thead th {\n",
              "        text-align: right;\n",
              "    }\n",
              "</style>\n",
              "<table border=\"1\" class=\"dataframe\">\n",
              "  <thead>\n",
              "    <tr style=\"text-align: right;\">\n",
              "      <th></th>\n",
              "      <th>Murder</th>\n",
              "      <th>Assault</th>\n",
              "      <th>UrbanPop</th>\n",
              "      <th>Rape</th>\n",
              "    </tr>\n",
              "    <tr>\n",
              "      <th>rownames</th>\n",
              "      <th></th>\n",
              "      <th></th>\n",
              "      <th></th>\n",
              "      <th></th>\n",
              "    </tr>\n",
              "  </thead>\n",
              "  <tbody>\n",
              "    <tr>\n",
              "      <th>Alabama</th>\n",
              "      <td>13.2</td>\n",
              "      <td>236</td>\n",
              "      <td>58</td>\n",
              "      <td>21.2</td>\n",
              "    </tr>\n",
              "    <tr>\n",
              "      <th>Alaska</th>\n",
              "      <td>10.0</td>\n",
              "      <td>263</td>\n",
              "      <td>48</td>\n",
              "      <td>44.5</td>\n",
              "    </tr>\n",
              "    <tr>\n",
              "      <th>Arizona</th>\n",
              "      <td>8.1</td>\n",
              "      <td>294</td>\n",
              "      <td>80</td>\n",
              "      <td>31.0</td>\n",
              "    </tr>\n",
              "    <tr>\n",
              "      <th>Arkansas</th>\n",
              "      <td>8.8</td>\n",
              "      <td>190</td>\n",
              "      <td>50</td>\n",
              "      <td>19.5</td>\n",
              "    </tr>\n",
              "    <tr>\n",
              "      <th>California</th>\n",
              "      <td>9.0</td>\n",
              "      <td>276</td>\n",
              "      <td>91</td>\n",
              "      <td>40.6</td>\n",
              "    </tr>\n",
              "    <tr>\n",
              "      <th>Colorado</th>\n",
              "      <td>7.9</td>\n",
              "      <td>204</td>\n",
              "      <td>78</td>\n",
              "      <td>38.7</td>\n",
              "    </tr>\n",
              "    <tr>\n",
              "      <th>Connecticut</th>\n",
              "      <td>3.3</td>\n",
              "      <td>110</td>\n",
              "      <td>77</td>\n",
              "      <td>11.1</td>\n",
              "    </tr>\n",
              "    <tr>\n",
              "      <th>Delaware</th>\n",
              "      <td>5.9</td>\n",
              "      <td>238</td>\n",
              "      <td>72</td>\n",
              "      <td>15.8</td>\n",
              "    </tr>\n",
              "    <tr>\n",
              "      <th>Florida</th>\n",
              "      <td>15.4</td>\n",
              "      <td>335</td>\n",
              "      <td>80</td>\n",
              "      <td>31.9</td>\n",
              "    </tr>\n",
              "    <tr>\n",
              "      <th>Georgia</th>\n",
              "      <td>17.4</td>\n",
              "      <td>211</td>\n",
              "      <td>60</td>\n",
              "      <td>25.8</td>\n",
              "    </tr>\n",
              "    <tr>\n",
              "      <th>Hawaii</th>\n",
              "      <td>5.3</td>\n",
              "      <td>46</td>\n",
              "      <td>83</td>\n",
              "      <td>20.2</td>\n",
              "    </tr>\n",
              "    <tr>\n",
              "      <th>Idaho</th>\n",
              "      <td>2.6</td>\n",
              "      <td>120</td>\n",
              "      <td>54</td>\n",
              "      <td>14.2</td>\n",
              "    </tr>\n",
              "    <tr>\n",
              "      <th>Illinois</th>\n",
              "      <td>10.4</td>\n",
              "      <td>249</td>\n",
              "      <td>83</td>\n",
              "      <td>24.0</td>\n",
              "    </tr>\n",
              "    <tr>\n",
              "      <th>Indiana</th>\n",
              "      <td>7.2</td>\n",
              "      <td>113</td>\n",
              "      <td>65</td>\n",
              "      <td>21.0</td>\n",
              "    </tr>\n",
              "    <tr>\n",
              "      <th>Iowa</th>\n",
              "      <td>2.2</td>\n",
              "      <td>56</td>\n",
              "      <td>57</td>\n",
              "      <td>11.3</td>\n",
              "    </tr>\n",
              "    <tr>\n",
              "      <th>Kansas</th>\n",
              "      <td>6.0</td>\n",
              "      <td>115</td>\n",
              "      <td>66</td>\n",
              "      <td>18.0</td>\n",
              "    </tr>\n",
              "    <tr>\n",
              "      <th>Kentucky</th>\n",
              "      <td>9.7</td>\n",
              "      <td>109</td>\n",
              "      <td>52</td>\n",
              "      <td>16.3</td>\n",
              "    </tr>\n",
              "    <tr>\n",
              "      <th>Louisiana</th>\n",
              "      <td>15.4</td>\n",
              "      <td>249</td>\n",
              "      <td>66</td>\n",
              "      <td>22.2</td>\n",
              "    </tr>\n",
              "    <tr>\n",
              "      <th>Maine</th>\n",
              "      <td>2.1</td>\n",
              "      <td>83</td>\n",
              "      <td>51</td>\n",
              "      <td>7.8</td>\n",
              "    </tr>\n",
              "    <tr>\n",
              "      <th>Maryland</th>\n",
              "      <td>11.3</td>\n",
              "      <td>300</td>\n",
              "      <td>67</td>\n",
              "      <td>27.8</td>\n",
              "    </tr>\n",
              "    <tr>\n",
              "      <th>Massachusetts</th>\n",
              "      <td>4.4</td>\n",
              "      <td>149</td>\n",
              "      <td>85</td>\n",
              "      <td>16.3</td>\n",
              "    </tr>\n",
              "    <tr>\n",
              "      <th>Michigan</th>\n",
              "      <td>12.1</td>\n",
              "      <td>255</td>\n",
              "      <td>74</td>\n",
              "      <td>35.1</td>\n",
              "    </tr>\n",
              "    <tr>\n",
              "      <th>Minnesota</th>\n",
              "      <td>2.7</td>\n",
              "      <td>72</td>\n",
              "      <td>66</td>\n",
              "      <td>14.9</td>\n",
              "    </tr>\n",
              "    <tr>\n",
              "      <th>Mississippi</th>\n",
              "      <td>16.1</td>\n",
              "      <td>259</td>\n",
              "      <td>44</td>\n",
              "      <td>17.1</td>\n",
              "    </tr>\n",
              "    <tr>\n",
              "      <th>Missouri</th>\n",
              "      <td>9.0</td>\n",
              "      <td>178</td>\n",
              "      <td>70</td>\n",
              "      <td>28.2</td>\n",
              "    </tr>\n",
              "    <tr>\n",
              "      <th>Montana</th>\n",
              "      <td>6.0</td>\n",
              "      <td>109</td>\n",
              "      <td>53</td>\n",
              "      <td>16.4</td>\n",
              "    </tr>\n",
              "    <tr>\n",
              "      <th>Nebraska</th>\n",
              "      <td>4.3</td>\n",
              "      <td>102</td>\n",
              "      <td>62</td>\n",
              "      <td>16.5</td>\n",
              "    </tr>\n",
              "    <tr>\n",
              "      <th>Nevada</th>\n",
              "      <td>12.2</td>\n",
              "      <td>252</td>\n",
              "      <td>81</td>\n",
              "      <td>46.0</td>\n",
              "    </tr>\n",
              "    <tr>\n",
              "      <th>New Hampshire</th>\n",
              "      <td>2.1</td>\n",
              "      <td>57</td>\n",
              "      <td>56</td>\n",
              "      <td>9.5</td>\n",
              "    </tr>\n",
              "    <tr>\n",
              "      <th>New Jersey</th>\n",
              "      <td>7.4</td>\n",
              "      <td>159</td>\n",
              "      <td>89</td>\n",
              "      <td>18.8</td>\n",
              "    </tr>\n",
              "    <tr>\n",
              "      <th>New Mexico</th>\n",
              "      <td>11.4</td>\n",
              "      <td>285</td>\n",
              "      <td>70</td>\n",
              "      <td>32.1</td>\n",
              "    </tr>\n",
              "    <tr>\n",
              "      <th>New York</th>\n",
              "      <td>11.1</td>\n",
              "      <td>254</td>\n",
              "      <td>86</td>\n",
              "      <td>26.1</td>\n",
              "    </tr>\n",
              "    <tr>\n",
              "      <th>North Carolina</th>\n",
              "      <td>13.0</td>\n",
              "      <td>337</td>\n",
              "      <td>45</td>\n",
              "      <td>16.1</td>\n",
              "    </tr>\n",
              "    <tr>\n",
              "      <th>North Dakota</th>\n",
              "      <td>0.8</td>\n",
              "      <td>45</td>\n",
              "      <td>44</td>\n",
              "      <td>7.3</td>\n",
              "    </tr>\n",
              "    <tr>\n",
              "      <th>Ohio</th>\n",
              "      <td>7.3</td>\n",
              "      <td>120</td>\n",
              "      <td>75</td>\n",
              "      <td>21.4</td>\n",
              "    </tr>\n",
              "    <tr>\n",
              "      <th>Oklahoma</th>\n",
              "      <td>6.6</td>\n",
              "      <td>151</td>\n",
              "      <td>68</td>\n",
              "      <td>20.0</td>\n",
              "    </tr>\n",
              "    <tr>\n",
              "      <th>Oregon</th>\n",
              "      <td>4.9</td>\n",
              "      <td>159</td>\n",
              "      <td>67</td>\n",
              "      <td>29.3</td>\n",
              "    </tr>\n",
              "    <tr>\n",
              "      <th>Pennsylvania</th>\n",
              "      <td>6.3</td>\n",
              "      <td>106</td>\n",
              "      <td>72</td>\n",
              "      <td>14.9</td>\n",
              "    </tr>\n",
              "    <tr>\n",
              "      <th>Rhode Island</th>\n",
              "      <td>3.4</td>\n",
              "      <td>174</td>\n",
              "      <td>87</td>\n",
              "      <td>8.3</td>\n",
              "    </tr>\n",
              "    <tr>\n",
              "      <th>South Carolina</th>\n",
              "      <td>14.4</td>\n",
              "      <td>279</td>\n",
              "      <td>48</td>\n",
              "      <td>22.5</td>\n",
              "    </tr>\n",
              "    <tr>\n",
              "      <th>South Dakota</th>\n",
              "      <td>3.8</td>\n",
              "      <td>86</td>\n",
              "      <td>45</td>\n",
              "      <td>12.8</td>\n",
              "    </tr>\n",
              "    <tr>\n",
              "      <th>Tennessee</th>\n",
              "      <td>13.2</td>\n",
              "      <td>188</td>\n",
              "      <td>59</td>\n",
              "      <td>26.9</td>\n",
              "    </tr>\n",
              "    <tr>\n",
              "      <th>Texas</th>\n",
              "      <td>12.7</td>\n",
              "      <td>201</td>\n",
              "      <td>80</td>\n",
              "      <td>25.5</td>\n",
              "    </tr>\n",
              "    <tr>\n",
              "      <th>Utah</th>\n",
              "      <td>3.2</td>\n",
              "      <td>120</td>\n",
              "      <td>80</td>\n",
              "      <td>22.9</td>\n",
              "    </tr>\n",
              "    <tr>\n",
              "      <th>Vermont</th>\n",
              "      <td>2.2</td>\n",
              "      <td>48</td>\n",
              "      <td>32</td>\n",
              "      <td>11.2</td>\n",
              "    </tr>\n",
              "    <tr>\n",
              "      <th>Virginia</th>\n",
              "      <td>8.5</td>\n",
              "      <td>156</td>\n",
              "      <td>63</td>\n",
              "      <td>20.7</td>\n",
              "    </tr>\n",
              "    <tr>\n",
              "      <th>Washington</th>\n",
              "      <td>4.0</td>\n",
              "      <td>145</td>\n",
              "      <td>73</td>\n",
              "      <td>26.2</td>\n",
              "    </tr>\n",
              "    <tr>\n",
              "      <th>West Virginia</th>\n",
              "      <td>5.7</td>\n",
              "      <td>81</td>\n",
              "      <td>39</td>\n",
              "      <td>9.3</td>\n",
              "    </tr>\n",
              "    <tr>\n",
              "      <th>Wisconsin</th>\n",
              "      <td>2.6</td>\n",
              "      <td>53</td>\n",
              "      <td>66</td>\n",
              "      <td>10.8</td>\n",
              "    </tr>\n",
              "    <tr>\n",
              "      <th>Wyoming</th>\n",
              "      <td>6.8</td>\n",
              "      <td>161</td>\n",
              "      <td>60</td>\n",
              "      <td>15.6</td>\n",
              "    </tr>\n",
              "  </tbody>\n",
              "</table>\n",
              "</div>\n",
              "    <div class=\"colab-df-buttons\">\n",
              "\n",
              "  <div class=\"colab-df-container\">\n",
              "    <button class=\"colab-df-convert\" onclick=\"convertToInteractive('df-23d4be68-0e91-4f0c-84a9-a22df3139177')\"\n",
              "            title=\"Convert this dataframe to an interactive table.\"\n",
              "            style=\"display:none;\">\n",
              "\n",
              "  <svg xmlns=\"http://www.w3.org/2000/svg\" height=\"24px\" viewBox=\"0 -960 960 960\">\n",
              "    <path d=\"M120-120v-720h720v720H120Zm60-500h600v-160H180v160Zm220 220h160v-160H400v160Zm0 220h160v-160H400v160ZM180-400h160v-160H180v160Zm440 0h160v-160H620v160ZM180-180h160v-160H180v160Zm440 0h160v-160H620v160Z\"/>\n",
              "  </svg>\n",
              "    </button>\n",
              "\n",
              "  <style>\n",
              "    .colab-df-container {\n",
              "      display:flex;\n",
              "      gap: 12px;\n",
              "    }\n",
              "\n",
              "    .colab-df-convert {\n",
              "      background-color: #E8F0FE;\n",
              "      border: none;\n",
              "      border-radius: 50%;\n",
              "      cursor: pointer;\n",
              "      display: none;\n",
              "      fill: #1967D2;\n",
              "      height: 32px;\n",
              "      padding: 0 0 0 0;\n",
              "      width: 32px;\n",
              "    }\n",
              "\n",
              "    .colab-df-convert:hover {\n",
              "      background-color: #E2EBFA;\n",
              "      box-shadow: 0px 1px 2px rgba(60, 64, 67, 0.3), 0px 1px 3px 1px rgba(60, 64, 67, 0.15);\n",
              "      fill: #174EA6;\n",
              "    }\n",
              "\n",
              "    .colab-df-buttons div {\n",
              "      margin-bottom: 4px;\n",
              "    }\n",
              "\n",
              "    [theme=dark] .colab-df-convert {\n",
              "      background-color: #3B4455;\n",
              "      fill: #D2E3FC;\n",
              "    }\n",
              "\n",
              "    [theme=dark] .colab-df-convert:hover {\n",
              "      background-color: #434B5C;\n",
              "      box-shadow: 0px 1px 3px 1px rgba(0, 0, 0, 0.15);\n",
              "      filter: drop-shadow(0px 1px 2px rgba(0, 0, 0, 0.3));\n",
              "      fill: #FFFFFF;\n",
              "    }\n",
              "  </style>\n",
              "\n",
              "    <script>\n",
              "      const buttonEl =\n",
              "        document.querySelector('#df-23d4be68-0e91-4f0c-84a9-a22df3139177 button.colab-df-convert');\n",
              "      buttonEl.style.display =\n",
              "        google.colab.kernel.accessAllowed ? 'block' : 'none';\n",
              "\n",
              "      async function convertToInteractive(key) {\n",
              "        const element = document.querySelector('#df-23d4be68-0e91-4f0c-84a9-a22df3139177');\n",
              "        const dataTable =\n",
              "          await google.colab.kernel.invokeFunction('convertToInteractive',\n",
              "                                                    [key], {});\n",
              "        if (!dataTable) return;\n",
              "\n",
              "        const docLinkHtml = 'Like what you see? Visit the ' +\n",
              "          '<a target=\"_blank\" href=https://colab.research.google.com/notebooks/data_table.ipynb>data table notebook</a>'\n",
              "          + ' to learn more about interactive tables.';\n",
              "        element.innerHTML = '';\n",
              "        dataTable['output_type'] = 'display_data';\n",
              "        await google.colab.output.renderOutput(dataTable, element);\n",
              "        const docLink = document.createElement('div');\n",
              "        docLink.innerHTML = docLinkHtml;\n",
              "        element.appendChild(docLink);\n",
              "      }\n",
              "    </script>\n",
              "  </div>\n",
              "\n",
              "\n",
              "<div id=\"df-d861bcc6-20ad-44c6-9aa5-400875b5122f\">\n",
              "  <button class=\"colab-df-quickchart\" onclick=\"quickchart('df-d861bcc6-20ad-44c6-9aa5-400875b5122f')\"\n",
              "            title=\"Suggest charts\"\n",
              "            style=\"display:none;\">\n",
              "\n",
              "<svg xmlns=\"http://www.w3.org/2000/svg\" height=\"24px\"viewBox=\"0 0 24 24\"\n",
              "     width=\"24px\">\n",
              "    <g>\n",
              "        <path d=\"M19 3H5c-1.1 0-2 .9-2 2v14c0 1.1.9 2 2 2h14c1.1 0 2-.9 2-2V5c0-1.1-.9-2-2-2zM9 17H7v-7h2v7zm4 0h-2V7h2v10zm4 0h-2v-4h2v4z\"/>\n",
              "    </g>\n",
              "</svg>\n",
              "  </button>\n",
              "\n",
              "<style>\n",
              "  .colab-df-quickchart {\n",
              "      --bg-color: #E8F0FE;\n",
              "      --fill-color: #1967D2;\n",
              "      --hover-bg-color: #E2EBFA;\n",
              "      --hover-fill-color: #174EA6;\n",
              "      --disabled-fill-color: #AAA;\n",
              "      --disabled-bg-color: #DDD;\n",
              "  }\n",
              "\n",
              "  [theme=dark] .colab-df-quickchart {\n",
              "      --bg-color: #3B4455;\n",
              "      --fill-color: #D2E3FC;\n",
              "      --hover-bg-color: #434B5C;\n",
              "      --hover-fill-color: #FFFFFF;\n",
              "      --disabled-bg-color: #3B4455;\n",
              "      --disabled-fill-color: #666;\n",
              "  }\n",
              "\n",
              "  .colab-df-quickchart {\n",
              "    background-color: var(--bg-color);\n",
              "    border: none;\n",
              "    border-radius: 50%;\n",
              "    cursor: pointer;\n",
              "    display: none;\n",
              "    fill: var(--fill-color);\n",
              "    height: 32px;\n",
              "    padding: 0;\n",
              "    width: 32px;\n",
              "  }\n",
              "\n",
              "  .colab-df-quickchart:hover {\n",
              "    background-color: var(--hover-bg-color);\n",
              "    box-shadow: 0 1px 2px rgba(60, 64, 67, 0.3), 0 1px 3px 1px rgba(60, 64, 67, 0.15);\n",
              "    fill: var(--button-hover-fill-color);\n",
              "  }\n",
              "\n",
              "  .colab-df-quickchart-complete:disabled,\n",
              "  .colab-df-quickchart-complete:disabled:hover {\n",
              "    background-color: var(--disabled-bg-color);\n",
              "    fill: var(--disabled-fill-color);\n",
              "    box-shadow: none;\n",
              "  }\n",
              "\n",
              "  .colab-df-spinner {\n",
              "    border: 2px solid var(--fill-color);\n",
              "    border-color: transparent;\n",
              "    border-bottom-color: var(--fill-color);\n",
              "    animation:\n",
              "      spin 1s steps(1) infinite;\n",
              "  }\n",
              "\n",
              "  @keyframes spin {\n",
              "    0% {\n",
              "      border-color: transparent;\n",
              "      border-bottom-color: var(--fill-color);\n",
              "      border-left-color: var(--fill-color);\n",
              "    }\n",
              "    20% {\n",
              "      border-color: transparent;\n",
              "      border-left-color: var(--fill-color);\n",
              "      border-top-color: var(--fill-color);\n",
              "    }\n",
              "    30% {\n",
              "      border-color: transparent;\n",
              "      border-left-color: var(--fill-color);\n",
              "      border-top-color: var(--fill-color);\n",
              "      border-right-color: var(--fill-color);\n",
              "    }\n",
              "    40% {\n",
              "      border-color: transparent;\n",
              "      border-right-color: var(--fill-color);\n",
              "      border-top-color: var(--fill-color);\n",
              "    }\n",
              "    60% {\n",
              "      border-color: transparent;\n",
              "      border-right-color: var(--fill-color);\n",
              "    }\n",
              "    80% {\n",
              "      border-color: transparent;\n",
              "      border-right-color: var(--fill-color);\n",
              "      border-bottom-color: var(--fill-color);\n",
              "    }\n",
              "    90% {\n",
              "      border-color: transparent;\n",
              "      border-bottom-color: var(--fill-color);\n",
              "    }\n",
              "  }\n",
              "</style>\n",
              "\n",
              "  <script>\n",
              "    async function quickchart(key) {\n",
              "      const quickchartButtonEl =\n",
              "        document.querySelector('#' + key + ' button');\n",
              "      quickchartButtonEl.disabled = true;  // To prevent multiple clicks.\n",
              "      quickchartButtonEl.classList.add('colab-df-spinner');\n",
              "      try {\n",
              "        const charts = await google.colab.kernel.invokeFunction(\n",
              "            'suggestCharts', [key], {});\n",
              "      } catch (error) {\n",
              "        console.error('Error during call to suggestCharts:', error);\n",
              "      }\n",
              "      quickchartButtonEl.classList.remove('colab-df-spinner');\n",
              "      quickchartButtonEl.classList.add('colab-df-quickchart-complete');\n",
              "    }\n",
              "    (() => {\n",
              "      let quickchartButtonEl =\n",
              "        document.querySelector('#df-d861bcc6-20ad-44c6-9aa5-400875b5122f button');\n",
              "      quickchartButtonEl.style.display =\n",
              "        google.colab.kernel.accessAllowed ? 'block' : 'none';\n",
              "    })();\n",
              "  </script>\n",
              "</div>\n",
              "    </div>\n",
              "  </div>\n"
            ]
          },
          "metadata": {},
          "execution_count": 3
        }
      ],
      "source": [
        "USArrests = get_rdataset('USArrests').data\n",
        "\n",
        "# columns represent different variables\n",
        "# and rows represent different states in the US\n",
        "USArrests\n"
      ]
    },
    {
      "cell_type": "code",
      "source": [
        "USArrests.shape"
      ],
      "metadata": {
        "colab": {
          "base_uri": "https://localhost:8080/"
        },
        "id": "q4hsat4YWNGx",
        "outputId": "91d90c14-3272-45a3-eca9-4c73cd4e7a94"
      },
      "id": "q4hsat4YWNGx",
      "execution_count": 4,
      "outputs": [
        {
          "output_type": "execute_result",
          "data": {
            "text/plain": [
              "(50, 4)"
            ]
          },
          "metadata": {},
          "execution_count": 4
        }
      ]
    },
    {
      "cell_type": "markdown",
      "id": "02805a1a",
      "metadata": {
        "id": "02805a1a"
      },
      "source": [
        "The columns of the data set contain the four variables."
      ]
    },
    {
      "cell_type": "code",
      "execution_count": 5,
      "id": "1b66036a",
      "metadata": {
        "execution": {},
        "colab": {
          "base_uri": "https://localhost:8080/"
        },
        "id": "1b66036a",
        "outputId": "2b241b59-0e9e-4a73-822e-47f5086c1ae0"
      },
      "outputs": [
        {
          "output_type": "execute_result",
          "data": {
            "text/plain": [
              "Index(['Murder', 'Assault', 'UrbanPop', 'Rape'], dtype='object')"
            ]
          },
          "metadata": {},
          "execution_count": 5
        }
      ],
      "source": [
        "USArrests.columns\n"
      ]
    },
    {
      "cell_type": "markdown",
      "id": "3decadf1",
      "metadata": {
        "id": "3decadf1"
      },
      "source": [
        "We first briefly examine the data. We notice that the variables have vastly different means."
      ]
    },
    {
      "cell_type": "code",
      "execution_count": 6,
      "id": "52e900fd",
      "metadata": {
        "execution": {},
        "lines_to_next_cell": 2,
        "colab": {
          "base_uri": "https://localhost:8080/"
        },
        "id": "52e900fd",
        "outputId": "600819b5-e226-4deb-ebb1-4eddd6b6e879"
      },
      "outputs": [
        {
          "output_type": "execute_result",
          "data": {
            "text/plain": [
              "Murder        7.788\n",
              "Assault     170.760\n",
              "UrbanPop     65.540\n",
              "Rape         21.232\n",
              "dtype: float64"
            ]
          },
          "metadata": {},
          "execution_count": 6
        }
      ],
      "source": [
        "USArrests.mean()\n"
      ]
    },
    {
      "cell_type": "markdown",
      "id": "27d011da",
      "metadata": {
        "id": "27d011da"
      },
      "source": [
        "Dataframes have several useful methods for computing\n",
        "column-wise summaries. We can also examine the\n",
        "variance of the four variables using the `var()`  method."
      ]
    },
    {
      "cell_type": "code",
      "execution_count": 7,
      "id": "68684f78",
      "metadata": {
        "execution": {},
        "colab": {
          "base_uri": "https://localhost:8080/"
        },
        "id": "68684f78",
        "outputId": "b3e93d35-6d94-4cc7-d034-9c5117f07b82"
      },
      "outputs": [
        {
          "output_type": "execute_result",
          "data": {
            "text/plain": [
              "Murder        18.970465\n",
              "Assault     6945.165714\n",
              "UrbanPop     209.518776\n",
              "Rape          87.729159\n",
              "dtype: float64"
            ]
          },
          "metadata": {},
          "execution_count": 7
        }
      ],
      "source": [
        "USArrests.var()\n"
      ]
    },
    {
      "cell_type": "markdown",
      "id": "ef3003e0",
      "metadata": {
        "id": "ef3003e0"
      },
      "source": [
        "Not surprisingly, the variables also have vastly different variances.\n",
        "The `UrbanPop` variable measures the percentage of the population\n",
        "in each state living in an urban area, which is not a comparable\n",
        "number to the number of rapes in each state per 100,000 individuals.\n",
        "\n",
        "PCA looks for derived variables that account for most of the variance in the data set.\n",
        "If we do not scale the variables before performing PCA, then the principal components\n",
        "would mostly be driven by the\n",
        "`Assault` variable, since it has by far the largest\n",
        "variance.  So if the variables are measured in different units or vary widely in scale, it is recommended to standardize the variables to have standard deviation one before performing PCA.\n",
        "Typically we set the means to zero as well.\n",
        "\n",
        "This scaling can be done via the `StandardScaler()` transform imported above. We first `fit` the\n",
        "scaler, which computes the necessary means and standard\n",
        "deviations and then apply it to our data using the\n",
        "`transform` method. As before, we combine these steps using the `fit_transform()` method.\n"
      ]
    },
    {
      "cell_type": "code",
      "execution_count": 8,
      "id": "d2b7caf9",
      "metadata": {
        "execution": {},
        "lines_to_next_cell": 0,
        "id": "d2b7caf9"
      },
      "outputs": [],
      "source": [
        "# creates a StandardScaler object, and standardize the data\n",
        "# by subtracting mean and dividing by standard deviation of each feature\n",
        "scaler = StandardScaler(with_std=True, with_mean=True)\n",
        "USArrests_scaled = scaler.fit_transform(USArrests) # transform data to zero mean, unit variance\n"
      ]
    },
    {
      "cell_type": "markdown",
      "id": "54c90b5c",
      "metadata": {
        "id": "54c90b5c"
      },
      "source": [
        "Having scaled the data, we can then\n",
        "perform principal components analysis using the `PCA()` transform\n",
        "from the `sklearn.decomposition` package."
      ]
    },
    {
      "cell_type": "code",
      "execution_count": 9,
      "id": "de8f57fa",
      "metadata": {
        "execution": {},
        "lines_to_next_cell": 0,
        "id": "de8f57fa"
      },
      "outputs": [],
      "source": [
        "# creates a PCA object\n",
        "pcaUS = PCA()\n"
      ]
    },
    {
      "cell_type": "markdown",
      "id": "42bd0a96",
      "metadata": {
        "id": "42bd0a96"
      },
      "source": [
        "(By default, the `PCA()`  transform centers the variables to have\n",
        "mean zero though it does not scale them.) The transform `pcaUS`\n",
        "can be used to find the PCA\n",
        "`scores` returned by `fit()`. Once the `fit` method has been called, the `pcaUS` object also contains a number of useful quantities."
      ]
    },
    {
      "cell_type": "code",
      "execution_count": 10,
      "id": "26c45f1e",
      "metadata": {
        "execution": {},
        "colab": {
          "base_uri": "https://localhost:8080/",
          "height": 74
        },
        "id": "26c45f1e",
        "outputId": "0d3dd942-a943-45cd-f251-2026c87aa13d"
      },
      "outputs": [
        {
          "output_type": "execute_result",
          "data": {
            "text/plain": [
              "PCA()"
            ],
            "text/html": [
              "<style>#sk-container-id-1 {color: black;background-color: white;}#sk-container-id-1 pre{padding: 0;}#sk-container-id-1 div.sk-toggleable {background-color: white;}#sk-container-id-1 label.sk-toggleable__label {cursor: pointer;display: block;width: 100%;margin-bottom: 0;padding: 0.3em;box-sizing: border-box;text-align: center;}#sk-container-id-1 label.sk-toggleable__label-arrow:before {content: \"▸\";float: left;margin-right: 0.25em;color: #696969;}#sk-container-id-1 label.sk-toggleable__label-arrow:hover:before {color: black;}#sk-container-id-1 div.sk-estimator:hover label.sk-toggleable__label-arrow:before {color: black;}#sk-container-id-1 div.sk-toggleable__content {max-height: 0;max-width: 0;overflow: hidden;text-align: left;background-color: #f0f8ff;}#sk-container-id-1 div.sk-toggleable__content pre {margin: 0.2em;color: black;border-radius: 0.25em;background-color: #f0f8ff;}#sk-container-id-1 input.sk-toggleable__control:checked~div.sk-toggleable__content {max-height: 200px;max-width: 100%;overflow: auto;}#sk-container-id-1 input.sk-toggleable__control:checked~label.sk-toggleable__label-arrow:before {content: \"▾\";}#sk-container-id-1 div.sk-estimator input.sk-toggleable__control:checked~label.sk-toggleable__label {background-color: #d4ebff;}#sk-container-id-1 div.sk-label input.sk-toggleable__control:checked~label.sk-toggleable__label {background-color: #d4ebff;}#sk-container-id-1 input.sk-hidden--visually {border: 0;clip: rect(1px 1px 1px 1px);clip: rect(1px, 1px, 1px, 1px);height: 1px;margin: -1px;overflow: hidden;padding: 0;position: absolute;width: 1px;}#sk-container-id-1 div.sk-estimator {font-family: monospace;background-color: #f0f8ff;border: 1px dotted black;border-radius: 0.25em;box-sizing: border-box;margin-bottom: 0.5em;}#sk-container-id-1 div.sk-estimator:hover {background-color: #d4ebff;}#sk-container-id-1 div.sk-parallel-item::after {content: \"\";width: 100%;border-bottom: 1px solid gray;flex-grow: 1;}#sk-container-id-1 div.sk-label:hover label.sk-toggleable__label {background-color: #d4ebff;}#sk-container-id-1 div.sk-serial::before {content: \"\";position: absolute;border-left: 1px solid gray;box-sizing: border-box;top: 0;bottom: 0;left: 50%;z-index: 0;}#sk-container-id-1 div.sk-serial {display: flex;flex-direction: column;align-items: center;background-color: white;padding-right: 0.2em;padding-left: 0.2em;position: relative;}#sk-container-id-1 div.sk-item {position: relative;z-index: 1;}#sk-container-id-1 div.sk-parallel {display: flex;align-items: stretch;justify-content: center;background-color: white;position: relative;}#sk-container-id-1 div.sk-item::before, #sk-container-id-1 div.sk-parallel-item::before {content: \"\";position: absolute;border-left: 1px solid gray;box-sizing: border-box;top: 0;bottom: 0;left: 50%;z-index: -1;}#sk-container-id-1 div.sk-parallel-item {display: flex;flex-direction: column;z-index: 1;position: relative;background-color: white;}#sk-container-id-1 div.sk-parallel-item:first-child::after {align-self: flex-end;width: 50%;}#sk-container-id-1 div.sk-parallel-item:last-child::after {align-self: flex-start;width: 50%;}#sk-container-id-1 div.sk-parallel-item:only-child::after {width: 0;}#sk-container-id-1 div.sk-dashed-wrapped {border: 1px dashed gray;margin: 0 0.4em 0.5em 0.4em;box-sizing: border-box;padding-bottom: 0.4em;background-color: white;}#sk-container-id-1 div.sk-label label {font-family: monospace;font-weight: bold;display: inline-block;line-height: 1.2em;}#sk-container-id-1 div.sk-label-container {text-align: center;}#sk-container-id-1 div.sk-container {/* jupyter's `normalize.less` sets `[hidden] { display: none; }` but bootstrap.min.css set `[hidden] { display: none !important; }` so we also need the `!important` here to be able to override the default hidden behavior on the sphinx rendered scikit-learn.org. See: https://github.com/scikit-learn/scikit-learn/issues/21755 */display: inline-block !important;position: relative;}#sk-container-id-1 div.sk-text-repr-fallback {display: none;}</style><div id=\"sk-container-id-1\" class=\"sk-top-container\"><div class=\"sk-text-repr-fallback\"><pre>PCA()</pre><b>In a Jupyter environment, please rerun this cell to show the HTML representation or trust the notebook. <br />On GitHub, the HTML representation is unable to render, please try loading this page with nbviewer.org.</b></div><div class=\"sk-container\" hidden><div class=\"sk-item\"><div class=\"sk-estimator sk-toggleable\"><input class=\"sk-toggleable__control sk-hidden--visually\" id=\"sk-estimator-id-1\" type=\"checkbox\" checked><label for=\"sk-estimator-id-1\" class=\"sk-toggleable__label sk-toggleable__label-arrow\">PCA</label><div class=\"sk-toggleable__content\"><pre>PCA()</pre></div></div></div></div></div>"
            ]
          },
          "metadata": {},
          "execution_count": 10
        }
      ],
      "source": [
        "# fits the PCA model to the standardized data\n",
        "pcaUS.fit(USArrests_scaled)\n"
      ]
    },
    {
      "cell_type": "markdown",
      "id": "a68b81f5",
      "metadata": {
        "id": "a68b81f5"
      },
      "source": [
        "After fitting, the `mean_` attribute corresponds to the means\n",
        "of the variables. In this case, since we centered and scaled the data with\n",
        "`scaler()` the means will all be 0."
      ]
    },
    {
      "cell_type": "code",
      "execution_count": 11,
      "id": "3097e99d",
      "metadata": {
        "execution": {},
        "colab": {
          "base_uri": "https://localhost:8080/"
        },
        "id": "3097e99d",
        "outputId": "7ffb2615-c0a4-4799-fd7b-bdc33d9bf1d7"
      },
      "outputs": [
        {
          "output_type": "execute_result",
          "data": {
            "text/plain": [
              "array([-7.10542736e-17,  1.38777878e-16, -4.39648318e-16,  8.59312621e-16])"
            ]
          },
          "metadata": {},
          "execution_count": 11
        }
      ],
      "source": [
        "pcaUS.mean_\n"
      ]
    },
    {
      "cell_type": "markdown",
      "id": "0c81e463",
      "metadata": {
        "id": "0c81e463"
      },
      "source": [
        "The scores can be computed using the `transform()` method\n",
        "of `pcaUS` after it has been fit."
      ]
    },
    {
      "cell_type": "code",
      "execution_count": 12,
      "id": "c071a242",
      "metadata": {
        "execution": {},
        "lines_to_next_cell": 0,
        "id": "c071a242"
      },
      "outputs": [],
      "source": [
        "# apply PCA to standardized data to obtain PC scores\n",
        "scores = pcaUS.transform(USArrests_scaled)\n"
      ]
    },
    {
      "cell_type": "markdown",
      "id": "84581683",
      "metadata": {
        "id": "84581683"
      },
      "source": [
        "We will plot these scores a bit further down.\n",
        "The `components_` attribute provides the principal component loadings:\n",
        "each row of `pcaUS.components_` contains the corresponding\n",
        "principal component loading vector.\n"
      ]
    },
    {
      "cell_type": "code",
      "execution_count": 13,
      "id": "c9bcab06",
      "metadata": {
        "execution": {},
        "colab": {
          "base_uri": "https://localhost:8080/"
        },
        "id": "c9bcab06",
        "outputId": "b640e2fa-6472-42cb-e1a6-77dec1fe129f"
      },
      "outputs": [
        {
          "output_type": "execute_result",
          "data": {
            "text/plain": [
              "array([[ 0.53589947,  0.58318363,  0.27819087,  0.54343209],\n",
              "       [ 0.41818087,  0.1879856 , -0.87280619, -0.16731864],\n",
              "       [-0.34123273, -0.26814843, -0.37801579,  0.81777791],\n",
              "       [ 0.6492278 , -0.74340748,  0.13387773,  0.08902432]])"
            ]
          },
          "metadata": {},
          "execution_count": 13
        }
      ],
      "source": [
        "# display the PCs of the fitted PCA model:\n",
        "# Each row represents a principal component,\n",
        "# Each column represents a feature from the original dataset\n",
        "pcaUS.components_\n"
      ]
    },
    {
      "cell_type": "markdown",
      "id": "9dec4ca1",
      "metadata": {
        "id": "9dec4ca1"
      },
      "source": [
        "The `biplot`  is a common visualization method used with\n",
        "PCA. It is not built in as a standard\n",
        "part of `sklearn`, though there are python\n",
        "packages that do produce such plots. Here we\n",
        "make a simple biplot manually."
      ]
    },
    {
      "cell_type": "code",
      "execution_count": 14,
      "id": "7375ab13",
      "metadata": {
        "execution": {},
        "lines_to_next_cell": 0,
        "colab": {
          "base_uri": "https://localhost:8080/",
          "height": 696
        },
        "id": "7375ab13",
        "outputId": "3f9d8f35-f742-4804-eb98-b753107b33b8"
      },
      "outputs": [
        {
          "output_type": "display_data",
          "data": {
            "text/plain": [
              "<Figure size 800x800 with 1 Axes>"
            ],
            "image/png": "[encoded data removed]"
          },
          "metadata": {}
        }
      ],
      "source": [
        "i, j = 0, 1 # specify which principal components to visualize\n",
        "fig, ax = plt.subplots(1, 1, figsize=(8, 8))\n",
        "ax.scatter(scores[:,0], scores[:,1])\n",
        "ax.set_xlabel('PC%d' % (i+1))\n",
        "ax.set_ylabel('PC%d' % (j+1))\n",
        "for k in range(pcaUS.components_.shape[1]): # iterate over each feature in the PCs.\n",
        "    # adds an arrow to the plot, visualizing the loading of each feature\n",
        "    # on the specified principal components.\n",
        "    ax.arrow(0, 0, pcaUS.components_[i,k], pcaUS.components_[j,k])\n",
        "    # add labels to the plot, indicating the features names of the arrows.\n",
        "    ax.text(pcaUS.components_[i,k], pcaUS.components_[j,k], USArrests.columns[k])\n"
      ]
    },
    {
      "cell_type": "markdown",
      "id": "4dacec4b",
      "metadata": {
        "id": "4dacec4b"
      },
      "source": [
        "Notice that this figure is a reflection of Figure 12.1 through the $y$-axis. Recall that the\n",
        "principal components are only unique up to a sign change, so we can\n",
        "reproduce that figure by flipping the\n",
        "signs of the second set of scores and loadings.\n",
        "We also increase the length of the arrows to emphasize the loadings."
      ]
    },
    {
      "cell_type": "code",
      "execution_count": 15,
      "id": "4c1988de",
      "metadata": {
        "execution": {},
        "colab": {
          "base_uri": "https://localhost:8080/",
          "height": 696
        },
        "id": "4c1988de",
        "outputId": "015411ed-36f9-46d7-c19c-a2e763754a04"
      },
      "outputs": [
        {
          "output_type": "display_data",
          "data": {
            "text/plain": [
              "<Figure size 800x800 with 1 Axes>"
            ],
            "image/png": "[encoded data removed]"
          },
          "metadata": {}
        }
      ],
      "source": [
        "scale_arrow = s_ = 2   # assigns the value 2\n",
        "scores[:,1] *= -1     # flip the y-axis of scores\n",
        "pcaUS.components_[1] *= -1 # flip the y-axis of loading\n",
        "fig, ax = plt.subplots(1, 1, figsize=(8, 8))\n",
        "ax.scatter(scores[:,0], scores[:,1])\n",
        "ax.set_xlabel('PC%d' % (i+1))\n",
        "ax.set_ylabel('PC%d' % (j+1))\n",
        "for k in range(pcaUS.components_.shape[1]): # arrows are scaled with s_\n",
        "    ax.arrow(0, 0, s_*pcaUS.components_[i,k], s_*pcaUS.components_[j,k])\n",
        "    ax.text(s_*pcaUS.components_[i,k], s_*pcaUS.components_[j,k], USArrests.columns[k])\n"
      ]
    },
    {
      "cell_type": "markdown",
      "id": "f96f4f26",
      "metadata": {
        "id": "f96f4f26"
      },
      "source": [
        "The standard deviations of the principal component scores are as follows:"
      ]
    },
    {
      "cell_type": "code",
      "execution_count": 16,
      "id": "965c6320",
      "metadata": {
        "execution": {},
        "lines_to_next_cell": 2,
        "colab": {
          "base_uri": "https://localhost:8080/"
        },
        "id": "965c6320",
        "outputId": "0753819e-ae66-4f4c-98c4-71ceed51768e"
      },
      "outputs": [
        {
          "output_type": "execute_result",
          "data": {
            "text/plain": [
              "array([1.5908673 , 1.00496987, 0.6031915 , 0.4206774 ])"
            ]
          },
          "metadata": {},
          "execution_count": 16
        }
      ],
      "source": [
        "# access standard deviation of the scores along each PC axis\n",
        "scores.std(0, ddof=1)\n"
      ]
    },
    {
      "cell_type": "markdown",
      "id": "0aa2cebf",
      "metadata": {
        "id": "0aa2cebf"
      },
      "source": [
        "The variance of each score can be extracted directly from the `pcaUS` object via\n",
        "the `explained_variance_` attribute."
      ]
    },
    {
      "cell_type": "code",
      "execution_count": 17,
      "id": "cd5e1663",
      "metadata": {
        "execution": {},
        "lines_to_next_cell": 0,
        "colab": {
          "base_uri": "https://localhost:8080/"
        },
        "id": "cd5e1663",
        "outputId": "504dc421-0b1c-4ccf-c939-155415c87581"
      },
      "outputs": [
        {
          "output_type": "execute_result",
          "data": {
            "text/plain": [
              "array([2.53085875, 1.00996444, 0.36383998, 0.17696948])"
            ]
          },
          "metadata": {},
          "execution_count": 17
        }
      ],
      "source": [
        "pcaUS.explained_variance_\n"
      ]
    },
    {
      "cell_type": "markdown",
      "id": "ef559fde",
      "metadata": {
        "id": "ef559fde"
      },
      "source": [
        "The proportion of variance explained by each principal\n",
        "component (PVE) is stored as `explained_variance_ratio_`:"
      ]
    },
    {
      "cell_type": "code",
      "execution_count": 18,
      "id": "e711d1be",
      "metadata": {
        "execution": {},
        "lines_to_next_cell": 0,
        "colab": {
          "base_uri": "https://localhost:8080/"
        },
        "id": "e711d1be",
        "outputId": "9e950ceb-c500-4244-81ff-95e04785e6c1"
      },
      "outputs": [
        {
          "output_type": "execute_result",
          "data": {
            "text/plain": [
              "array([0.62006039, 0.24744129, 0.0891408 , 0.04335752])"
            ]
          },
          "metadata": {},
          "execution_count": 18
        }
      ],
      "source": [
        "pcaUS.explained_variance_ratio_\n"
      ]
    },
    {
      "cell_type": "markdown",
      "id": "567f5027",
      "metadata": {
        "id": "567f5027"
      },
      "source": [
        "We see that the first principal component explains 62.0% of the\n",
        "variance in the data, the next principal component explains 24.7%\n",
        "of the variance, and so forth.\n",
        "We can plot the PVE explained by each component, as well as the cumulative PVE. We first\n",
        "plot the proportion of variance explained."
      ]
    },
    {
      "cell_type": "code",
      "execution_count": 19,
      "id": "e122eb41",
      "metadata": {
        "execution": {},
        "lines_to_next_cell": 0,
        "id": "e122eb41"
      },
      "outputs": [],
      "source": [
        "%%capture\n",
        "fig, axes = plt.subplots(1, 2, figsize=(15, 6))\n",
        "ticks = np.arange(pcaUS.n_components_)+1 # array of ticks representing the PCs\n",
        "ax = axes[0]  # assign the first subplot\n",
        "ax.plot(ticks, pcaUS.explained_variance_ratio_, marker='o')\n",
        "ax.set_xlabel('Principal Component');\n",
        "ax.set_ylabel('Proportion of Variance Explained')\n",
        "ax.set_ylim([0,1])\n",
        "ax.set_xticks(ticks)\n"
      ]
    },
    {
      "cell_type": "markdown",
      "id": "5de6bff0",
      "metadata": {
        "id": "5de6bff0"
      },
      "source": [
        "Notice the use of `%%capture`, which suppresses the displaying of the partially completed figure."
      ]
    },
    {
      "cell_type": "code",
      "execution_count": 20,
      "id": "bef47d90",
      "metadata": {
        "execution": {},
        "lines_to_next_cell": 0,
        "colab": {
          "base_uri": "https://localhost:8080/",
          "height": 522
        },
        "id": "bef47d90",
        "outputId": "1c7dd651-bc1f-4027-d22f-57c7537ff6e4"
      },
      "outputs": [
        {
          "output_type": "execute_result",
          "data": {
            "text/plain": [
              "<Figure size 1500x600 with 2 Axes>"
            ],
            "image/png": "[encoded data removed]"
          },
          "metadata": {},
          "execution_count": 20
        }
      ],
      "source": [
        "ax = axes[1]  # the second subplot\n",
        "ax.plot(ticks, pcaUS.explained_variance_ratio_.cumsum(), marker='o')\n",
        "ax.set_xlabel('Principal Component')\n",
        "ax.set_ylabel('Cumulative Proportion of Variance Explained')\n",
        "ax.set_ylim([0, 1])\n",
        "ax.set_xticks(ticks)\n",
        "fig\n"
      ]
    },
    {
      "cell_type": "markdown",
      "id": "5815db80",
      "metadata": {
        "id": "5815db80"
      },
      "source": [
        "The result is similar to that shown in Figure 12.3.  Note\n",
        "that the method `cumsum()`   computes the cumulative sum of\n",
        "the elements of a numeric vector. For instance:"
      ]
    },
    {
      "cell_type": "code",
      "execution_count": 21,
      "id": "f3300d9e",
      "metadata": {
        "execution": {},
        "lines_to_next_cell": 0,
        "colab": {
          "base_uri": "https://localhost:8080/"
        },
        "id": "f3300d9e",
        "outputId": "605a9c4e-b540-481d-96cb-38acb207a0dc"
      },
      "outputs": [
        {
          "output_type": "execute_result",
          "data": {
            "text/plain": [
              "array([ 1,  3, 11,  8])"
            ]
          },
          "metadata": {},
          "execution_count": 21
        }
      ],
      "source": [
        "a = np.array([1,2,8,-3])\n",
        "np.cumsum(a)\n"
      ]
    },
    {
      "cell_type": "markdown",
      "id": "f2f77cb2",
      "metadata": {
        "id": "f2f77cb2"
      },
      "source": [
        "### NCI60 Data\n",
        "Unsupervised techniques are often used in the analysis of genomic\n",
        "data. In particular, PCA and hierarchical clustering are popular\n",
        "tools.  We illustrate these techniques on the `NCI60`  cancer cell line\n",
        "microarray data, which consists of 6830 gene expression\n",
        "measurements on 64 cancer cell lines."
      ]
    },
    {
      "cell_type": "code",
      "execution_count": 22,
      "id": "3dbe7baf",
      "metadata": {
        "execution": {},
        "id": "3dbe7baf"
      },
      "outputs": [],
      "source": [
        "NCI60 = load_data('NCI60')\n",
        "nci_labs = NCI60['labels']\n",
        "nci_data = NCI60['data']\n"
      ]
    },
    {
      "cell_type": "markdown",
      "id": "6f03fcd9",
      "metadata": {
        "id": "6f03fcd9"
      },
      "source": [
        "Each cell line is labeled with a cancer type. We do not make use of\n",
        "the cancer types in performing PCA, as these are\n",
        "unsupervised techniques. But after performing PCA, we\n",
        "will check to see the extent to which these cancer types agree with\n",
        "the results of these unsupervised techniques.\n",
        "\n",
        "The data has 64 rows and 6830 columns."
      ]
    },
    {
      "cell_type": "code",
      "execution_count": 23,
      "id": "8f4e9db0",
      "metadata": {
        "execution": {},
        "lines_to_next_cell": 2,
        "colab": {
          "base_uri": "https://localhost:8080/"
        },
        "id": "8f4e9db0",
        "outputId": "39c72f42-001e-43b8-efef-e4a81037310d"
      },
      "outputs": [
        {
          "output_type": "execute_result",
          "data": {
            "text/plain": [
              "(64, 6830)"
            ]
          },
          "metadata": {},
          "execution_count": 23
        }
      ],
      "source": [
        "nci_data.shape\n"
      ]
    },
    {
      "cell_type": "markdown",
      "id": "7fad9a75",
      "metadata": {
        "id": "7fad9a75"
      },
      "source": [
        "We begin by examining the cancer types for the cell lines.\n"
      ]
    },
    {
      "cell_type": "code",
      "execution_count": 24,
      "id": "6373db4d",
      "metadata": {
        "execution": {},
        "lines_to_next_cell": 2,
        "colab": {
          "base_uri": "https://localhost:8080/"
        },
        "id": "6373db4d",
        "outputId": "055c7991-05c3-4964-8d67-83bc7e0453be"
      },
      "outputs": [
        {
          "output_type": "execute_result",
          "data": {
            "text/plain": [
              "label      \n",
              "NSCLC          9\n",
              "RENAL          9\n",
              "MELANOMA       8\n",
              "BREAST         7\n",
              "COLON          7\n",
              "LEUKEMIA       6\n",
              "OVARIAN        6\n",
              "CNS            5\n",
              "PROSTATE       2\n",
              "K562A-repro    1\n",
              "K562B-repro    1\n",
              "MCF7A-repro    1\n",
              "MCF7D-repro    1\n",
              "UNKNOWN        1\n",
              "dtype: int64"
            ]
          },
          "metadata": {},
          "execution_count": 24
        }
      ],
      "source": [
        "nci_labs.value_counts()\n"
      ]
    },
    {
      "cell_type": "markdown",
      "id": "c75ae01f",
      "metadata": {
        "id": "c75ae01f"
      },
      "source": [
        "PCA on the NCI60 Data\n",
        "\n",
        "We first perform PCA on the data after scaling the variables (genes)\n",
        "to have standard deviation one, although here one could reasonably argue\n",
        "that it is better not to scale the genes as they are measured in the same units."
      ]
    },
    {
      "cell_type": "code",
      "execution_count": 25,
      "id": "9f185f83",
      "metadata": {
        "execution": {},
        "id": "9f185f83"
      },
      "outputs": [],
      "source": [
        "scaler = StandardScaler()\n",
        "nci_scaled = scaler.fit_transform(nci_data)\n",
        "nci_pca = PCA()\n",
        "nci_scores = nci_pca.fit_transform(nci_scaled)\n"
      ]
    },
    {
      "cell_type": "markdown",
      "id": "e859fa7c",
      "metadata": {
        "id": "e859fa7c"
      },
      "source": [
        "We now plot the first few principal component score vectors, in order\n",
        "to visualize the data. The observations (cell lines) corresponding to\n",
        "a given cancer type will be plotted in the same color, so that we can\n",
        "see to what extent the observations within a cancer type are similar\n",
        "to each other."
      ]
    },
    {
      "cell_type": "code",
      "execution_count": 26,
      "id": "b044b197",
      "metadata": {
        "execution": {},
        "lines_to_next_cell": 0,
        "colab": {
          "base_uri": "https://localhost:8080/",
          "height": 514
        },
        "id": "b044b197",
        "outputId": "1e6e29dc-ecb9-4448-96cb-3021b26d8330"
      },
      "outputs": [
        {
          "output_type": "display_data",
          "data": {
            "text/plain": [
              "<Figure size 1500x600 with 2 Axes>"
            ],
            "image/png": "[encoded data removed]"
          },
          "metadata": {}
        }
      ],
      "source": [
        "cancer_types = list(np.unique(nci_labs)) # identify different categories\n",
        "# assign a numerical group index to each cancer type\n",
        "nci_groups = np.array([cancer_types.index(lab) for lab in nci_labs.values])\n",
        "fig, axes = plt.subplots(1, 2, figsize=(15,6))\n",
        "ax = axes[0]\n",
        "ax.scatter(nci_scores[:,0], nci_scores[:,1], c=nci_groups, marker='o', s=50)\n",
        "ax.set_xlabel('PC1'); ax.set_ylabel('PC2')\n",
        "ax = axes[1]\n",
        "ax.scatter(nci_scores[:,0], nci_scores[:,2], c=nci_groups, marker='o', s=50)\n",
        "ax.set_xlabel('PC1'); ax.set_ylabel('PC3');\n"
      ]
    },
    {
      "cell_type": "markdown",
      "id": "01debda9",
      "metadata": {
        "id": "01debda9"
      },
      "source": [
        "On the whole, cell lines corresponding to a single cancer type do tend to\n",
        "have similar values on the first few principal component score\n",
        "vectors. This indicates that cell lines from the same cancer type tend\n",
        "to have pretty similar gene expression levels.\n",
        "\n",
        "\n",
        "    "
      ]
    },
    {
      "cell_type": "markdown",
      "id": "8695f122",
      "metadata": {
        "id": "8695f122"
      },
      "source": [
        "We can also plot the percent variance\n",
        "explained by the principal components as well as the cumulative percent variance explained.\n",
        "This is similar to the plots we made earlier for the `USArrests` data."
      ]
    },
    {
      "cell_type": "code",
      "execution_count": 27,
      "id": "b2450bb2",
      "metadata": {
        "execution": {},
        "lines_to_next_cell": 0,
        "colab": {
          "base_uri": "https://localhost:8080/",
          "height": 514
        },
        "id": "b2450bb2",
        "outputId": "eb6e8d78-4480-4e1b-d9c5-087af94fb2c7"
      },
      "outputs": [
        {
          "output_type": "display_data",
          "data": {
            "text/plain": [
              "<Figure size 1500x600 with 2 Axes>"
            ],
            "image/png": "[encoded data removed]"
          },
          "metadata": {}
        }
      ],
      "source": [
        "fig, axes = plt.subplots(1, 2, figsize=(15,6))\n",
        "ax = axes[0]\n",
        "ticks = np.arange(nci_pca.n_components_)+1\n",
        "ax.plot(ticks, nci_pca.explained_variance_ratio_, marker='o')\n",
        "ax.set_xlabel('Principal Component');\n",
        "ax.set_ylabel('PVE')\n",
        "ax = axes[1]\n",
        "ax.plot(ticks, nci_pca.explained_variance_ratio_.cumsum(), marker='o');\n",
        "ax.set_xlabel('Principal Component')\n",
        "ax.set_ylabel('Cumulative PVE');\n"
      ]
    },
    {
      "cell_type": "markdown",
      "id": "6c9d8235",
      "metadata": {
        "id": "6c9d8235"
      },
      "source": [
        "We see that together, the first seven principal components explain\n",
        "around 40% of the variance in the data. This is not a huge amount\n",
        "of the variance. However, looking at the score plot, we see that while\n",
        "each of the first seven principal components explain a substantial\n",
        "amount of variance, there is a marked decrease in the variance\n",
        "explained by further principal components. That is, there is an\n",
        "*elbow*  in the plot after approximately the seventh\n",
        "principal component.  This suggests that there may be little benefit\n",
        "to examining more than seven or so principal components (though even\n",
        "examining seven principal components may be difficult)."
      ]
    },
    {
      "cell_type": "markdown",
      "source": [
        "Besides, the Khan Gene Data introduced last week is also high-dimensional, which can be tested with PCA for dimension reduction and PCs visualization.\n",
        "\n",
        "We know the PCA or PCR could be used for dimension reduction purposes with high-dimensional datasets. However, the issue of collinearity might occur and its covariance matrix may be ill-conditioned. This is what we need to pay attention to."
      ],
      "metadata": {
        "id": "o7LiqQSIn-cc"
      },
      "id": "o7LiqQSIn-cc"
    },
    {
      "cell_type": "markdown",
      "source": [
        "\n",
        "\n",
        "## Principal Components Regression"
      ],
      "metadata": {
        "id": "7UU1xanzUCWg"
      },
      "id": "7UU1xanzUCWg"
    },
    {
      "cell_type": "markdown",
      "source": [
        "Principal components regression (PCR) can be performed using\n",
        "`PCA()`  from the `sklearn.decomposition`\n",
        "module. We now apply PCR to the  `Hitters`  data, in order to\n",
        "predict `Salary`. Again, ensure that the missing values have\n",
        "been removed from the data, as described in Section 6.5.1.\n",
        "\n",
        "We use `LinearRegression()`  to fit the regression model\n",
        "here. Note that it fits an intercept by default, unlike\n",
        "the `OLS()` function seen earlier in Section 6.5.1."
      ],
      "metadata": {
        "id": "FccfrvHVUZ7W"
      },
      "id": "FccfrvHVUZ7W"
    },
    {
      "cell_type": "code",
      "source": [
        "Hitters = load_data('Hitters')\n",
        "Hitters = Hitters.dropna();\n",
        "Hitters.shape\n"
      ],
      "metadata": {
        "colab": {
          "base_uri": "https://localhost:8080/"
        },
        "id": "iQM6qIsbT0CK",
        "outputId": "249aa2df-fe4c-4dc1-e423-88587c898039"
      },
      "id": "iQM6qIsbT0CK",
      "execution_count": 28,
      "outputs": [
        {
          "output_type": "execute_result",
          "data": {
            "text/plain": [
              "(263, 20)"
            ]
          },
          "metadata": {},
          "execution_count": 28
        }
      ]
    },
    {
      "cell_type": "code",
      "source": [
        "design = MS(Hitters.columns.drop('Salary')).fit(Hitters)\n",
        "Y = np.array(Hitters['Salary'])\n",
        "X = design.transform(Hitters)\n"
      ],
      "metadata": {
        "id": "3brn_SfIT6ln"
      },
      "id": "3brn_SfIT6ln",
      "execution_count": 29,
      "outputs": []
    },
    {
      "cell_type": "code",
      "source": [
        "D = design.fit_transform(Hitters)\n",
        "D = D.drop('intercept', axis=1)\n",
        "X = np.asarray(D)\n"
      ],
      "metadata": {
        "id": "DeDiZfm0TpAI"
      },
      "id": "DeDiZfm0TpAI",
      "execution_count": 30,
      "outputs": []
    },
    {
      "cell_type": "code",
      "source": [
        "pca = PCA(n_components=2) # retain only the top 2 PCs\n",
        "linreg = skl.LinearRegression()\n",
        "\n",
        "# pipeline specifies that the PCA step be applied first,\n",
        "# followed by the linear regression step\n",
        "pipe = Pipeline([('pca', pca), ('linreg', linreg)])\n",
        "# pipeline will perform PCA on X, transform the data using the top 2 PCs,\n",
        "# and then apply linear regression to predict Y\n",
        "pipe.fit(X, Y)\n",
        "pipe.named_steps['linreg'].coef_ # retrieves coefficients of linear regression model from pipeline\n"
      ],
      "metadata": {
        "colab": {
          "base_uri": "https://localhost:8080/"
        },
        "id": "w65vKC04UEpZ",
        "outputId": "b94397e9-6108-45f5-ef2c-1f72dcc22056"
      },
      "id": "w65vKC04UEpZ",
      "execution_count": 31,
      "outputs": [
        {
          "output_type": "execute_result",
          "data": {
            "text/plain": [
              "array([0.09846131, 0.4758765 ])"
            ]
          },
          "metadata": {},
          "execution_count": 31
        }
      ]
    },
    {
      "cell_type": "markdown",
      "source": [
        "When performing PCA, the results vary depending\n",
        "on whether the data has been *standardized* or not.\n",
        "As in the earlier examples, this can be accomplished\n",
        "by including an additional step in the pipeline."
      ],
      "metadata": {
        "id": "vk-_V8HvUfPs"
      },
      "id": "vk-_V8HvUfPs"
    },
    {
      "cell_type": "code",
      "source": [
        "# include a scaler step before the PCA step\n",
        "pipe = Pipeline([('scaler', scaler), ('pca', pca), ('linreg', linreg)])\n",
        "pipe.fit(X, Y)\n",
        "pipe.named_steps['linreg'].coef_\n"
      ],
      "metadata": {
        "id": "w8dkc-TAUeMN",
        "colab": {
          "base_uri": "https://localhost:8080/"
        },
        "outputId": "c353bcf4-16a1-448a-8c9d-6e89f0ea592f"
      },
      "id": "w8dkc-TAUeMN",
      "execution_count": 32,
      "outputs": [
        {
          "output_type": "execute_result",
          "data": {
            "text/plain": [
              "array([106.36859204, -21.60350456])"
            ]
          },
          "metadata": {},
          "execution_count": 32
        }
      ]
    },
    {
      "cell_type": "markdown",
      "source": [
        "We can of course use CV to choose the number of components, by\n",
        "using `skm.GridSearchCV`, in this\n",
        "case fixing the parameters to vary the\n",
        "`n_components`."
      ],
      "metadata": {
        "id": "c20F4dWmUn6F"
      },
      "id": "c20F4dWmUn6F"
    },
    {
      "cell_type": "code",
      "source": [
        "K = 5\n",
        "kfold = skm.KFold(K, random_state=0, shuffle=True)\n"
      ],
      "metadata": {
        "id": "iSKTNQEtU9g4"
      },
      "id": "iSKTNQEtU9g4",
      "execution_count": 33,
      "outputs": []
    },
    {
      "cell_type": "code",
      "source": [
        "param_grid = {'pca__n_components': range(1, 20)}\n",
        "# grid search object to select different combinations of PCs with CV\n",
        "grid = skm.GridSearchCV(pipe, param_grid, cv=kfold, scoring='neg_mean_squared_error')\n",
        "grid.fit(X, Y)\n"
      ],
      "metadata": {
        "id": "9VokvHtaUoce",
        "colab": {
          "base_uri": "https://localhost:8080/",
          "height": 186
        },
        "outputId": "c6b9a9c7-2068-4a00-fe68-147d67b96b98"
      },
      "id": "9VokvHtaUoce",
      "execution_count": 34,
      "outputs": [
        {
          "output_type": "execute_result",
          "data": {
            "text/plain": [
              "GridSearchCV(cv=KFold(n_splits=5, random_state=0, shuffle=True),\n",
              "             estimator=Pipeline(steps=[('scaler', StandardScaler()),\n",
              "                                       ('pca', PCA(n_components=2)),\n",
              "                                       ('linreg', LinearRegression())]),\n",
              "             param_grid={'pca__n_components': range(1, 20)},\n",
              "             scoring='neg_mean_squared_error')"
            ],
            "text/html": [
              "<style>#sk-container-id-2 {color: black;background-color: white;}#sk-container-id-2 pre{padding: 0;}#sk-container-id-2 div.sk-toggleable {background-color: white;}#sk-container-id-2 label.sk-toggleable__label {cursor: pointer;display: block;width: 100%;margin-bottom: 0;padding: 0.3em;box-sizing: border-box;text-align: center;}#sk-container-id-2 label.sk-toggleable__label-arrow:before {content: \"▸\";float: left;margin-right: 0.25em;color: #696969;}#sk-container-id-2 label.sk-toggleable__label-arrow:hover:before {color: black;}#sk-container-id-2 div.sk-estimator:hover label.sk-toggleable__label-arrow:before {color: black;}#sk-container-id-2 div.sk-toggleable__content {max-height: 0;max-width: 0;overflow: hidden;text-align: left;background-color: #f0f8ff;}#sk-container-id-2 div.sk-toggleable__content pre {margin: 0.2em;color: black;border-radius: 0.25em;background-color: #f0f8ff;}#sk-container-id-2 input.sk-toggleable__control:checked~div.sk-toggleable__content {max-height: 200px;max-width: 100%;overflow: auto;}#sk-container-id-2 input.sk-toggleable__control:checked~label.sk-toggleable__label-arrow:before {content: \"▾\";}#sk-container-id-2 div.sk-estimator input.sk-toggleable__control:checked~label.sk-toggleable__label {background-color: #d4ebff;}#sk-container-id-2 div.sk-label input.sk-toggleable__control:checked~label.sk-toggleable__label {background-color: #d4ebff;}#sk-container-id-2 input.sk-hidden--visually {border: 0;clip: rect(1px 1px 1px 1px);clip: rect(1px, 1px, 1px, 1px);height: 1px;margin: -1px;overflow: hidden;padding: 0;position: absolute;width: 1px;}#sk-container-id-2 div.sk-estimator {font-family: monospace;background-color: #f0f8ff;border: 1px dotted black;border-radius: 0.25em;box-sizing: border-box;margin-bottom: 0.5em;}#sk-container-id-2 div.sk-estimator:hover {background-color: #d4ebff;}#sk-container-id-2 div.sk-parallel-item::after {content: \"\";width: 100%;border-bottom: 1px solid gray;flex-grow: 1;}#sk-container-id-2 div.sk-label:hover label.sk-toggleable__label {background-color: #d4ebff;}#sk-container-id-2 div.sk-serial::before {content: \"\";position: absolute;border-left: 1px solid gray;box-sizing: border-box;top: 0;bottom: 0;left: 50%;z-index: 0;}#sk-container-id-2 div.sk-serial {display: flex;flex-direction: column;align-items: center;background-color: white;padding-right: 0.2em;padding-left: 0.2em;position: relative;}#sk-container-id-2 div.sk-item {position: relative;z-index: 1;}#sk-container-id-2 div.sk-parallel {display: flex;align-items: stretch;justify-content: center;background-color: white;position: relative;}#sk-container-id-2 div.sk-item::before, #sk-container-id-2 div.sk-parallel-item::before {content: \"\";position: absolute;border-left: 1px solid gray;box-sizing: border-box;top: 0;bottom: 0;left: 50%;z-index: -1;}#sk-container-id-2 div.sk-parallel-item {display: flex;flex-direction: column;z-index: 1;position: relative;background-color: white;}#sk-container-id-2 div.sk-parallel-item:first-child::after {align-self: flex-end;width: 50%;}#sk-container-id-2 div.sk-parallel-item:last-child::after {align-self: flex-start;width: 50%;}#sk-container-id-2 div.sk-parallel-item:only-child::after {width: 0;}#sk-container-id-2 div.sk-dashed-wrapped {border: 1px dashed gray;margin: 0 0.4em 0.5em 0.4em;box-sizing: border-box;padding-bottom: 0.4em;background-color: white;}#sk-container-id-2 div.sk-label label {font-family: monospace;font-weight: bold;display: inline-block;line-height: 1.2em;}#sk-container-id-2 div.sk-label-container {text-align: center;}#sk-container-id-2 div.sk-container {/* jupyter's `normalize.less` sets `[hidden] { display: none; }` but bootstrap.min.css set `[hidden] { display: none !important; }` so we also need the `!important` here to be able to override the default hidden behavior on the sphinx rendered scikit-learn.org. See: https://github.com/scikit-learn/scikit-learn/issues/21755 */display: inline-block !important;position: relative;}#sk-container-id-2 div.sk-text-repr-fallback {display: none;}</style><div id=\"sk-container-id-2\" class=\"sk-top-container\"><div class=\"sk-text-repr-fallback\"><pre>GridSearchCV(cv=KFold(n_splits=5, random_state=0, shuffle=True),\n",
              "             estimator=Pipeline(steps=[(&#x27;scaler&#x27;, StandardScaler()),\n",
              "                                       (&#x27;pca&#x27;, PCA(n_components=2)),\n",
              "                                       (&#x27;linreg&#x27;, LinearRegression())]),\n",
              "             param_grid={&#x27;pca__n_components&#x27;: range(1, 20)},\n",
              "             scoring=&#x27;neg_mean_squared_error&#x27;)</pre><b>In a Jupyter environment, please rerun this cell to show the HTML representation or trust the notebook. <br />On GitHub, the HTML representation is unable to render, please try loading this page with nbviewer.org.</b></div><div class=\"sk-container\" hidden><div class=\"sk-item sk-dashed-wrapped\"><div class=\"sk-label-container\"><div class=\"sk-label sk-toggleable\"><input class=\"sk-toggleable__control sk-hidden--visually\" id=\"sk-estimator-id-2\" type=\"checkbox\" ><label for=\"sk-estimator-id-2\" class=\"sk-toggleable__label sk-toggleable__label-arrow\">GridSearchCV</label><div class=\"sk-toggleable__content\"><pre>GridSearchCV(cv=KFold(n_splits=5, random_state=0, shuffle=True),\n",
              "             estimator=Pipeline(steps=[(&#x27;scaler&#x27;, StandardScaler()),\n",
              "                                       (&#x27;pca&#x27;, PCA(n_components=2)),\n",
              "                                       (&#x27;linreg&#x27;, LinearRegression())]),\n",
              "             param_grid={&#x27;pca__n_components&#x27;: range(1, 20)},\n",
              "             scoring=&#x27;neg_mean_squared_error&#x27;)</pre></div></div></div><div class=\"sk-parallel\"><div class=\"sk-parallel-item\"><div class=\"sk-item\"><div class=\"sk-label-container\"><div class=\"sk-label sk-toggleable\"><input class=\"sk-toggleable__control sk-hidden--visually\" id=\"sk-estimator-id-3\" type=\"checkbox\" ><label for=\"sk-estimator-id-3\" class=\"sk-toggleable__label sk-toggleable__label-arrow\">estimator: Pipeline</label><div class=\"sk-toggleable__content\"><pre>Pipeline(steps=[(&#x27;scaler&#x27;, StandardScaler()), (&#x27;pca&#x27;, PCA(n_components=2)),\n",
              "                (&#x27;linreg&#x27;, LinearRegression())])</pre></div></div></div><div class=\"sk-serial\"><div class=\"sk-item\"><div class=\"sk-serial\"><div class=\"sk-item\"><div class=\"sk-estimator sk-toggleable\"><input class=\"sk-toggleable__control sk-hidden--visually\" id=\"sk-estimator-id-4\" type=\"checkbox\" ><label for=\"sk-estimator-id-4\" class=\"sk-toggleable__label sk-toggleable__label-arrow\">StandardScaler</label><div class=\"sk-toggleable__content\"><pre>StandardScaler()</pre></div></div></div><div class=\"sk-item\"><div class=\"sk-estimator sk-toggleable\"><input class=\"sk-toggleable__control sk-hidden--visually\" id=\"sk-estimator-id-5\" type=\"checkbox\" ><label for=\"sk-estimator-id-5\" class=\"sk-toggleable__label sk-toggleable__label-arrow\">PCA</label><div class=\"sk-toggleable__content\"><pre>PCA(n_components=2)</pre></div></div></div><div class=\"sk-item\"><div class=\"sk-estimator sk-toggleable\"><input class=\"sk-toggleable__control sk-hidden--visually\" id=\"sk-estimator-id-6\" type=\"checkbox\" ><label for=\"sk-estimator-id-6\" class=\"sk-toggleable__label sk-toggleable__label-arrow\">LinearRegression</label><div class=\"sk-toggleable__content\"><pre>LinearRegression()</pre></div></div></div></div></div></div></div></div></div></div></div></div>"
            ]
          },
          "metadata": {},
          "execution_count": 34
        }
      ]
    },
    {
      "cell_type": "markdown",
      "source": [
        "Let's plot the results, i.e., the cross-validated mean squared error (MSE) for different numbers of principal components."
      ],
      "metadata": {
        "id": "Z22tLbLOUqCo"
      },
      "id": "Z22tLbLOUqCo"
    },
    {
      "cell_type": "code",
      "source": [
        "pcr_fig, ax = subplots(figsize=(8,8))\n",
        "n_comp = param_grid['pca__n_components']\n",
        "ax.errorbar(n_comp, -grid.cv_results_['mean_test_score'], grid.cv_results_['std_test_score'] / np.sqrt(K))\n",
        "ax.set_ylabel('Cross-validated MSE', fontsize=20)\n",
        "ax.set_xlabel('# principal components', fontsize=20)\n",
        "ax.set_xticks(n_comp[::2]) # set x-axis ticks to be every second value from range of PCs\n",
        "ax.set_ylim([50000,250000]);\n"
      ],
      "metadata": {
        "id": "k_sVngGgUpe3",
        "colab": {
          "base_uri": "https://localhost:8080/",
          "height": 715
        },
        "outputId": "505b6443-6b30-4aa6-a819-677faa81ad62"
      },
      "id": "k_sVngGgUpe3",
      "execution_count": 35,
      "outputs": [
        {
          "output_type": "display_data",
          "data": {
            "text/plain": [
              "<Figure size 800x800 with 1 Axes>"
            ],
            "image/png": "[encoded data removed]"
          },
          "metadata": {}
        }
      ]
    },
    {
      "cell_type": "markdown",
      "source": [
        "We see that the smallest cross-validation error occurs when\n",
        "17\n",
        "components are used. However, from the plot we also see that the\n",
        "cross-validation error is roughly the same when only one component is\n",
        "included in the model. This suggests that a model that uses just a\n",
        "small number of components might suffice.\n",
        "\n",
        "The CV score is provided for each possible number of components from\n",
        "1 to 19 inclusive. The `PCA()` method complains\n",
        "if we try to fit an intercept only with `n_components=0`\n",
        "so we also compute the MSE for just the null model with\n",
        "these splits."
      ],
      "metadata": {
        "id": "bvq5Q4EEUpJR"
      },
      "id": "bvq5Q4EEUpJR"
    },
    {
      "cell_type": "code",
      "source": [
        "# array of zeros with the same number of rows as X and a single column,\n",
        "# it represents the null model, where no principal components are used\n",
        "Xn = np.zeros((X.shape[0], 1))\n",
        "# perform CV on the null model, using the linear regression model and null features\n",
        "cv_null = skm.cross_validate(linreg, Xn, Y, cv=kfold, scoring='neg_mean_squared_error')\n",
        "-cv_null['test_score'].mean()\n"
      ],
      "metadata": {
        "id": "w_F5PRs9U6PL",
        "colab": {
          "base_uri": "https://localhost:8080/"
        },
        "outputId": "b7791144-1e83-4c57-856b-59e9a82e0c88"
      },
      "id": "w_F5PRs9U6PL",
      "execution_count": 36,
      "outputs": [
        {
          "output_type": "execute_result",
          "data": {
            "text/plain": [
              "204139.30692994667"
            ]
          },
          "metadata": {},
          "execution_count": 36
        }
      ]
    },
    {
      "cell_type": "markdown",
      "source": [
        "The `explained_variance_ratio_`\n",
        "attribute of our `PCA` object provides the *percentage of variance explained* in the predictors and in the response using\n",
        "different numbers of components. This concept is discussed in greater\n",
        "detail in Section 12.2."
      ],
      "metadata": {
        "id": "kf4US7goU-HQ"
      },
      "id": "kf4US7goU-HQ"
    },
    {
      "cell_type": "code",
      "source": [
        "pipe.named_steps['pca'].explained_variance_ratio_\n"
      ],
      "metadata": {
        "id": "ghZAdXNPVAsd",
        "colab": {
          "base_uri": "https://localhost:8080/"
        },
        "outputId": "10042117-9e40-4fa5-af65-6b16c25f7093"
      },
      "id": "ghZAdXNPVAsd",
      "execution_count": 37,
      "outputs": [
        {
          "output_type": "execute_result",
          "data": {
            "text/plain": [
              "array([0.3831424 , 0.21841076])"
            ]
          },
          "metadata": {},
          "execution_count": 37
        }
      ]
    },
    {
      "cell_type": "markdown",
      "source": [
        "Briefly, we can think of\n",
        "this as the amount of information about the predictors\n",
        "that is captured using $M$ principal components. For example, setting\n",
        "$M=1$ only captures 38.31% of the variance, while $M=2$ captures an additional 21.84%, for a total of 60.15% of the variance.\n",
        "By  $M=6$ it increases to\n",
        "88.63%. Beyond this the increments continue to diminish, until we use all $M=p=19$ components, which captures all  100% of the variance.\n",
        "\n"
      ],
      "metadata": {
        "id": "N5kmT9zkVF9h"
      },
      "id": "N5kmT9zkVF9h"
    },
    {
      "cell_type": "markdown",
      "source": [
        "## Partial Least Squares\n",
        "Partial least squares (PLS) is implemented in the\n",
        "`PLSRegression()`  function.\n",
        "\n"
      ],
      "metadata": {
        "id": "sWrGSg8DVQDN"
      },
      "id": "sWrGSg8DVQDN"
    },
    {
      "cell_type": "code",
      "source": [
        "pls = PLSRegression(n_components=2, scale=True)\n",
        "pls.fit(X, Y)\n"
      ],
      "metadata": {
        "id": "3XT8XD32VJGo",
        "colab": {
          "base_uri": "https://localhost:8080/",
          "height": 74
        },
        "outputId": "ccc06254-3daf-47c6-8cd2-a9aa2e80b907"
      },
      "id": "3XT8XD32VJGo",
      "execution_count": 38,
      "outputs": [
        {
          "output_type": "execute_result",
          "data": {
            "text/plain": [
              "PLSRegression()"
            ],
            "text/html": [
              "<style>#sk-container-id-3 {color: black;background-color: white;}#sk-container-id-3 pre{padding: 0;}#sk-container-id-3 div.sk-toggleable {background-color: white;}#sk-container-id-3 label.sk-toggleable__label {cursor: pointer;display: block;width: 100%;margin-bottom: 0;padding: 0.3em;box-sizing: border-box;text-align: center;}#sk-container-id-3 label.sk-toggleable__label-arrow:before {content: \"▸\";float: left;margin-right: 0.25em;color: #696969;}#sk-container-id-3 label.sk-toggleable__label-arrow:hover:before {color: black;}#sk-container-id-3 div.sk-estimator:hover label.sk-toggleable__label-arrow:before {color: black;}#sk-container-id-3 div.sk-toggleable__content {max-height: 0;max-width: 0;overflow: hidden;text-align: left;background-color: #f0f8ff;}#sk-container-id-3 div.sk-toggleable__content pre {margin: 0.2em;color: black;border-radius: 0.25em;background-color: #f0f8ff;}#sk-container-id-3 input.sk-toggleable__control:checked~div.sk-toggleable__content {max-height: 200px;max-width: 100%;overflow: auto;}#sk-container-id-3 input.sk-toggleable__control:checked~label.sk-toggleable__label-arrow:before {content: \"▾\";}#sk-container-id-3 div.sk-estimator input.sk-toggleable__control:checked~label.sk-toggleable__label {background-color: #d4ebff;}#sk-container-id-3 div.sk-label input.sk-toggleable__control:checked~label.sk-toggleable__label {background-color: #d4ebff;}#sk-container-id-3 input.sk-hidden--visually {border: 0;clip: rect(1px 1px 1px 1px);clip: rect(1px, 1px, 1px, 1px);height: 1px;margin: -1px;overflow: hidden;padding: 0;position: absolute;width: 1px;}#sk-container-id-3 div.sk-estimator {font-family: monospace;background-color: #f0f8ff;border: 1px dotted black;border-radius: 0.25em;box-sizing: border-box;margin-bottom: 0.5em;}#sk-container-id-3 div.sk-estimator:hover {background-color: #d4ebff;}#sk-container-id-3 div.sk-parallel-item::after {content: \"\";width: 100%;border-bottom: 1px solid gray;flex-grow: 1;}#sk-container-id-3 div.sk-label:hover label.sk-toggleable__label {background-color: #d4ebff;}#sk-container-id-3 div.sk-serial::before {content: \"\";position: absolute;border-left: 1px solid gray;box-sizing: border-box;top: 0;bottom: 0;left: 50%;z-index: 0;}#sk-container-id-3 div.sk-serial {display: flex;flex-direction: column;align-items: center;background-color: white;padding-right: 0.2em;padding-left: 0.2em;position: relative;}#sk-container-id-3 div.sk-item {position: relative;z-index: 1;}#sk-container-id-3 div.sk-parallel {display: flex;align-items: stretch;justify-content: center;background-color: white;position: relative;}#sk-container-id-3 div.sk-item::before, #sk-container-id-3 div.sk-parallel-item::before {content: \"\";position: absolute;border-left: 1px solid gray;box-sizing: border-box;top: 0;bottom: 0;left: 50%;z-index: -1;}#sk-container-id-3 div.sk-parallel-item {display: flex;flex-direction: column;z-index: 1;position: relative;background-color: white;}#sk-container-id-3 div.sk-parallel-item:first-child::after {align-self: flex-end;width: 50%;}#sk-container-id-3 div.sk-parallel-item:last-child::after {align-self: flex-start;width: 50%;}#sk-container-id-3 div.sk-parallel-item:only-child::after {width: 0;}#sk-container-id-3 div.sk-dashed-wrapped {border: 1px dashed gray;margin: 0 0.4em 0.5em 0.4em;box-sizing: border-box;padding-bottom: 0.4em;background-color: white;}#sk-container-id-3 div.sk-label label {font-family: monospace;font-weight: bold;display: inline-block;line-height: 1.2em;}#sk-container-id-3 div.sk-label-container {text-align: center;}#sk-container-id-3 div.sk-container {/* jupyter's `normalize.less` sets `[hidden] { display: none; }` but bootstrap.min.css set `[hidden] { display: none !important; }` so we also need the `!important` here to be able to override the default hidden behavior on the sphinx rendered scikit-learn.org. See: https://github.com/scikit-learn/scikit-learn/issues/21755 */display: inline-block !important;position: relative;}#sk-container-id-3 div.sk-text-repr-fallback {display: none;}</style><div id=\"sk-container-id-3\" class=\"sk-top-container\"><div class=\"sk-text-repr-fallback\"><pre>PLSRegression()</pre><b>In a Jupyter environment, please rerun this cell to show the HTML representation or trust the notebook. <br />On GitHub, the HTML representation is unable to render, please try loading this page with nbviewer.org.</b></div><div class=\"sk-container\" hidden><div class=\"sk-item\"><div class=\"sk-estimator sk-toggleable\"><input class=\"sk-toggleable__control sk-hidden--visually\" id=\"sk-estimator-id-7\" type=\"checkbox\" checked><label for=\"sk-estimator-id-7\" class=\"sk-toggleable__label sk-toggleable__label-arrow\">PLSRegression</label><div class=\"sk-toggleable__content\"><pre>PLSRegression()</pre></div></div></div></div></div>"
            ]
          },
          "metadata": {},
          "execution_count": 38
        }
      ]
    },
    {
      "cell_type": "markdown",
      "source": [
        "As was the case in PCR, we will want to\n",
        "use CV to choose the number of components."
      ],
      "metadata": {
        "id": "wg0Q8RcRVU12"
      },
      "id": "wg0Q8RcRVU12"
    },
    {
      "cell_type": "code",
      "source": [
        "param_grid = {'n_components':range(1, 20)}\n",
        "grid = skm.GridSearchCV(pls, param_grid, cv=kfold, scoring='neg_mean_squared_error')\n",
        "grid.fit(X, Y)\n"
      ],
      "metadata": {
        "id": "lDNCzQq5VVYZ",
        "colab": {
          "base_uri": "https://localhost:8080/",
          "height": 117
        },
        "outputId": "5fee52cd-300d-4a87-fdab-bb707e3ed7e0"
      },
      "id": "lDNCzQq5VVYZ",
      "execution_count": 39,
      "outputs": [
        {
          "output_type": "execute_result",
          "data": {
            "text/plain": [
              "GridSearchCV(cv=KFold(n_splits=5, random_state=0, shuffle=True),\n",
              "             estimator=PLSRegression(),\n",
              "             param_grid={'n_components': range(1, 20)},\n",
              "             scoring='neg_mean_squared_error')"
            ],
            "text/html": [
              "<style>#sk-container-id-4 {color: black;background-color: white;}#sk-container-id-4 pre{padding: 0;}#sk-container-id-4 div.sk-toggleable {background-color: white;}#sk-container-id-4 label.sk-toggleable__label {cursor: pointer;display: block;width: 100%;margin-bottom: 0;padding: 0.3em;box-sizing: border-box;text-align: center;}#sk-container-id-4 label.sk-toggleable__label-arrow:before {content: \"▸\";float: left;margin-right: 0.25em;color: #696969;}#sk-container-id-4 label.sk-toggleable__label-arrow:hover:before {color: black;}#sk-container-id-4 div.sk-estimator:hover label.sk-toggleable__label-arrow:before {color: black;}#sk-container-id-4 div.sk-toggleable__content {max-height: 0;max-width: 0;overflow: hidden;text-align: left;background-color: #f0f8ff;}#sk-container-id-4 div.sk-toggleable__content pre {margin: 0.2em;color: black;border-radius: 0.25em;background-color: #f0f8ff;}#sk-container-id-4 input.sk-toggleable__control:checked~div.sk-toggleable__content {max-height: 200px;max-width: 100%;overflow: auto;}#sk-container-id-4 input.sk-toggleable__control:checked~label.sk-toggleable__label-arrow:before {content: \"▾\";}#sk-container-id-4 div.sk-estimator input.sk-toggleable__control:checked~label.sk-toggleable__label {background-color: #d4ebff;}#sk-container-id-4 div.sk-label input.sk-toggleable__control:checked~label.sk-toggleable__label {background-color: #d4ebff;}#sk-container-id-4 input.sk-hidden--visually {border: 0;clip: rect(1px 1px 1px 1px);clip: rect(1px, 1px, 1px, 1px);height: 1px;margin: -1px;overflow: hidden;padding: 0;position: absolute;width: 1px;}#sk-container-id-4 div.sk-estimator {font-family: monospace;background-color: #f0f8ff;border: 1px dotted black;border-radius: 0.25em;box-sizing: border-box;margin-bottom: 0.5em;}#sk-container-id-4 div.sk-estimator:hover {background-color: #d4ebff;}#sk-container-id-4 div.sk-parallel-item::after {content: \"\";width: 100%;border-bottom: 1px solid gray;flex-grow: 1;}#sk-container-id-4 div.sk-label:hover label.sk-toggleable__label {background-color: #d4ebff;}#sk-container-id-4 div.sk-serial::before {content: \"\";position: absolute;border-left: 1px solid gray;box-sizing: border-box;top: 0;bottom: 0;left: 50%;z-index: 0;}#sk-container-id-4 div.sk-serial {display: flex;flex-direction: column;align-items: center;background-color: white;padding-right: 0.2em;padding-left: 0.2em;position: relative;}#sk-container-id-4 div.sk-item {position: relative;z-index: 1;}#sk-container-id-4 div.sk-parallel {display: flex;align-items: stretch;justify-content: center;background-color: white;position: relative;}#sk-container-id-4 div.sk-item::before, #sk-container-id-4 div.sk-parallel-item::before {content: \"\";position: absolute;border-left: 1px solid gray;box-sizing: border-box;top: 0;bottom: 0;left: 50%;z-index: -1;}#sk-container-id-4 div.sk-parallel-item {display: flex;flex-direction: column;z-index: 1;position: relative;background-color: white;}#sk-container-id-4 div.sk-parallel-item:first-child::after {align-self: flex-end;width: 50%;}#sk-container-id-4 div.sk-parallel-item:last-child::after {align-self: flex-start;width: 50%;}#sk-container-id-4 div.sk-parallel-item:only-child::after {width: 0;}#sk-container-id-4 div.sk-dashed-wrapped {border: 1px dashed gray;margin: 0 0.4em 0.5em 0.4em;box-sizing: border-box;padding-bottom: 0.4em;background-color: white;}#sk-container-id-4 div.sk-label label {font-family: monospace;font-weight: bold;display: inline-block;line-height: 1.2em;}#sk-container-id-4 div.sk-label-container {text-align: center;}#sk-container-id-4 div.sk-container {/* jupyter's `normalize.less` sets `[hidden] { display: none; }` but bootstrap.min.css set `[hidden] { display: none !important; }` so we also need the `!important` here to be able to override the default hidden behavior on the sphinx rendered scikit-learn.org. See: https://github.com/scikit-learn/scikit-learn/issues/21755 */display: inline-block !important;position: relative;}#sk-container-id-4 div.sk-text-repr-fallback {display: none;}</style><div id=\"sk-container-id-4\" class=\"sk-top-container\"><div class=\"sk-text-repr-fallback\"><pre>GridSearchCV(cv=KFold(n_splits=5, random_state=0, shuffle=True),\n",
              "             estimator=PLSRegression(),\n",
              "             param_grid={&#x27;n_components&#x27;: range(1, 20)},\n",
              "             scoring=&#x27;neg_mean_squared_error&#x27;)</pre><b>In a Jupyter environment, please rerun this cell to show the HTML representation or trust the notebook. <br />On GitHub, the HTML representation is unable to render, please try loading this page with nbviewer.org.</b></div><div class=\"sk-container\" hidden><div class=\"sk-item sk-dashed-wrapped\"><div class=\"sk-label-container\"><div class=\"sk-label sk-toggleable\"><input class=\"sk-toggleable__control sk-hidden--visually\" id=\"sk-estimator-id-8\" type=\"checkbox\" ><label for=\"sk-estimator-id-8\" class=\"sk-toggleable__label sk-toggleable__label-arrow\">GridSearchCV</label><div class=\"sk-toggleable__content\"><pre>GridSearchCV(cv=KFold(n_splits=5, random_state=0, shuffle=True),\n",
              "             estimator=PLSRegression(),\n",
              "             param_grid={&#x27;n_components&#x27;: range(1, 20)},\n",
              "             scoring=&#x27;neg_mean_squared_error&#x27;)</pre></div></div></div><div class=\"sk-parallel\"><div class=\"sk-parallel-item\"><div class=\"sk-item\"><div class=\"sk-label-container\"><div class=\"sk-label sk-toggleable\"><input class=\"sk-toggleable__control sk-hidden--visually\" id=\"sk-estimator-id-9\" type=\"checkbox\" ><label for=\"sk-estimator-id-9\" class=\"sk-toggleable__label sk-toggleable__label-arrow\">estimator: PLSRegression</label><div class=\"sk-toggleable__content\"><pre>PLSRegression()</pre></div></div></div><div class=\"sk-serial\"><div class=\"sk-item\"><div class=\"sk-estimator sk-toggleable\"><input class=\"sk-toggleable__control sk-hidden--visually\" id=\"sk-estimator-id-10\" type=\"checkbox\" ><label for=\"sk-estimator-id-10\" class=\"sk-toggleable__label sk-toggleable__label-arrow\">PLSRegression</label><div class=\"sk-toggleable__content\"><pre>PLSRegression()</pre></div></div></div></div></div></div></div></div></div></div>"
            ]
          },
          "metadata": {},
          "execution_count": 39
        }
      ]
    },
    {
      "cell_type": "markdown",
      "source": [
        "As for our other methods, we plot the MSE."
      ],
      "metadata": {
        "id": "kEj6KCMaVYtB"
      },
      "id": "kEj6KCMaVYtB"
    },
    {
      "cell_type": "code",
      "source": [
        "pls_fig, ax = subplots(figsize=(8,8))\n",
        "n_comp = param_grid['n_components']\n",
        "ax.errorbar(n_comp, -grid.cv_results_['mean_test_score'], grid.cv_results_['std_test_score'] / np.sqrt(K))\n",
        "ax.set_ylabel('Cross-validated MSE', fontsize=20)\n",
        "ax.set_xlabel('# principal components', fontsize=20)\n",
        "ax.set_xticks(n_comp[::2])\n",
        "ax.set_ylim([50000,250000]);\n"
      ],
      "metadata": {
        "id": "q6f8fPUDVZIp",
        "colab": {
          "base_uri": "https://localhost:8080/",
          "height": 715
        },
        "outputId": "be392e86-ddd2-4826-f2cd-82f5c547f382"
      },
      "id": "q6f8fPUDVZIp",
      "execution_count": 40,
      "outputs": [
        {
          "output_type": "display_data",
          "data": {
            "text/plain": [
              "<Figure size 800x800 with 1 Axes>"
            ],
            "image/png": "[encoded data removed]"
          },
          "metadata": {}
        }
      ]
    },
    {
      "cell_type": "markdown",
      "source": [
        "CV error is minimized at 12,\n",
        "though there is little noticable difference between this point and a much lower number like 2 or 3 components.\n",
        "\n"
      ],
      "metadata": {
        "id": "_10GuEiqVcJQ"
      },
      "id": "_10GuEiqVcJQ"
    },
    {
      "cell_type": "markdown",
      "source": [
        "##Conclusions"
      ],
      "metadata": {
        "id": "ov82Ks0sVdCv"
      },
      "id": "ov82Ks0sVdCv"
    },
    {
      "cell_type": "markdown",
      "source": [
        "Let's summarize the merits and shortcomings of PCA, PCR, and PLS.\n",
        "\n",
        "Principal Component Analysis (PCA):\n",
        "- Merits: PCA is a dimensionality reduction technique that helps identify the most important features related to variance. It allows for the visualization and understanding of the underlying structure and relationships within the data. PCA can be useful for noise reduction, data compression, and identifying patterns in high-dimensional data.\n",
        "- Shortcoming: PCA assumes a linear relationship between variables and may not capture nonlinear relationships.\n",
        "\n",
        "Principal Component Regression (PCR):\n",
        "- Merits: PCR combines the benefits of PCA for dimensionality reduction with regression analysis. It allows for the handling of multicollinearity and can improve prediction accuracy by selecting the most variance-informative PCs. PCR can be useful when dealing with high-dimensional datasets and a large number of predictors.\n",
        "- Shortcomings: PCR may suffer from overfitting if too many principal components are used. During regression, the issue of ill-conditioned covariance matrix may occur.\n",
        "  *   Ridge Regression (RR): regularization technique that can handle multicollinearity and mitigate overfitting.\n",
        "  *   LASSO: regularization technique to address multicollinearity and overfitting; variable selection.\n",
        "  \n",
        "\n",
        "Partial Least Squares (PLS):\n",
        "- Merits: PLS is a dimensionality reduction technique similar to PCA but with a focus on maximizing the covariance between the predictors and the response variable, i.e., it considers the information in the response variables while building the regression model.\n",
        "- Shortcomings: Interpretability is more challenging since PLS transforms both the predictors and the response variables.\n",
        "\n",
        "In summary, PCA is useful for dimensionality reduction and understanding the structure of the data, while PCR combines PCA with direct regression analysis.\n",
        "Ridge Regression and LASSO can regularize issues of multicollinearity and overfitting for regression models.\n",
        "PLS focuses on maximizing predictive power by finding common components that maximize covariance between predictors and the response variable.\n",
        "\n",
        "The above is a continuous research route, where we can cultivate the ability of critical thinking.\n",
        "Each method has its own strengths and limitations, and the choice depends on the data properties, the expert knowledge, and the specific goals."
      ],
      "metadata": {
        "id": "4ImNzM-Erdko"
      },
      "id": "4ImNzM-Erdko"
    },
    {
      "cell_type": "code",
      "source": [],
      "metadata": {
        "id": "5NG_YmI6VeaN"
      },
      "id": "5NG_YmI6VeaN",
      "execution_count": null,
      "outputs": []
    }
  ],
  "metadata": {
    "jupytext": {
      "cell_metadata_filter": "-all",
      "formats": "Rmd,ipynb",
      "main_language": "python"
    },
    "language_info": {
      "name": "python"
    },
    "colab": {
      "provenance": [],
      "toc_visible": true
    },
    "kernelspec": {
      "name": "python3",
      "display_name": "Python 3"
    }
  },
  "nbformat": 4,
  "nbformat_minor": 5
}
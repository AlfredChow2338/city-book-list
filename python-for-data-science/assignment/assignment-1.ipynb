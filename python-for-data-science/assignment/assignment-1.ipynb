{
 "cells": [
  {
   "cell_type": "markdown",
   "metadata": {
    "id": "bf29Hb60G0nP"
   },
   "source": [
    "## Assignment 1\n",
    "\n",
    "**Instructions:** <br>\n",
    "a. write your answer after `# your answer here`. Do not delete any code that is in the cell, as the code facilitates checking your answers. If you happen to delete any code that prevents expected outputs, you may lose points. <br>\n",
    "b. when you finish the assignment, make sure to use `Kernel` -> `Restart and Run All` to restart the kernel and rerun the entire notebook to generate the desired outputs, before submitting your assignment. <br>\n",
    "c. upload your .ipynb file. <br>\n",
    "<br>\n",
    "Each question is worth 5 points.\n",
    "### Python Types and Functions"
   ]
  },
  {
   "cell_type": "markdown",
   "metadata": {
    "id": "BzRWmNCJG0nQ"
   },
   "source": [
    "1. Write a function to check if a given key (input1) already exists in a dictionary (input2), if true, return a tuple of the key and the value; if false, return None."
   ]
  },
  {
   "cell_type": "code",
   "execution_count": 42,
   "metadata": {
    "colab": {
     "base_uri": "https://localhost:8080/"
    },
    "id": "pTRxeR07G0nQ",
    "outputId": "e93cecbb-b4f8-411b-a1f6-397ef02b4276"
   },
   "outputs": [
    {
     "name": "stdout",
     "output_type": "stream",
     "text": [
      "True\n",
      "False\n"
     ]
    }
   ],
   "source": [
    "fruits = {'apple': 'red', 'pear': 'yellow', 'orange': 'orange', 'grape': 'purple'}\n",
    "def is_key_present(input1, input2):\n",
    "  # your answer here\n",
    "  return input1 in input2\n",
    "\n",
    "print(is_key_present('pear', fruits))\n",
    "print(is_key_present('watermelon', fruits))"
   ]
  },
  {
   "cell_type": "markdown",
   "metadata": {
    "id": "uUNbC2-SG0nR"
   },
   "source": [
    "2. Create a function that takes a string as the input and returns a dictionary showing the number of characters in a string. <br>\n",
    "Sample Input: 'apple pie' <br>\n",
    "Output: {'a': 1, 'p': 3, 'l': 1, 'e': 2, ' ': 1, 'i': 1}"
   ]
  },
  {
   "cell_type": "code",
   "execution_count": 41,
   "metadata": {
    "colab": {
     "base_uri": "https://localhost:8080/"
    },
    "id": "B8NzACwrG0nR",
    "outputId": "53f39d46-8649-433a-c7c8-b404d3e3316f"
   },
   "outputs": [
    {
     "name": "stdout",
     "output_type": "stream",
     "text": [
      "{'a': 1, 'p': 3, 'l': 1, 'e': 2, ' ': 1, 'i': 1}\n"
     ]
    }
   ],
   "source": [
    "def char_frequency(string):\n",
    "    # your answer here\n",
    "    dic = {}\n",
    "    for s in string:\n",
    "      if s not in dic:\n",
    "        dic[s] = 1\n",
    "      else:\n",
    "        dic[s] += 1\n",
    "\n",
    "    return dic\n",
    "\n",
    "print(char_frequency('apple pie'))"
   ]
  },
  {
   "cell_type": "markdown",
   "metadata": {
    "id": "hsh5ManeG0nR"
   },
   "source": [
    "3. Create a function that takes a string as the input and return a string that is made of the first 2 and the last 2 characters of the input string. If the string length is less than 2, return 'The length of the input string is shorter than 2!'. <br>\n",
    "Sample String : 'carnivore' <br>\n",
    "Expected Result : 'care' <br>\n",
    "Sample String : 'hi' <br>\n",
    "Expected Result : 'hihi' <br>\n",
    "Sample String : '?' <br>\n",
    "Expected Result : 'The length of the input string is shorter than 2!'"
   ]
  },
  {
   "cell_type": "code",
   "execution_count": 37,
   "metadata": {
    "colab": {
     "base_uri": "https://localhost:8080/"
    },
    "id": "6z6tPHNlG0nR",
    "outputId": "0028cbf7-8292-41c8-fc72-49ef306411f9"
   },
   "outputs": [
    {
     "name": "stdout",
     "output_type": "stream",
     "text": [
      "care\n",
      "hihi\n",
      "The length of the input string is shorter than 2!\n"
     ]
    }
   ],
   "source": [
    "def string_start2_end2(str):\n",
    "  # your answer here\n",
    "  if len(str) < 2:\n",
    "    return 'The length of the input string is shorter than 2!'\n",
    "  first_two = str[0:2]\n",
    "  last_two = str[len(str)-2:]\n",
    "  return first_two + last_two\n",
    "\n",
    "\n",
    "print(string_start2_end2('carnivore'))\n",
    "print(string_start2_end2('hi'))\n",
    "print(string_start2_end2('?'))"
   ]
  },
  {
   "cell_type": "markdown",
   "metadata": {
    "id": "WjZu3GetG0nR"
   },
   "source": [
    "4. Create a function that takes two inputs of lists and return an interwined list in this way: <br>\n",
    "Sample input: <br>\n",
    "listA = [1, 2, 3, 4]<br>\n",
    "listB = ['a', 'b', 'c', 'd', 'e', 'f']<br>\n",
    "Return:\n",
    "[1, 'a', 2, 'b', 3, 'c', 4, 'd', 'e', 'f'].<br>\n",
    "Note: when the lengths do not match, the remainder shall be appended to the end of the output list."
   ]
  },
  {
   "cell_type": "code",
   "execution_count": 24,
   "metadata": {
    "colab": {
     "base_uri": "https://localhost:8080/"
    },
    "id": "Cf5YKxcjG0nR",
    "outputId": "95694bb9-17b0-4096-825f-e9042ef0249d"
   },
   "outputs": [
    {
     "name": "stdout",
     "output_type": "stream",
     "text": [
      "[1, 'a', 2, 'b', 3, 'c', 4, 'd', 'e', 'f']\n",
      "['a', 1, 'b', 2, 'c', 3, 'd', 4, 'e', 'f']\n",
      "[1, 1, 2, 2, 3, 3, 4, 4]\n"
     ]
    }
   ],
   "source": [
    "def interwine(A, B):\n",
    "    # your answer here\n",
    "    max_len = max(len(A), len(B))\n",
    "    ans = []\n",
    "\n",
    "    for i in range(max_len):\n",
    "      if i < len(A):\n",
    "        ans.append(A[i])\n",
    "      if i < len(B):\n",
    "        ans.append(B[i])\n",
    "\n",
    "    return ans\n",
    "\n",
    "listA = [1, 2, 3, 4]\n",
    "listB = ['a', 'b', 'c', 'd', 'e', 'f']\n",
    "\n",
    "print(interwine(listA, listB))\n",
    "print(interwine(listB, listA))\n",
    "print(interwine(listA, listA))"
   ]
  },
  {
   "cell_type": "markdown",
   "metadata": {
    "id": "3DUX2rvaG0nR"
   },
   "source": [
    "### Lambda"
   ]
  },
  {
   "cell_type": "markdown",
   "metadata": {
    "id": "6schV_8lG0nS"
   },
   "source": [
    "5. Write a function to extract year, month and day from datetime using Lambda, and print using the string formatting.<br>\n",
    "Sample input:\n",
    "now = 2020-09-10 22:24:17.072952<br>\n",
    "Output: 'Year: 2020, month: 9, day: 10'<br> <br>\n",
    "Example for string formatting:<br>\n",
    "hello_statement = 'Hello, {}!'<br>\n",
    "hello_statement.format('World')<br>"
   ]
  },
  {
   "cell_type": "code",
   "execution_count": 21,
   "metadata": {
    "colab": {
     "base_uri": "https://localhost:8080/",
     "height": 53
    },
    "id": "NT4P3n3oG0nS",
    "outputId": "afc8cc65-19cf-4f38-850a-c2b2e07e981e"
   },
   "outputs": [
    {
     "name": "stdout",
     "output_type": "stream",
     "text": [
      "2023-09-26 13:03:41.594444\n"
     ]
    },
    {
     "data": {
      "application/vnd.google.colaboratory.intrinsic+json": {
       "type": "string"
      },
      "text/plain": [
       "'Year: 2023, month: 9, day: 26'"
      ]
     },
     "execution_count": 21,
     "metadata": {},
     "output_type": "execute_result"
    }
   ],
   "source": [
    "import datetime\n",
    "now = datetime.datetime.now()\n",
    "print(now)\n",
    "\n",
    "def date_time(date):\n",
    "    #use lambda to extract the information\n",
    "    getYear = lambda x: x.year\n",
    "    getMonth = lambda x: x.month\n",
    "    getDay = lambda x: x.day\n",
    "\n",
    "    year = getYear(date)\n",
    "    month = getMonth(date)\n",
    "    day = getDay(date)\n",
    "\n",
    "    #string formatting\n",
    "    date_str = 'Year: {}, month: {}, day: {}'\n",
    "    return date_str.format(year, month, day)\n",
    "\n",
    "\n",
    "date_time(now)"
   ]
  },
  {
   "cell_type": "markdown",
   "metadata": {
    "id": "l13nvzEVG0nS"
   },
   "source": [
    "6. Sort a list of tuples by the second element using Lambda.<br>\n",
    "Sample input: [('Apple', 12), ('Pear', 2), ('Orange', 15), ('Banana', 0)] <br>\n",
    "Output: [('Banana', 0), ('Pear', 2), ('Apple', 12), ('Orange', 15)]"
   ]
  },
  {
   "cell_type": "code",
   "execution_count": 13,
   "metadata": {
    "colab": {
     "base_uri": "https://localhost:8080/"
    },
    "id": "C1RpScM_G0nS",
    "outputId": "4ffa75a1-8206-4091-8a82-aa2e45b03a17",
    "scrolled": true
   },
   "outputs": [
    {
     "name": "stdout",
     "output_type": "stream",
     "text": [
      "Original list of tuples:\n",
      "[('Apple', 12), ('Pear', 2), ('Orange', 15), ('Banana', 0)]\n",
      "\n",
      "Sorted list of Tuples:\n",
      "[('Banana', 0), ('Pear', 2), ('Apple', 12), ('Orange', 15)]\n"
     ]
    }
   ],
   "source": [
    "before = [('Apple', 12), ('Pear', 2), ('Orange', 15), ('Banana', 0)]\n",
    "\n",
    "# Use lambda to create an output list: your answer here\n",
    "after = sorted(before, key=lambda x: x[1])\n",
    "\n",
    "print(\"Original list of tuples:\")\n",
    "print(before)\n",
    "\n",
    "print(\"\\nSorted list of Tuples:\")\n",
    "print(after)"
   ]
  },
  {
   "cell_type": "markdown",
   "metadata": {
    "id": "V4no1a6aG0nS"
   },
   "source": [
    "7. Write a function to count the odd, even numbers in a given array of integers using Lambda. <br>\n",
    "Sample input:  <br>\n",
    "[1, 4, 3, 11, 7, 8, 15, 10]  <br>\n",
    "Sample output:  <br>\n",
    "Number of odd numbers: 5  <br>\n",
    "Number of even numbers: 3  <br>"
   ]
  },
  {
   "cell_type": "code",
   "execution_count": 12,
   "metadata": {
    "colab": {
     "base_uri": "https://localhost:8080/"
    },
    "id": "WXRJMp6fG0nS",
    "outputId": "263b4f55-9f02-47ee-dccf-d7f09bc33da0"
   },
   "outputs": [
    {
     "name": "stdout",
     "output_type": "stream",
     "text": [
      "Number of odd numbers:  5\n",
      "Number of even numbers:  3\n"
     ]
    }
   ],
   "source": [
    "array_example = [1, 4, 3, 11, 7, 8, 15, 10]\n",
    "def even_odd(array_numbers):\n",
    "    # your answer here: variables 'odd' and 'even' are the counted numbers respectively\n",
    "    # odd = len([n for n in array_numbers if n % 2 != 0])\n",
    "    # even = len([n for n in array_numbers if n % 2 == 0])\n",
    "\n",
    "    odd = len(list(filter(lambda x: x % 2 != 0, array_numbers)))\n",
    "    even = len(list(filter(lambda x: x % 2 == 0, array_numbers)))\n",
    "\n",
    "    print(\"Number of odd numbers: \", odd)\n",
    "    print(\"Number of even numbers: \", even)\n",
    "\n",
    "even_odd(array_example)"
   ]
  },
  {
   "cell_type": "markdown",
   "metadata": {
    "id": "1nzg76FBG0nS"
   },
   "source": [
    "### List Comprehension"
   ]
  },
  {
   "cell_type": "markdown",
   "metadata": {
    "id": "QMjlbEKPG0nS"
   },
   "source": [
    "8. Create a function that takes an input list of strings and returns (1) a list containing the length of each string and (2) a tuple containing the longest string and its index in the list. <br>\n",
    "Note: you shall use list comprehension in the function.<br> <br>\n",
    "Sample input: ['I', 'love', 'programming', 'using', 'Python'] <br>\n",
    "Return: ([1, 4, 11, 5, 6], ('programming', 2))."
   ]
  },
  {
   "cell_type": "code",
   "execution_count": 4,
   "metadata": {
    "colab": {
     "base_uri": "https://localhost:8080/"
    },
    "id": "vUUwOAOYG0nS",
    "outputId": "f8182740-fe3d-46f7-f43a-8401d6e16dfd"
   },
   "outputs": [
    {
     "name": "stdout",
     "output_type": "stream",
     "text": [
      "([1, 4, 11, 5, 6], ('programming', 2))\n"
     ]
    }
   ],
   "source": [
    "def find_longest_word(words_list):\n",
    "    # list comprehension\n",
    "    len_list = [len(w) for w in words_list]\n",
    "    longest_word = max(words_list, key=len)\n",
    "\n",
    "    # find index of the longest string\n",
    "    index = words_list.index(longest_word)\n",
    "\n",
    "    return (len_list, (longest_word, index))\n",
    "\n",
    "print(find_longest_word(['I', 'love', 'programming', 'using', 'Python']))"
   ]
  },
  {
   "cell_type": "markdown",
   "metadata": {
    "id": "ZDdrcQA5G0nS"
   },
   "source": [
    "### Numpy"
   ]
  },
  {
   "cell_type": "markdown",
   "metadata": {
    "id": "wMddk8faG0nS"
   },
   "source": [
    "9. Use numpy and arange to create a 2x4 matrix with values ranging from 2 to 9. <br>\n",
    "Ouput:<br>\n",
    "Expected Output:<br>\n",
    "[[ 2 3 4 5]<br>\n",
    "[ 6 7 8 9]]"
   ]
  },
  {
   "cell_type": "code",
   "execution_count": 90,
   "metadata": {
    "colab": {
     "base_uri": "https://localhost:8080/"
    },
    "id": "uwMdmfEgG0nT",
    "outputId": "35bfe619-a275-4b42-ff07-2af5cde03fbc"
   },
   "outputs": [
    {
     "name": "stdout",
     "output_type": "stream",
     "text": [
      "[[2 3 4 5]\n",
      " [6 7 8 9]]\n"
     ]
    }
   ],
   "source": [
    "import numpy as np\n",
    "# your answer here\n",
    "arr = np.arange(2, 10)\n",
    "matrix = arr.reshape(2, 4)\n",
    "print(matrix)\n"
   ]
  },
  {
   "cell_type": "markdown",
   "metadata": {
    "id": "b-lVPrj5G0nT"
   },
   "source": [
    "10. Write a function to take an integer numpy array as the input, then (1) create an array that has the same values as the input array, and if there are odd numbers, add 1 to change them to even numbers, (2) stack the input array and the new array vertically, and (3) change the array to the float type (i.e. 'float32'). <br>\n",
    "Sample input:<br>\n",
    "[ 1  5  7 12 14] <br>\n",
    "Output: <br>\n",
    "[[ 1.  5.  7. 12. 14.]<br>\n",
    " [ 2.  6.  8. 12. 14.]]"
   ]
  },
  {
   "cell_type": "code",
   "execution_count": 91,
   "metadata": {
    "colab": {
     "base_uri": "https://localhost:8080/"
    },
    "id": "tub36gUfG0nT",
    "outputId": "fed2c437-8afa-44ea-902d-87b27cb2986e"
   },
   "outputs": [
    {
     "name": "stdout",
     "output_type": "stream",
     "text": [
      "[ 1  5  7 12 14] \n",
      "\n",
      "float32\n",
      "[[ 1.  5.  7. 12. 14.]\n",
      " [ 2.  6.  8. 12. 14.]]\n"
     ]
    }
   ],
   "source": [
    "import numpy as np\n",
    "example = np.array([1, 5, 7, 12, 14],dtype='int32')\n",
    "print(example,'\\n')\n",
    "\n",
    "def array_func(a):\n",
    "    # your answer here\n",
    "    arr = np.copy(a)\n",
    "    arr[arr % 2 != 0] += 1\n",
    "    ans = np.array([a, arr], dtype='float32')\n",
    "    return ans\n",
    "\n",
    "result = array_func(example)\n",
    "print(result.dtype)\n",
    "print(result)"
   ]
  },
  {
   "cell_type": "markdown",
   "metadata": {
    "id": "ol7WkYROG0nT"
   },
   "source": [
    "11. Use numpy to first create a 6 by 6 matrix and fill it with a checkerboard pattern. Then append a column of 2's to the left. <br>\n",
    "Checkerboard pattern:<br>\n",
    "[[2 0 1 0 1 0 1]                                                      \n",
    " [2 1 0 1 0 1 0]                                                      \n",
    " [2 0 1 0 1 0 1]                                                      \n",
    " [2 1 0 1 0 1 0]                                                      \n",
    " [2 0 1 0 1 0 1]                                                      \n",
    " [2 1 0 1 0 1 0]]"
   ]
  },
  {
   "cell_type": "code",
   "execution_count": 92,
   "metadata": {
    "colab": {
     "base_uri": "https://localhost:8080/"
    },
    "id": "HevN-8qnG0nT",
    "outputId": "fba944af-def2-4a13-944d-c9e1d754a046"
   },
   "outputs": [
    {
     "name": "stdout",
     "output_type": "stream",
     "text": [
      "A checkerboard pattern with 2's on the left:\n",
      "[[2 1 0 1 0 1 0]\n",
      " [2 0 1 0 1 0 1]\n",
      " [2 1 0 1 0 1 0]\n",
      " [2 0 1 0 1 0 1]\n",
      " [2 1 0 1 0 1 0]\n",
      " [2 0 1 0 1 0 1]]\n"
     ]
    }
   ],
   "source": [
    "import numpy as np\n",
    "print(\"A checkerboard pattern with 2's on the left:\")\n",
    "# your answer here\n",
    "column = np.full([6,1], 2)\n",
    "\n",
    "matrix = np.zeros((6, 6), dtype=int)\n",
    "matrix[::2, ::2] = 1\n",
    "matrix[1::2, 1::2] = 1\n",
    "\n",
    "merged = np.hstack((column, matrix))\n",
    "\n",
    "print(merged)\n",
    "\n",
    "\n",
    "\n",
    "\n"
   ]
  },
  {
   "cell_type": "markdown",
   "metadata": {
    "id": "3r6xXw9OG0nT"
   },
   "source": [
    "12. Write a function that obtains 1000 samples from normal distribution (mean=0, standard deviation=2) and calculate cosine for each of them. Then return an array that contains (1) the number of elements that is negative, (2) the mean, and (3) the 25th and 75th percentiles. Use numpy.round? to round your results to have three decimals. <br>\n",
    "Sample output:<br>\n",
    "array([390.   ,   0.173,  -0.477,   0.832])<br>"
   ]
  },
  {
   "cell_type": "code",
   "execution_count": 93,
   "metadata": {
    "colab": {
     "base_uri": "https://localhost:8080/"
    },
    "id": "8RhBcupiG0nT",
    "outputId": "c582e6d5-4e0e-4901-d247-3859119a922d"
   },
   "outputs": [
    {
     "data": {
      "text/plain": [
       "array([507.   ,   0.031,  -5.191,  -4.767])"
      ]
     },
     "execution_count": 93,
     "metadata": {},
     "output_type": "execute_result"
    }
   ],
   "source": [
    "import numpy as np\n",
    "np.set_printoptions(suppress=True)\n",
    "\n",
    "def fun_cos():\n",
    "    # your answer here\n",
    "    samples = np.random.normal(loc=0, scale=2, size=1000)\n",
    "    cos_samples = np.cos(samples)\n",
    "\n",
    "    num_neg = np.sum(samples >= 0, axis=0)\n",
    "    mean = np.round(np.mean(samples), 3)\n",
    "    low_q = np.round(np.percentile(samples, 0.25), 3)\n",
    "    high_q = np.round(np.percentile(samples, 0.75), 3)\n",
    "\n",
    "    ans = np.array([num_neg, mean, low_q, high_q])\n",
    "\n",
    "    return ans\n",
    "\n",
    "np.random.seed(1234)\n",
    "fun_cos()"
   ]
  }
 ],
 "metadata": {
  "colab": {
   "provenance": []
  },
  "kernelspec": {
   "display_name": "Python 3 (ipykernel)",
   "language": "python",
   "name": "python3"
  },
  "language_info": {
   "codemirror_mode": {
    "name": "ipython",
    "version": 3
   },
   "file_extension": ".py",
   "mimetype": "text/x-python",
   "name": "python",
   "nbconvert_exporter": "python",
   "pygments_lexer": "ipython3",
   "version": "3.11.3"
  }
 },
 "nbformat": 4,
 "nbformat_minor": 0
}

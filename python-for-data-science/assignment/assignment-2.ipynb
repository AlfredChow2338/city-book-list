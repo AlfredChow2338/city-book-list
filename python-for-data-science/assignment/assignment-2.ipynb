{
 "cells": [
  {
   "cell_type": "markdown",
   "metadata": {
    "id": "UY45xexjupgz"
   },
   "source": [
    "## Assignment 2 Pandas\n",
    "\n",
    "### Note: make sure to save your work and double-check the uploaded file. Empty assignment or no submission receives 0 point, regardless of the reason.\n",
    "\n",
    "**Instructions:** <br>\n",
    "a. write your answer after `# your answer here`. Do not delete any code that is in the cell, as the code facilitates checking your answers. If you happen to delete any code that prevents expected outputs, you may lose points. <br>\n",
    "b. when you finish the assignment, make sure to use `Kernel` -> `Restart and Run All` to restart the kernel and rerun the entire notebook to generate the desired outputs, before submitting your assignment. <br>\n",
    "c. upload your .ipynb file. <br>\n",
    "<br>\n",
    "Each subquestion is worth 5 points, and the total score for assignment 2 is 75 points.\n",
    "\n",
    "**Policy:** <br>\n",
    "Assignment submitted late will receive a late penalty (30% point reduction), regardless of the reason. Empty assignment or no submission receives 0 point."
   ]
  },
  {
   "cell_type": "markdown",
   "metadata": {
    "id": "zCmXmfCHupg2"
   },
   "source": [
    "\n",
    "### Question 1\n",
    "\n",
    "Use the code to simulate data and answer the questions below."
   ]
  },
  {
   "cell_type": "code",
   "execution_count": 1,
   "metadata": {
    "id": "DRKmg-Puupg3"
   },
   "outputs": [],
   "source": [
    "import pandas as pd\n",
    "import numpy as np\n",
    "np.random.seed(1234)\n",
    "s1 = pd.Series(np.random.randint(1, high=5, size=100, dtype='l'))\n",
    "s2 = pd.Series(np.random.randint(1, high=4, size=100, dtype='l'))\n",
    "s3 = pd.Series(np.random.randint(100, high=301, size=100, dtype='l'))\n",
    "s4 = pd.Series(np.random.randint(10000, high=30001, size=100, dtype='l'))"
   ]
  },
  {
   "cell_type": "markdown",
   "metadata": {
    "id": "dQQ5P84Jupg5"
   },
   "source": [
    " 1. (1) Create a DataFrame `df` by concatenating the three Series s1, s2, s3 as three columns (df: 100 by 3), and then rename column names to be 'a', 'b', 'c'. Keep the first 70 rows of `df`(df: 70 by 3).<br>\n",
    " Create another DataFrame `df2` by joinning the two Series s1, s4 by column (df2: 100 by 2), and the column names should be 'A' and 'B'. Then, keep the last 50 rows of `df2`(df2: 50 by 2)."
   ]
  },
  {
   "cell_type": "code",
   "execution_count": 9,
   "metadata": {
    "id": "nCpXlYQAupg5"
   },
   "outputs": [
    {
     "name": "stdout",
     "output_type": "stream",
     "text": [
      "Index(['a', 'b', 'c'], dtype='object') \n",
      "\n",
      "Index(['A', 'B'], dtype='object') \n",
      "\n",
      "RangeIndex(start=0, stop=70, step=1) \n",
      "\n",
      "RangeIndex(start=50, stop=100, step=1) \n",
      "\n"
     ]
    }
   ],
   "source": [
    "# Your answer here\n",
    "df = pd.concat([s1, s2, s3], axis=1)\n",
    "df.columns = ['a', 'b', 'c']\n",
    "df = df.head(70)\n",
    "\n",
    "df2 = pd.concat([s1, s4], axis=1)\n",
    "df2.columns = ['A', 'B']\n",
    "df2 = df2.tail(50)\n",
    "\n",
    "# for grading\n",
    "print(df.columns,'\\n'); print(df2.columns,'\\n')\n",
    "print(df.index,'\\n'); print(df2.index,'\\n')"
   ]
  },
  {
   "cell_type": "markdown",
   "metadata": {
    "id": "K9tVbJZPupg6"
   },
   "source": [
    "1. (2) Merge `df` and `df2` by the index values into `df3`. Note that we will only keep the intersections of the two dataframes (`df3`: 20 by 5). Additionally, drop the column in `df3` that is repetitive (`df3`: 20 by 4)."
   ]
  },
  {
   "cell_type": "code",
   "execution_count": 30,
   "metadata": {
    "id": "kCxGQHHdupg6"
   },
   "outputs": [
    {
     "data": {
      "text/html": [
       "<div>\n",
       "<style scoped>\n",
       "    .dataframe tbody tr th:only-of-type {\n",
       "        vertical-align: middle;\n",
       "    }\n",
       "\n",
       "    .dataframe tbody tr th {\n",
       "        vertical-align: top;\n",
       "    }\n",
       "\n",
       "    .dataframe thead th {\n",
       "        text-align: right;\n",
       "    }\n",
       "</style>\n",
       "<table border=\"1\" class=\"dataframe\">\n",
       "  <thead>\n",
       "    <tr style=\"text-align: right;\">\n",
       "      <th></th>\n",
       "      <th>a</th>\n",
       "      <th>b</th>\n",
       "      <th>c</th>\n",
       "      <th>B</th>\n",
       "    </tr>\n",
       "  </thead>\n",
       "  <tbody>\n",
       "    <tr>\n",
       "      <th>50</th>\n",
       "      <td>2</td>\n",
       "      <td>1</td>\n",
       "      <td>168</td>\n",
       "      <td>19055</td>\n",
       "    </tr>\n",
       "    <tr>\n",
       "      <th>51</th>\n",
       "      <td>4</td>\n",
       "      <td>3</td>\n",
       "      <td>160</td>\n",
       "      <td>16122</td>\n",
       "    </tr>\n",
       "    <tr>\n",
       "      <th>52</th>\n",
       "      <td>4</td>\n",
       "      <td>1</td>\n",
       "      <td>206</td>\n",
       "      <td>22849</td>\n",
       "    </tr>\n",
       "    <tr>\n",
       "      <th>53</th>\n",
       "      <td>4</td>\n",
       "      <td>1</td>\n",
       "      <td>103</td>\n",
       "      <td>16809</td>\n",
       "    </tr>\n",
       "    <tr>\n",
       "      <th>54</th>\n",
       "      <td>3</td>\n",
       "      <td>1</td>\n",
       "      <td>275</td>\n",
       "      <td>29924</td>\n",
       "    </tr>\n",
       "  </tbody>\n",
       "</table>\n",
       "</div>"
      ],
      "text/plain": [
       "    a  b    c      B\n",
       "50  2  1  168  19055\n",
       "51  4  3  160  16122\n",
       "52  4  1  206  22849\n",
       "53  4  1  103  16809\n",
       "54  3  1  275  29924"
      ]
     },
     "execution_count": 30,
     "metadata": {},
     "output_type": "execute_result"
    }
   ],
   "source": [
    "# Your answer here\n",
    "df3 = pd.merge(df, df2, left_index=True, right_index=True).drop('A', axis=1)\n",
    "\n",
    "# for grading\n",
    "df3.head()"
   ]
  },
  {
   "cell_type": "markdown",
   "metadata": {
    "id": "1dQFgHOsupg6"
   },
   "source": [
    "1. (3) Create a one column DataFrame with the values of the three Series s1, s2, s3 and assign it to 'df4' (300 by 1)."
   ]
  },
  {
   "cell_type": "code",
   "execution_count": 39,
   "metadata": {
    "id": "93XTQ5X0upg7"
   },
   "outputs": [
    {
     "name": "stdout",
     "output_type": "stream",
     "text": [
      "<class 'pandas.core.series.Series'>\n",
      "(300,)\n",
      "295    202\n",
      "296    108\n",
      "297    141\n",
      "298    261\n",
      "299    169\n",
      "dtype: int64\n"
     ]
    }
   ],
   "source": [
    "# Your answer here\n",
    "# print(s1)\n",
    "# print(s2)\n",
    "# print(s3)\n",
    "df4 = pd.concat([s1, s2, s3], axis=0)\n",
    "\n",
    "# for grading\n",
    "print(type(df4)) #check the type of the df4\n",
    "print(df4.shape) #check the shape\n",
    "print(df4.tail()) #check last columns: note the index"
   ]
  },
  {
   "cell_type": "markdown",
   "metadata": {
    "id": "fmnZSR9dupg7"
   },
   "source": [
    "1. (4) Reindex the DataFrame so that the index is from 0 to 299"
   ]
  },
  {
   "cell_type": "code",
   "execution_count": 40,
   "metadata": {
    "id": "5whxJME0upg7"
   },
   "outputs": [
    {
     "data": {
      "text/plain": [
       "0        4\n",
       "1        4\n",
       "2        3\n",
       "3        2\n",
       "4        1\n",
       "      ... \n",
       "295    202\n",
       "296    108\n",
       "297    141\n",
       "298    261\n",
       "299    169\n",
       "Length: 300, dtype: int64"
      ]
     },
     "execution_count": 40,
     "metadata": {},
     "output_type": "execute_result"
    }
   ],
   "source": [
    "# Your answer here\n",
    "df4 = df4.reset_index(drop=True)\n",
    "\n",
    "# for grading\n",
    "df4"
   ]
  },
  {
   "cell_type": "markdown",
   "metadata": {
    "id": "8D8YoKDOupg7"
   },
   "source": [
    "### Question 2\n",
    "\n",
    "First, download the Olympic medal dataset (medals.csv). Use the following code to load the dataset.\n",
    "\n",
    "The columns give information on: <br>\n",
    "summer Olympic games--number of games and summer medals;  <br>\n",
    "winter Olympic games--number of games and winter medals;  <br>\n",
    "total Olympic games--number of games and total medals."
   ]
  },
  {
   "cell_type": "code",
   "execution_count": 43,
   "metadata": {
    "id": "_xJndZy3upg8",
    "nbgrader": {
     "grade": false,
     "grade_id": "1",
     "locked": false,
     "solution": false
    },
    "scrolled": false,
    "umich_question": "prolog-000"
   },
   "outputs": [],
   "source": [
    "import pandas as pd\n",
    "df = pd.read_csv('medals.csv', index_col=0, skiprows=0)"
   ]
  },
  {
   "cell_type": "markdown",
   "metadata": {
    "id": "_bGo_O60upg8"
   },
   "source": [
    "2. (1) Show the first 6 rows in the DataFrame."
   ]
  },
  {
   "cell_type": "code",
   "execution_count": 44,
   "metadata": {
    "id": "QEy5lkUoupg8",
    "scrolled": true
   },
   "outputs": [
    {
     "data": {
      "text/html": [
       "<div>\n",
       "<style scoped>\n",
       "    .dataframe tbody tr th:only-of-type {\n",
       "        vertical-align: middle;\n",
       "    }\n",
       "\n",
       "    .dataframe tbody tr th {\n",
       "        vertical-align: top;\n",
       "    }\n",
       "\n",
       "    .dataframe thead th {\n",
       "        text-align: right;\n",
       "    }\n",
       "</style>\n",
       "<table border=\"1\" class=\"dataframe\">\n",
       "  <thead>\n",
       "    <tr style=\"text-align: right;\">\n",
       "      <th></th>\n",
       "      <th>Summer</th>\n",
       "      <th>Gold</th>\n",
       "      <th>Silver</th>\n",
       "      <th>Bronze</th>\n",
       "      <th>Total</th>\n",
       "      <th>Winter</th>\n",
       "      <th>Gold.1</th>\n",
       "      <th>Silver.1</th>\n",
       "      <th>Bronze.1</th>\n",
       "      <th>Total.1</th>\n",
       "      <th>Games</th>\n",
       "      <th>Gold.2</th>\n",
       "      <th>Silver.2</th>\n",
       "      <th>Bronze.2</th>\n",
       "      <th>Combined total</th>\n",
       "      <th>ID</th>\n",
       "    </tr>\n",
       "  </thead>\n",
       "  <tbody>\n",
       "    <tr>\n",
       "      <th>Afghanistan</th>\n",
       "      <td>13</td>\n",
       "      <td>0</td>\n",
       "      <td>0</td>\n",
       "      <td>2</td>\n",
       "      <td>2</td>\n",
       "      <td>0</td>\n",
       "      <td>0</td>\n",
       "      <td>0</td>\n",
       "      <td>0</td>\n",
       "      <td>0</td>\n",
       "      <td>13</td>\n",
       "      <td>0</td>\n",
       "      <td>0</td>\n",
       "      <td>2</td>\n",
       "      <td>2</td>\n",
       "      <td>AFG</td>\n",
       "    </tr>\n",
       "    <tr>\n",
       "      <th>Algeria</th>\n",
       "      <td>12</td>\n",
       "      <td>5</td>\n",
       "      <td>2</td>\n",
       "      <td>8</td>\n",
       "      <td>15</td>\n",
       "      <td>3</td>\n",
       "      <td>0</td>\n",
       "      <td>0</td>\n",
       "      <td>0</td>\n",
       "      <td>0</td>\n",
       "      <td>15</td>\n",
       "      <td>5</td>\n",
       "      <td>2</td>\n",
       "      <td>8</td>\n",
       "      <td>15</td>\n",
       "      <td>ALG</td>\n",
       "    </tr>\n",
       "    <tr>\n",
       "      <th>Argentina</th>\n",
       "      <td>23</td>\n",
       "      <td>18</td>\n",
       "      <td>24</td>\n",
       "      <td>28</td>\n",
       "      <td>70</td>\n",
       "      <td>18</td>\n",
       "      <td>0</td>\n",
       "      <td>0</td>\n",
       "      <td>0</td>\n",
       "      <td>0</td>\n",
       "      <td>41</td>\n",
       "      <td>18</td>\n",
       "      <td>24</td>\n",
       "      <td>28</td>\n",
       "      <td>70</td>\n",
       "      <td>ARG</td>\n",
       "    </tr>\n",
       "    <tr>\n",
       "      <th>Armenia</th>\n",
       "      <td>5</td>\n",
       "      <td>1</td>\n",
       "      <td>2</td>\n",
       "      <td>9</td>\n",
       "      <td>12</td>\n",
       "      <td>6</td>\n",
       "      <td>0</td>\n",
       "      <td>0</td>\n",
       "      <td>0</td>\n",
       "      <td>0</td>\n",
       "      <td>11</td>\n",
       "      <td>1</td>\n",
       "      <td>2</td>\n",
       "      <td>9</td>\n",
       "      <td>12</td>\n",
       "      <td>ARM</td>\n",
       "    </tr>\n",
       "    <tr>\n",
       "      <th>Australasia</th>\n",
       "      <td>2</td>\n",
       "      <td>3</td>\n",
       "      <td>4</td>\n",
       "      <td>5</td>\n",
       "      <td>12</td>\n",
       "      <td>0</td>\n",
       "      <td>0</td>\n",
       "      <td>0</td>\n",
       "      <td>0</td>\n",
       "      <td>0</td>\n",
       "      <td>2</td>\n",
       "      <td>3</td>\n",
       "      <td>4</td>\n",
       "      <td>5</td>\n",
       "      <td>12</td>\n",
       "      <td>ANZ</td>\n",
       "    </tr>\n",
       "    <tr>\n",
       "      <th>Australia</th>\n",
       "      <td>25</td>\n",
       "      <td>139</td>\n",
       "      <td>152</td>\n",
       "      <td>177</td>\n",
       "      <td>468</td>\n",
       "      <td>18</td>\n",
       "      <td>5</td>\n",
       "      <td>3</td>\n",
       "      <td>4</td>\n",
       "      <td>12</td>\n",
       "      <td>43</td>\n",
       "      <td>144</td>\n",
       "      <td>155</td>\n",
       "      <td>181</td>\n",
       "      <td>480</td>\n",
       "      <td>AUS</td>\n",
       "    </tr>\n",
       "  </tbody>\n",
       "</table>\n",
       "</div>"
      ],
      "text/plain": [
       "              Summer  Gold  Silver  Bronze  Total   Winter  Gold.1  Silver.1  \\\n",
       "Afghanistan       13     0       0       2      2        0       0         0   \n",
       "Algeria           12     5       2       8     15        3       0         0   \n",
       "Argentina         23    18      24      28     70       18       0         0   \n",
       "Armenia            5     1       2       9     12        6       0         0   \n",
       "Australasia        2     3       4       5     12        0       0         0   \n",
       "Australia         25   139     152     177    468       18       5         3   \n",
       "\n",
       "             Bronze.1  Total.1   Games  Gold.2  Silver.2  Bronze.2  \\\n",
       "Afghanistan         0        0      13       0         0         2   \n",
       "Algeria             0        0      15       5         2         8   \n",
       "Argentina           0        0      41      18        24        28   \n",
       "Armenia             0        0      11       1         2         9   \n",
       "Australasia         0        0       2       3         4         5   \n",
       "Australia           4       12      43     144       155       181   \n",
       "\n",
       "             Combined total   ID  \n",
       "Afghanistan               2  AFG  \n",
       "Algeria                  15  ALG  \n",
       "Argentina                70  ARG  \n",
       "Armenia                  12  ARM  \n",
       "Australasia              12  ANZ  \n",
       "Australia               480  AUS  "
      ]
     },
     "execution_count": 44,
     "metadata": {},
     "output_type": "execute_result"
    }
   ],
   "source": [
    "# Your answer here\n",
    "df.head(n=6)"
   ]
  },
  {
   "cell_type": "markdown",
   "metadata": {
    "id": "sSVUe0Z5upg8"
   },
   "source": [
    "2. (2) Provide the shape of the DataFrame."
   ]
  },
  {
   "cell_type": "code",
   "execution_count": 45,
   "metadata": {
    "id": "XHhLc4KJupg8"
   },
   "outputs": [
    {
     "data": {
      "text/plain": [
       "(147, 16)"
      ]
     },
     "execution_count": 45,
     "metadata": {},
     "output_type": "execute_result"
    }
   ],
   "source": [
    "# Your answer here\n",
    "df.shape"
   ]
  },
  {
   "cell_type": "markdown",
   "metadata": {
    "id": "1II6yuaEupg9"
   },
   "source": [
    "2. (3) Rename the column name 'Combined total' to 'Combined Total' and then show the columns."
   ]
  },
  {
   "cell_type": "code",
   "execution_count": 47,
   "metadata": {
    "id": "IGEU_dS9upg9"
   },
   "outputs": [
    {
     "data": {
      "text/plain": [
       "'Combined Total'"
      ]
     },
     "execution_count": 47,
     "metadata": {},
     "output_type": "execute_result"
    }
   ],
   "source": [
    "# Your answer here\n",
    "df.rename(columns={ 'Combined total': 'Combined Total' }, inplace=True)\n",
    "\n",
    "#for grading\n",
    "df.columns[14]"
   ]
  },
  {
   "cell_type": "markdown",
   "metadata": {
    "id": "wM2qujM3upg9"
   },
   "source": [
    "2. (4) Change all column names to lowercase and remove all spaces ' '."
   ]
  },
  {
   "cell_type": "code",
   "execution_count": 52,
   "metadata": {
    "id": "pqoF9f4Vupg9"
   },
   "outputs": [
    {
     "data": {
      "text/plain": [
       "Index(['summer', 'gold', 'silver', 'bronze', 'total', 'winter', 'gold.1',\n",
       "       'silver.1', 'bronze.1', 'total.1', 'games', 'gold.2', 'silver.2',\n",
       "       'bronze.2', 'combinedtotal', 'id'],\n",
       "      dtype='object')"
      ]
     },
     "execution_count": 52,
     "metadata": {},
     "output_type": "execute_result"
    }
   ],
   "source": [
    "# Your answer here\n",
    "df.rename(str.lower, axis='columns', inplace=True)\n",
    "df.columns = df.columns.str.replace(' ', '')\n",
    "\n",
    "# for grading\n",
    "df.columns"
   ]
  },
  {
   "cell_type": "markdown",
   "metadata": {
    "id": "ErmD90xZupg9"
   },
   "source": [
    "2. (5) Which country has won the most gold medals in summer games? Provide the country name and the number of gold medals. <br>\n",
    "Expected output: a tuple consisting of the country name and the number of gold medals."
   ]
  },
  {
   "cell_type": "code",
   "execution_count": 74,
   "metadata": {
    "id": "8Llasqumupg-",
    "nbgrader": {
     "grade": false,
     "locked": false,
     "solution": false
    },
    "umich_part_id": "001",
    "umich_partlist_id": "001"
   },
   "outputs": [
    {
     "data": {
      "text/plain": [
       "('United States', 976)"
      ]
     },
     "execution_count": 74,
     "metadata": {},
     "output_type": "execute_result"
    }
   ],
   "source": [
    "def most_gold():\n",
    "    # Your answer here\n",
    "    if ('Totals' in df.index):\n",
    "        df.drop(index=\"Totals\", inplace=True)\n",
    "        \n",
    "    most_gold_row = df[df['gold'] == df['gold'].max()]\n",
    "    \n",
    "    countryName = most_gold_row.index[0]\n",
    "    goldNumber = most_gold_row.iloc[0]['gold']\n",
    "    \n",
    "    return countryName,goldNumber\n",
    "\n",
    "most_gold()"
   ]
  },
  {
   "cell_type": "markdown",
   "metadata": {
    "id": "rMYAEhOrupg-"
   },
   "source": [
    "2. (6) Which country had the largest difference between their summer and winter medal counts, relative to the total medal count? <br> Note: only include countries that have won at least 10 medals in both summer and winter. <br>\n",
    "$$\\frac{Summer_{Metal} - Winter_{Metal}}{Total_{Metal}}$$\n",
    "Instruction: create a new copy of the DataFrame, first calculate the value as a new column named 'percent', and then **return the row information of the country as a pandas Series**, i.e.:<br> <br>\n",
    "summer x<br>\n",
    "gold x<br>\n",
    "silver x<br>\n",
    "...<br>\n",
    "percent x<br>\n",
    "Name: x, dtype: object\n",
    "\n",
    "\n"
   ]
  },
  {
   "cell_type": "code",
   "execution_count": 88,
   "metadata": {
    "id": "FA4GsrN4upg-",
    "umich_part_id": "002",
    "umich_partlist_id": "001"
   },
   "outputs": [
    {
     "data": {
      "text/html": [
       "<div>\n",
       "<style scoped>\n",
       "    .dataframe tbody tr th:only-of-type {\n",
       "        vertical-align: middle;\n",
       "    }\n",
       "\n",
       "    .dataframe tbody tr th {\n",
       "        vertical-align: top;\n",
       "    }\n",
       "\n",
       "    .dataframe thead th {\n",
       "        text-align: right;\n",
       "    }\n",
       "</style>\n",
       "<table border=\"1\" class=\"dataframe\">\n",
       "  <thead>\n",
       "    <tr style=\"text-align: right;\">\n",
       "      <th></th>\n",
       "      <th>summer</th>\n",
       "      <th>gold</th>\n",
       "      <th>silver</th>\n",
       "      <th>bronze</th>\n",
       "      <th>total</th>\n",
       "      <th>winter</th>\n",
       "      <th>gold.1</th>\n",
       "      <th>silver.1</th>\n",
       "      <th>bronze.1</th>\n",
       "      <th>total.1</th>\n",
       "      <th>games</th>\n",
       "      <th>gold.2</th>\n",
       "      <th>silver.2</th>\n",
       "      <th>bronze.2</th>\n",
       "      <th>combinedtotal</th>\n",
       "      <th>id</th>\n",
       "      <th>percent</th>\n",
       "    </tr>\n",
       "  </thead>\n",
       "  <tbody>\n",
       "    <tr>\n",
       "      <th>Great Britain</th>\n",
       "      <td>27</td>\n",
       "      <td>236</td>\n",
       "      <td>272</td>\n",
       "      <td>272</td>\n",
       "      <td>780</td>\n",
       "      <td>22</td>\n",
       "      <td>10</td>\n",
       "      <td>4</td>\n",
       "      <td>12</td>\n",
       "      <td>26</td>\n",
       "      <td>49</td>\n",
       "      <td>246</td>\n",
       "      <td>276</td>\n",
       "      <td>284</td>\n",
       "      <td>806</td>\n",
       "      <td>GBR</td>\n",
       "      <td>0.918699</td>\n",
       "    </tr>\n",
       "  </tbody>\n",
       "</table>\n",
       "</div>"
      ],
      "text/plain": [
       "               summer  gold  silver  bronze  total  winter  gold.1  silver.1  \\\n",
       "Great Britain      27   236     272     272    780      22      10         4   \n",
       "\n",
       "               bronze.1  total.1  games  gold.2  silver.2  bronze.2  \\\n",
       "Great Britain        12       26     49     246       276       284   \n",
       "\n",
       "               combinedtotal   id   percent  \n",
       "Great Britain            806  GBR  0.918699  "
      ]
     },
     "execution_count": 88,
     "metadata": {},
     "output_type": "execute_result"
    }
   ],
   "source": [
    "def max_diff():\n",
    "    # Your answer here\n",
    "    filtered_df = df[(df[\"gold\"] >= 10) & (df[\"gold.1\"] >= 10)]\n",
    "    filtered_df = filtered_df.copy()\n",
    "    filtered_df['percent'] = (abs(filtered_df['gold'] - filtered_df['gold.1'])) / filtered_df['gold.2']\n",
    "    return filtered_df[filtered_df['percent'] == filtered_df['percent'].max()]\n",
    "\n",
    "max_diff()"
   ]
  },
  {
   "cell_type": "markdown",
   "metadata": {
    "id": "B7KW3hb5upg-"
   },
   "source": [
    "2. (7) Create a new column 'country_cat' that denotes the first letter of the country name, i.e. \"A\" for \"Afghanistan\", and count the number of countries in each category. Make sure to present the results alphabetically."
   ]
  },
  {
   "cell_type": "code",
   "execution_count": 97,
   "metadata": {
    "id": "JLbiIteDupg-",
    "scrolled": true
   },
   "outputs": [
    {
     "data": {
      "text/plain": [
       "A     8\n",
       "B    12\n",
       "C    12\n",
       "D     3\n",
       "E     6\n",
       "F     2\n",
       "G     9\n",
       "H     3\n",
       "I    10\n",
       "J     2\n",
       "K     4\n",
       "L     5\n",
       "M    10\n",
       "N     8\n",
       "P     8\n",
       "Q     1\n",
       "R     3\n",
       "S    17\n",
       "T     8\n",
       "U     8\n",
       "V     3\n",
       "W     1\n",
       "Y     1\n",
       "Z     2\n",
       "Name: country_cat, dtype: int64"
      ]
     },
     "execution_count": 97,
     "metadata": {},
     "output_type": "execute_result"
    }
   ],
   "source": [
    "def country_first_letter():\n",
    "    # Your answer here\n",
    "    df['country_cat'] = df.index.str[0]\n",
    "    country_counts = df['country_cat'].value_counts().sort_index()\n",
    "    return country_counts\n",
    "\n",
    "\n",
    "country_first_letter()"
   ]
  },
  {
   "cell_type": "markdown",
   "metadata": {
    "id": "05Z9KvHBupg-"
   },
   "source": [
    "# Polars\n",
    "\n",
    "Complete the following tasks using Polars code (No Pandas!)</font></h3>\n",
    "\n",
    "* For (1) the column names you print should only include the selected columns\n",
    "* Your answer to (3) and (4) must include **both** the statistics **and** the interpretation of the results. Guessing the relationship between age and weight without evidence (code output) to support your interpretation in (4) will not be accepted.\n",
    "    \n",
    "3. (1) Read in the data set ```crab-data.csv``` and assign it the name ```df```. Select the columns ```Age```, ```Weight```, ```Height```, and ```Diameter```. Print the column names. <br><br>"
   ]
  },
  {
   "cell_type": "code",
   "execution_count": 99,
   "metadata": {
    "id": "U_fyi0niupg_"
   },
   "outputs": [
    {
     "name": "stdout",
     "output_type": "stream",
     "text": [
      "Collecting polars==0.19.11\n",
      "  Obtaining dependency information for polars==0.19.11 from https://files.pythonhosted.org/packages/d1/b3/dfa5a51d90da4fcda5c95dcaabd100b5db544e7237a741da3408bddfdb23/polars-0.19.11-cp38-abi3-macosx_11_0_arm64.whl.metadata\n",
      "  Downloading polars-0.19.11-cp38-abi3-macosx_11_0_arm64.whl.metadata (14 kB)\n",
      "Downloading polars-0.19.11-cp38-abi3-macosx_11_0_arm64.whl (22.9 MB)\n",
      "\u001b[2K   \u001b[90m━━━━━━━━━━━━━━━━━━━━━━━━━━━━━━━━━━━━━━━━\u001b[0m \u001b[32m22.9/22.9 MB\u001b[0m \u001b[31m4.7 MB/s\u001b[0m eta \u001b[36m0:00:00\u001b[0m00:01\u001b[0m00:01\u001b[0m\n",
      "\u001b[?25hInstalling collected packages: polars\n",
      "Successfully installed polars-0.19.11\n",
      "Note: you may need to restart the kernel to use updated packages.\n"
     ]
    }
   ],
   "source": [
    "pip install polars==0.19.11"
   ]
  },
  {
   "cell_type": "code",
   "execution_count": 122,
   "metadata": {
    "id": "L3-9IoUtupg_"
   },
   "outputs": [
    {
     "name": "stdout",
     "output_type": "stream",
     "text": [
      "['Age', 'Weight', 'Height', 'Diameter']\n"
     ]
    }
   ],
   "source": [
    "import polars as pl\n",
    "# write your code below\n",
    "df = pl.read_csv('crab-data.csv')\n",
    "df = df.select(['Age', 'Weight', 'Height', 'Diameter'])\n",
    "print(df.columns)"
   ]
  },
  {
   "cell_type": "markdown",
   "metadata": {
    "id": "De1m1gZBupg_"
   },
   "source": [
    "3. (2) Consider a subset of the data that only includes crabs with ```Height``` greater than 0.5 **OR** ```Diameter``` greater than 1. How many crabs are there in the subset?  <br> <br>"
   ]
  },
  {
   "cell_type": "code",
   "execution_count": 123,
   "metadata": {
    "id": "-fQSl03yupg_"
   },
   "outputs": [
    {
     "name": "stdout",
     "output_type": "stream",
     "text": [
      "44386\n"
     ]
    }
   ],
   "source": [
    "# write your code below\n",
    "subset = df.filter((df['Height'] > 0.5) | (df['Diameter'] > 1))\n",
    "num_crabs = subset.shape[0]\n",
    "print(num_crabs)"
   ]
  },
  {
   "cell_type": "markdown",
   "metadata": {
    "id": "QQcBcbvuupg_"
   },
   "source": [
    "3. (3) Using the **original data frame** ```df``` **from Part 3.(1)**, create a new variable ```age_quartile``` that categorizes the crabs based on which quartile their age belongs to. In other words, ```age_quartile``` should be encoded as follows:\n",
    "    * **When** age is less than the 25th quantile **then** ```age_quartile = 1```\n",
    "    * **When** age is greater than or equal to the 25th quantile **and** less than the 50th quantile **then** ```age_quartile = 2```\n",
    "    * **When** age is greater than or equal to the 50th quantile **and** less than the 75th quantile **then** ```age_quartile = 3```\n",
    "    * **When** age is greater than or equal to the 75th quantile **then** ```age_quartile = 4```\n",
    "   \n",
    "Then calculate the mean ```Weight``` and standard deviation of ```Height``` for the crabs within each category of ```age_quartile```. Based on your results, is the average weight for older crabs higher or lower than the average weight for younger crabs?"
   ]
  },
  {
   "cell_type": "code",
   "execution_count": 160,
   "metadata": {
    "id": "ybJcZmVxupg_"
   },
   "outputs": [
    {
     "name": "stdout",
     "output_type": "stream",
     "text": [
      "shape: (74_051, 6)\n",
      "┌─────┬───────────┬────────┬──────────┬─────────┬──────────────┐\n",
      "│ Age ┆ Weight    ┆ Height ┆ Diameter ┆ literal ┆ age_quartile │\n",
      "│ --- ┆ ---       ┆ ---    ┆ ---      ┆ ---     ┆ ---          │\n",
      "│ i64 ┆ f64       ┆ f64    ┆ f64      ┆ i32     ┆ i32          │\n",
      "╞═════╪═══════════╪════════╪══════════╪═════════╪══════════════╡\n",
      "│ 9   ┆ 28.973189 ┆ 0.375  ┆ 1.175    ┆ 1       ┆ 2            │\n",
      "│ 8   ┆ 10.418441 ┆ 0.275  ┆ 0.825    ┆ 1       ┆ 2            │\n",
      "│ 9   ┆ 24.777463 ┆ 0.375  ┆ 1.1125   ┆ 1       ┆ 2            │\n",
      "│ 11  ┆ 50.660556 ┆ 0.5    ┆ 1.4125   ┆ 1       ┆ 4            │\n",
      "│ …   ┆ …         ┆ …      ┆ …        ┆ …       ┆ …            │\n",
      "│ 6   ┆ 10.446791 ┆ 0.275  ┆ 0.8625   ┆ 1       ┆ 1            │\n",
      "│ 10  ┆ 29.48348  ┆ 0.4125 ┆ 1.2      ┆ 1       ┆ 3            │\n",
      "│ 8   ┆ 16.768729 ┆ 0.3125 ┆ 0.9625   ┆ 1       ┆ 2            │\n",
      "│ 6   ┆ 5.386405  ┆ 0.2    ┆ 0.675    ┆ 1       ┆ 1            │\n",
      "└─────┴───────────┴────────┴──────────┴─────────┴──────────────┘\n",
      "shape: (4, 5)\n",
      "┌──────────────┬─────────────┬───────────┬─────────────┬───────────┐\n",
      "│ age_quartile ┆ Mean Weight ┆ SD Weight ┆ Mean Height ┆ SD Height │\n",
      "│ ---          ┆ ---         ┆ ---       ┆ ---         ┆ ---       │\n",
      "│ i32          ┆ f64         ┆ f64       ┆ f64         ┆ f64       │\n",
      "╞══════════════╪═════════════╪═══════════╪═════════════╪═══════════╡\n",
      "│ 1            ┆ 7.229299    ┆ 4.9559    ┆ 0.219672    ┆ 0.060658  │\n",
      "│ 2            ┆ 21.369906   ┆ 8.964544  ┆ 0.340635    ┆ 0.065083  │\n",
      "│ 3            ┆ 28.617448   ┆ 9.546309  ┆ 0.386396    ┆ 0.057876  │\n",
      "│ 4            ┆ 31.668959   ┆ 10.308936 ┆ 0.407973    ┆ 0.060876  │\n",
      "└──────────────┴─────────────┴───────────┴─────────────┴───────────┘\n"
     ]
    }
   ],
   "source": [
    "# write your code below\n",
    "q25 = df['Age'].quantile(0.25)\n",
    "q50 = df['Age'].quantile(0.5)\n",
    "q75 = df['Age'].quantile(0.75)\n",
    "\n",
    "df = df.with_columns(\n",
    "    pl.when(df['Age'] < q25).then(1)\n",
    "    .when((df['Age'] >= q25) & (df['Age'] < q50)).then(2)\n",
    "    .when((df['Age'] >= q50) & (df['Age'] < q75)).then(3)\n",
    "    .when(df['Age'] >= q75).then(4)\n",
    "    .otherwise(None).alias('age_quartile')\n",
    ")\n",
    "\n",
    "df2 = df.group_by(pl.col('age_quartile')).agg(pl.col(['Weight']).mean().alias('Mean Weight')).sort(by='age_quartile')\n",
    "df3 = df.group_by(pl.col('age_quartile')).agg(pl.col(['Height']).mean().alias('Mean Height')).sort(by='age_quartile')\n",
    "df4 = df.group_by(pl.col('age_quartile')).agg(pl.col(['Weight']).std().alias('SD Weight')).sort(by='age_quartile')\n",
    "df5 = df.group_by(pl.col('age_quartile')).agg(pl.col(['Height']).std().alias('SD Height')).sort(by='age_quartile')\n",
    "\n",
    "df6 = df2.join(df4, on='age_quartile').join(df3, on='age_quartile').join(df5, on='age_quartile')\n",
    "\n",
    "print(df)\n",
    "print(df6)"
   ]
  },
  {
   "cell_type": "markdown",
   "metadata": {
    "id": "jWALd98fuphA"
   },
   "source": [
    "3. (4) Write your interpretation for Part 3 (3)."
   ]
  },
  {
   "cell_type": "markdown",
   "metadata": {
    "id": "maI3a1rruphA"
   },
   "source": [
    "**Interpretation:**\n",
    "We can observe that the average weight increases as ```age_quartile``` value increases. This suggests younger crabs have higher average weight than older crabs. The average weight tends to increase as the crabs get older. It shows a positive relationship between age and weight of the crabs."
   ]
  },
  {
   "cell_type": "code",
   "execution_count": null,
   "metadata": {},
   "outputs": [],
   "source": []
  }
 ],
 "metadata": {
  "colab": {
   "provenance": []
  },
  "kernelspec": {
   "display_name": "Python 3 (ipykernel)",
   "language": "python",
   "name": "python3"
  },
  "language_info": {
   "codemirror_mode": {
    "name": "ipython",
    "version": 3
   },
   "file_extension": ".py",
   "mimetype": "text/x-python",
   "name": "python",
   "nbconvert_exporter": "python",
   "pygments_lexer": "ipython3",
   "version": "3.11.4"
  }
 },
 "nbformat": 4,
 "nbformat_minor": 1
}

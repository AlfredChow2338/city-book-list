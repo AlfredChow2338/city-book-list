{
 "cells": [
  {
   "cell_type": "markdown",
   "id": "188b9bdd",
   "metadata": {},
   "source": [
    "<div style=\"font-family:monospace; \n",
    "            font-weight: bold; \n",
    "            border-radius:10px; \n",
    "            border:#f77f00 solid; \n",
    "            padding: 50px; \n",
    "            background-color: #caf0f8; \n",
    "            font-size:300%; \n",
    "            text-align: right\">\n",
    "    \n",
    " Polars: an Alternative to Pandas "
   ]
  },
  {
   "cell_type": "markdown",
   "id": "6adb75e2",
   "metadata": {},
   "source": [
    "**TA: Collin Sakal**"
   ]
  },
  {
   "attachments": {
    "polars-pandas-photo.webp": {
     "image/webp": "[encoded data removed]"
    }
   },
   "cell_type": "markdown",
   "id": "2e9f2c27",
   "metadata": {},
   "source": [
    "![polars-pandas-photo.webp](attachment:polars-pandas-photo.webp)"
   ]
  },
  {
   "cell_type": "markdown",
   "id": "772e1935",
   "metadata": {},
   "source": [
    "<div style=\"font-family:monospace; \n",
    "            border-radius:10px; \n",
    "            border:#f77f00 solid; \n",
    "            padding: 20px; \n",
    "            background-color: #caf0f8; \n",
    "            font-size:100%; \n",
    "            text-align: right\">\n",
    "\n",
    "<h3 align=\"left\"><font color='#000000'>Why learn Polars when we already know Pandas?</font></h3>\n",
    "\n",
    "\n",
    "Polars is similar to Pandas in that it is used to create and manipulate data frames. However, Polars is often much faster than Pandas when working with large data sets. Some people also prefer Polars because the syntax is more intuitive, though that is a matter of personal opinion.\n",
    "\n",
    "**Note:** Polars has very good documentation, which can be found [here](https://pola-rs.github.io/polars/py-polars/html/reference/). Other links throughout this notebook point towards the relevant documentation for the functions discussed in each section of the notebook."
   ]
  },
  {
   "cell_type": "markdown",
   "id": "1e0892d2",
   "metadata": {},
   "source": [
    "<p style=\"font-family: monospace; \n",
    "          font-weight: bold; \n",
    "          letter-spacing: 1px; \n",
    "          color: black; \n",
    "          font-size: 200%; \n",
    "          text-align: left;\n",
    "          padding: 8px; \n",
    "          border-bottom: 3px solid #4cc9f0\" >Table of Contents</p>\n",
    "\n",
    "1. [Getting started with Polars](#section-one)\n",
    "2. [Polars Series](#section-two)\n",
    "3. [Data frames and operations on data frames](#section-three)\n",
    "4. [Converting between Polars objects and Numpy arrays](#section-four)\n",
    "5. [Extras](#section-five)\n",
    "6. [Useful links](#section-six)"
   ]
  },
  {
   "cell_type": "markdown",
   "id": "8cdd2630",
   "metadata": {},
   "source": [
    "<a id=\"section-one\"></a>\n",
    "<p style=\"font-family: monospace; \n",
    "          font-weight: bold; \n",
    "          letter-spacing: 1px; \n",
    "          color: black; \n",
    "          font-size: 200%; \n",
    "          text-align: left;\n",
    "          padding: 8px; \n",
    "          border-bottom: 3px solid #4cc9f0\" >(1) Getting Started</p>\n",
    "        \n",
    "Polars can be installed using ```!pip```. The shorthand for Polars is ```pl.``` and operations/function/methods are usually accessed using ```pl.function()``` in the same way ```pd.``` is used for Pandas."
   ]
  },
  {
   "cell_type": "code",
   "execution_count": 3,
   "id": "172063f8",
   "metadata": {},
   "outputs": [
    {
     "name": "stdout",
     "output_type": "stream",
     "text": [
      "Requirement already satisfied: polars in /Users/alfred/anaconda3/lib/python3.11/site-packages (0.19.11)\n"
     ]
    }
   ],
   "source": [
    "# Polars install\n",
    "%pip install polars"
   ]
  },
  {
   "cell_type": "code",
   "execution_count": 3,
   "id": "9822120f",
   "metadata": {},
   "outputs": [
    {
     "name": "stdout",
     "output_type": "stream",
     "text": [
      "Collecting polars\n",
      "  Downloading polars-0.19.12-cp38-abi3-macosx_11_0_arm64.whl.metadata (14 kB)\n",
      "Downloading polars-0.19.12-cp38-abi3-macosx_11_0_arm64.whl (23.0 MB)\n",
      "\u001b[2K   \u001b[90m━━━━━━━━━━━━━━━━━━━━━━━━━━━━━━━━━━━━━━━━\u001b[0m \u001b[32m23.0/23.0 MB\u001b[0m \u001b[31m18.5 MB/s\u001b[0m eta \u001b[36m0:00:00\u001b[0ma \u001b[36m0:00:01\u001b[0m\n",
      "\u001b[?25hInstalling collected packages: polars\n",
      "Successfully installed polars-0.19.12\n",
      "\n",
      "\u001b[1m[\u001b[0m\u001b[34;49mnotice\u001b[0m\u001b[1;39;49m]\u001b[0m\u001b[39;49m A new release of pip is available: \u001b[0m\u001b[31;49m23.3\u001b[0m\u001b[39;49m -> \u001b[0m\u001b[32;49m23.3.1\u001b[0m\n",
      "\u001b[1m[\u001b[0m\u001b[34;49mnotice\u001b[0m\u001b[1;39;49m]\u001b[0m\u001b[39;49m To update, run: \u001b[0m\u001b[32;49mpip3 install --upgrade pip\u001b[0m\n",
      "Note: you may need to restart the kernel to use updated packages.\n"
     ]
    }
   ],
   "source": [
    "# Update to latest version if polars is already installed\n",
    "%pip install -U polars\n",
    "#!pip install  polars==0.19.11 # This will work too"
   ]
  },
  {
   "cell_type": "code",
   "execution_count": 4,
   "id": "efcdcc75",
   "metadata": {},
   "outputs": [],
   "source": [
    "# Imports\n",
    "import polars as pl\n",
    "import numpy as np"
   ]
  },
  {
   "cell_type": "markdown",
   "id": "fc2eb35a",
   "metadata": {},
   "source": [
    "<a id=\"section-two\"></a>\n",
    "<p style=\"font-family: monospace; \n",
    "          font-weight: bold; \n",
    "          letter-spacing: 1px; \n",
    "          color: black; \n",
    "          font-size: 200%; \n",
    "          text-align: left;\n",
    "          padding: 8px; \n",
    "          border-bottom: 3px solid #4cc9f0\" > (2) Series</p>\n",
    "     \n",
    "Similar to Pandas, Polars also has a [series class](https://pola-rs.github.io/polars/py-polars/html/reference/series/index.html) that can be thought of as a 1D vector. A series can be creating using ```pl.Series(name, values)``` where the ```values``` argument is a list ```[,]``` or numpy array ```np.array()```.\n",
    "\n",
    "<p style=\"font-family: monospace; \n",
    "          font-weight: bold; \n",
    "          letter-spacing: 1px; \n",
    "          color: black; \n",
    "          font-size: 150%; \n",
    "          text-align: left;\n",
    "          padding: 2px; \n",
    "          border-bottom: 2px solid #4cc9f0\" > (2a) Creating a Series</p>"
   ]
  },
  {
   "cell_type": "code",
   "execution_count": 5,
   "id": "a94e4aab",
   "metadata": {},
   "outputs": [
    {
     "data": {
      "text/html": [
       "<div><style>\n",
       ".dataframe > thead > tr > th,\n",
       ".dataframe > tbody > tr > td {\n",
       "  text-align: right;\n",
       "  white-space: pre-wrap;\n",
       "}\n",
       "</style>\n",
       "<small>shape: (5,)</small><table border=\"1\" class=\"dataframe\"><thead><tr><th>example_series_1</th></tr><tr><td>i64</td></tr></thead><tbody><tr><td>1</td></tr><tr><td>2</td></tr><tr><td>3</td></tr><tr><td>4</td></tr><tr><td>5</td></tr></tbody></table></div>"
      ],
      "text/plain": [
       "shape: (5,)\n",
       "Series: 'example_series_1' [i64]\n",
       "[\n",
       "\t1\n",
       "\t2\n",
       "\t3\n",
       "\t4\n",
       "\t5\n",
       "]"
      ]
     },
     "execution_count": 5,
     "metadata": {},
     "output_type": "execute_result"
    }
   ],
   "source": [
    "list_values = [1,2,3,4,5]\n",
    "\n",
    "pl.Series(name='example_series_1', values=list_values) # from a list"
   ]
  },
  {
   "cell_type": "code",
   "execution_count": 6,
   "id": "c24788ae",
   "metadata": {},
   "outputs": [
    {
     "data": {
      "text/html": [
       "<div><style>\n",
       ".dataframe > thead > tr > th,\n",
       ".dataframe > tbody > tr > td {\n",
       "  text-align: right;\n",
       "  white-space: pre-wrap;\n",
       "}\n",
       "</style>\n",
       "<small>shape: (5,)</small><table border=\"1\" class=\"dataframe\"><thead><tr><th>example_series_2</th></tr><tr><td>i64</td></tr></thead><tbody><tr><td>6</td></tr><tr><td>7</td></tr><tr><td>8</td></tr><tr><td>9</td></tr><tr><td>10</td></tr></tbody></table></div>"
      ],
      "text/plain": [
       "shape: (5,)\n",
       "Series: 'example_series_2' [i64]\n",
       "[\n",
       "\t6\n",
       "\t7\n",
       "\t8\n",
       "\t9\n",
       "\t10\n",
       "]"
      ]
     },
     "execution_count": 6,
     "metadata": {},
     "output_type": "execute_result"
    }
   ],
   "source": [
    "numpy_values = np.array([6,7,8,9,10])\n",
    "\n",
    "pl.Series('example_series_2', values = numpy_values) # from a numpy array"
   ]
  },
  {
   "cell_type": "markdown",
   "id": "d2ff2d20",
   "metadata": {},
   "source": [
    "<p style=\"font-family: monospace; \n",
    "          font-weight: bold; \n",
    "          letter-spacing: 1px; \n",
    "          color: black; \n",
    "          font-size: 150%; \n",
    "          text-align: left;\n",
    "          padding: 2px; \n",
    "          border-bottom: 2px solid #4cc9f0\" > (2b) Common Operations (Methods) for Polars Series</p>\n",
    "\n",
    "Assume we have a Polars series named ```ages``` that contains the ages of students in SDSC2001. Polars series methods are generally in the format ```Series.method()```. Some common methods are listed in the table below, for a complete list see the [documentation](https://pola-rs.github.io/polars/py-polars/html/reference/series/aggregation.html)."
   ]
  },
  {
   "cell_type": "markdown",
   "id": "163c6f57",
   "metadata": {},
   "source": [
    "| Function | What the function returns | Notes |\n",
    "| :--- | :--- | :--- | \n",
    "| ```.max()``` | maximum value in the series | |\n",
    "| ```.min()```| minimum value in the series| |\n",
    "|```.std()```| standard deviation of the values in the series| |\n",
    "|```.mean()``` | mean of the values in the series | |\n",
    "| ```.median()``` | median of the values in the series | |\n",
    "| ```.mode()``` | most frequently occuring value in the series | |\n",
    "| ```.quantile(q)``` | the value of the q-th quantile in the series | for example to find the value of the 25th quantile we would use ```Series.quantile(0.25)```| \n",
    "| ```.sum()``` | sum of all the values in the series | |\n",
    "| ```.arg_max()``` | index of the maximum value in the series | |\n",
    "| ```.arg_min()``` | index of the minimum value in the series | |\n",
    "| ```.sort()``` | the series sorted | takes an argument ```descending = True/False```that determines if the series is sorted from smallest to largest or vice versa. |\n",
    "| ```.len()```|The length of the series||\n"
   ]
  },
  {
   "cell_type": "code",
   "execution_count": 7,
   "id": "bc5cd512",
   "metadata": {},
   "outputs": [
    {
     "name": "stdout",
     "output_type": "stream",
     "text": [
      "The max age is: 24\n",
      "The min age is: 17\n",
      "The standard deviation of ages is: 2.174664725116648\n",
      "The mean (average) age is: 19.9375\n",
      "The median age is: 20.0\n",
      "The 25th quantile of ages is: 18.0\n",
      "The sum of all ages is: 319\n",
      "The index of the max age is: 11\n",
      "The index of the minimum age is: 0\n",
      "The length of the series is 16\n"
     ]
    }
   ],
   "source": [
    "# Create a series\n",
    "ages = pl.Series(\n",
    "    name='ages',\n",
    "    values=[17,18,21,19,18,18,23,22,18,18,18,24,22,21,21,21]\n",
    ")\n",
    "\n",
    "# Calculate some simple statistics and print the results\n",
    "print(f'The max age is: {ages.max()}')\n",
    "print(f'The min age is: {ages.min()}')\n",
    "print(f'The standard deviation of ages is: {ages.std()}')\n",
    "print(f'The mean (average) age is: {ages.mean()}')\n",
    "print(f'The median age is: {ages.median()}')\n",
    "print(f'The 25th quantile of ages is: {ages.quantile(0.25)}')\n",
    "print(f'The sum of all ages is: {ages.sum()}')\n",
    "print(f'The index of the max age is: {ages.arg_max()}')\n",
    "print(f'The index of the minimum age is: {ages.arg_min()}')\n",
    "print(f'The length of the series is {ages.len()}')"
   ]
  },
  {
   "cell_type": "code",
   "execution_count": 8,
   "id": "9e653d03",
   "metadata": {},
   "outputs": [
    {
     "data": {
      "text/html": [
       "<div><style>\n",
       ".dataframe > thead > tr > th,\n",
       ".dataframe > tbody > tr > td {\n",
       "  text-align: right;\n",
       "  white-space: pre-wrap;\n",
       "}\n",
       "</style>\n",
       "<small>shape: (16,)</small><table border=\"1\" class=\"dataframe\"><thead><tr><th>ages</th></tr><tr><td>i64</td></tr></thead><tbody><tr><td>24</td></tr><tr><td>23</td></tr><tr><td>22</td></tr><tr><td>22</td></tr><tr><td>21</td></tr><tr><td>21</td></tr><tr><td>21</td></tr><tr><td>21</td></tr><tr><td>19</td></tr><tr><td>18</td></tr><tr><td>18</td></tr><tr><td>18</td></tr><tr><td>18</td></tr><tr><td>18</td></tr><tr><td>18</td></tr><tr><td>17</td></tr></tbody></table></div>"
      ],
      "text/plain": [
       "shape: (16,)\n",
       "Series: 'ages' [i64]\n",
       "[\n",
       "\t24\n",
       "\t23\n",
       "\t22\n",
       "\t22\n",
       "\t21\n",
       "\t21\n",
       "\t21\n",
       "\t21\n",
       "\t19\n",
       "\t18\n",
       "\t18\n",
       "\t18\n",
       "\t18\n",
       "\t18\n",
       "\t18\n",
       "\t17\n",
       "]"
      ]
     },
     "execution_count": 8,
     "metadata": {},
     "output_type": "execute_result"
    }
   ],
   "source": [
    "# The sorted series\n",
    "ages.sort(descending=True)"
   ]
  },
  {
   "cell_type": "markdown",
   "id": "c3220b54",
   "metadata": {},
   "source": [
    "<p style=\"font-family: monospace; \n",
    "          font-weight: bold; \n",
    "          letter-spacing: 1px; \n",
    "          color: black; \n",
    "          font-size: 150%; \n",
    "          text-align: left;\n",
    "          padding: 2px; \n",
    "          border-bottom: 2px solid #4cc9f0\" > (2c) Slicing Polars Series</p>\n",
    "          \n",
    "There are multiple ways to slice a series in Polars. For getting index values ```.slice(first_index, last_index)``` can be used. Note that, as in common across python libraries, the last index will not be included in the output. To subset a series based on some condition you can use ```.filter(condition)```."
   ]
  },
  {
   "cell_type": "code",
   "execution_count": 9,
   "id": "0fba6876",
   "metadata": {},
   "outputs": [
    {
     "data": {
      "text/html": [
       "<div><style>\n",
       ".dataframe > thead > tr > th,\n",
       ".dataframe > tbody > tr > td {\n",
       "  text-align: right;\n",
       "  white-space: pre-wrap;\n",
       "}\n",
       "</style>\n",
       "<small>shape: (5,)</small><table border=\"1\" class=\"dataframe\"><thead><tr><th>ages</th></tr><tr><td>i64</td></tr></thead><tbody><tr><td>17</td></tr><tr><td>18</td></tr><tr><td>21</td></tr><tr><td>19</td></tr><tr><td>18</td></tr></tbody></table></div>"
      ],
      "text/plain": [
       "shape: (5,)\n",
       "Series: 'ages' [i64]\n",
       "[\n",
       "\t17\n",
       "\t18\n",
       "\t21\n",
       "\t19\n",
       "\t18\n",
       "]"
      ]
     },
     "execution_count": 9,
     "metadata": {},
     "output_type": "execute_result"
    }
   ],
   "source": [
    "# Slicing the ages series\n",
    "ages.slice(0,5)"
   ]
  },
  {
   "cell_type": "code",
   "execution_count": 10,
   "id": "10a49f74",
   "metadata": {},
   "outputs": [
    {
     "data": {
      "text/html": [
       "<div><style>\n",
       ".dataframe > thead > tr > th,\n",
       ".dataframe > tbody > tr > td {\n",
       "  text-align: right;\n",
       "  white-space: pre-wrap;\n",
       "}\n",
       "</style>\n",
       "<small>shape: (7,)</small><table border=\"1\" class=\"dataframe\"><thead><tr><th>ages</th></tr><tr><td>i64</td></tr></thead><tbody><tr><td>17</td></tr><tr><td>18</td></tr><tr><td>18</td></tr><tr><td>18</td></tr><tr><td>18</td></tr><tr><td>18</td></tr><tr><td>18</td></tr></tbody></table></div>"
      ],
      "text/plain": [
       "shape: (7,)\n",
       "Series: 'ages' [i64]\n",
       "[\n",
       "\t17\n",
       "\t18\n",
       "\t18\n",
       "\t18\n",
       "\t18\n",
       "\t18\n",
       "\t18\n",
       "]"
      ]
     },
     "execution_count": 10,
     "metadata": {},
     "output_type": "execute_result"
    }
   ],
   "source": [
    "# Subsetting the series\n",
    "ages.filter(ages < 19)"
   ]
  },
  {
   "cell_type": "markdown",
   "id": "47c4e941",
   "metadata": {},
   "source": [
    "<a id=\"section-three\"></a>\n",
    "<p style=\"font-family: monospace; \n",
    "          font-weight: bold; \n",
    "          letter-spacing: 1px; \n",
    "          color: black; \n",
    "          font-size: 200%; \n",
    "          text-align: left;\n",
    "          padding: 8px; \n",
    "          border-bottom: 3px solid #4cc9f0\" > (3) Data Frames</p>\n",
    "          \n",
    "Data frames store information in 2D using rows and columns. Polars data frames can be created from dictionaries, by combing individual series, from numpy arrays, from pandas data frames, or by reading in a file (such as a .csv file) in the following ways:\n",
    "\n",
    "| Data type | How to create a Polars data frame | Notes| \n",
    "| :--- | :--- | :--- |\n",
    "| dictionary | ```pl.DataFrame(dictionary)``` | |\n",
    "| multiple polars series | ```pl.DataFrame([series1, series2, ...])``` | The series must be in a list ```[,]```. The data frame will inherit the series names and use them as column names. |\n",
    "| a numpy array | ```pl.DataFrame(array, schema=['colname1', 'colname2', ...])``` | the column names must be in a list ```[,]``` and passed to the ```schema``` argument|\n",
    "| pandas data frame | ```pl.from_pandas(pandas_df)```| this option is not used very often as you can usually just read in a polars df directly (see below)|\n",
    "| from a local file | ```pl.read_csv('file path')``` | this exammple is for a .csv files but polars can handle many other file types|"
   ]
  },
  {
   "cell_type": "markdown",
   "id": "ef79baeb",
   "metadata": {},
   "source": [
    "<p style=\"font-family: monospace; \n",
    "          font-weight: bold; \n",
    "          letter-spacing: 1px; \n",
    "          color: black; \n",
    "          font-size: 150%; \n",
    "          text-align: left;\n",
    "          padding: 2px; \n",
    "          border-bottom: 2px solid #4cc9f0\" > (3a) Creating a Polars data frame</p>"
   ]
  },
  {
   "cell_type": "markdown",
   "id": "fa370d67",
   "metadata": {},
   "source": [
    "**From a dictionary:** ```pl.DataFrame(dictionary)```"
   ]
  },
  {
   "cell_type": "code",
   "execution_count": 11,
   "id": "b4cee14b",
   "metadata": {},
   "outputs": [
    {
     "data": {
      "text/html": [
       "<div><style>\n",
       ".dataframe > thead > tr > th,\n",
       ".dataframe > tbody > tr > td {\n",
       "  text-align: right;\n",
       "  white-space: pre-wrap;\n",
       "}\n",
       "</style>\n",
       "<small>shape: (3, 3)</small><table border=\"1\" class=\"dataframe\"><thead><tr><th>age</th><th>birth year</th><th>education</th></tr><tr><td>i64</td><td>i64</td><td>str</td></tr></thead><tbody><tr><td>20</td><td>2003</td><td>&quot;High school&quot;</td></tr><tr><td>21</td><td>2004</td><td>&quot;Bachelors&quot;</td></tr><tr><td>22</td><td>2005</td><td>&quot;Bachelors&quot;</td></tr></tbody></table></div>"
      ],
      "text/plain": [
       "shape: (3, 3)\n",
       "┌─────┬────────────┬─────────────┐\n",
       "│ age ┆ birth year ┆ education   │\n",
       "│ --- ┆ ---        ┆ ---         │\n",
       "│ i64 ┆ i64        ┆ str         │\n",
       "╞═════╪════════════╪═════════════╡\n",
       "│ 20  ┆ 2003       ┆ High school │\n",
       "│ 21  ┆ 2004       ┆ Bachelors   │\n",
       "│ 22  ┆ 2005       ┆ Bachelors   │\n",
       "└─────┴────────────┴─────────────┘"
      ]
     },
     "execution_count": 11,
     "metadata": {},
     "output_type": "execute_result"
    }
   ],
   "source": [
    "# From a dictionary\n",
    "example_dict = {\n",
    "    'age' : [20,21,22],\n",
    "    'birth year': [2003,2004,2005],\n",
    "    'education': ['High school', 'Bachelors', 'Bachelors']\n",
    "}\n",
    "\n",
    "example_df1 = pl.DataFrame(example_dict)\n",
    "\n",
    "example_df1"
   ]
  },
  {
   "cell_type": "markdown",
   "id": "a211baff",
   "metadata": {},
   "source": [
    "**By combining multiple polars series:** ```pl.DataFrame([series1, series2, ...])```"
   ]
  },
  {
   "cell_type": "code",
   "execution_count": 12,
   "id": "e21f45ad",
   "metadata": {},
   "outputs": [
    {
     "data": {
      "text/html": [
       "<div><style>\n",
       ".dataframe > thead > tr > th,\n",
       ".dataframe > tbody > tr > td {\n",
       "  text-align: right;\n",
       "  white-space: pre-wrap;\n",
       "}\n",
       "</style>\n",
       "<small>shape: (3, 3)</small><table border=\"1\" class=\"dataframe\"><thead><tr><th>age</th><th>birth year</th><th>education</th></tr><tr><td>i64</td><td>i64</td><td>str</td></tr></thead><tbody><tr><td>20</td><td>2003</td><td>&quot;High school&quot;</td></tr><tr><td>21</td><td>2004</td><td>&quot;Bachelors&quot;</td></tr><tr><td>22</td><td>2005</td><td>&quot;Bachelors&quot;</td></tr></tbody></table></div>"
      ],
      "text/plain": [
       "shape: (3, 3)\n",
       "┌─────┬────────────┬─────────────┐\n",
       "│ age ┆ birth year ┆ education   │\n",
       "│ --- ┆ ---        ┆ ---         │\n",
       "│ i64 ┆ i64        ┆ str         │\n",
       "╞═════╪════════════╪═════════════╡\n",
       "│ 20  ┆ 2003       ┆ High school │\n",
       "│ 21  ┆ 2004       ┆ Bachelors   │\n",
       "│ 22  ┆ 2005       ┆ Bachelors   │\n",
       "└─────┴────────────┴─────────────┘"
      ]
     },
     "execution_count": 12,
     "metadata": {},
     "output_type": "execute_result"
    }
   ],
   "source": [
    "# By combining polars series\n",
    "age = pl.Series(name='age',values=[20,21,22])\n",
    "birth = pl.Series(name='birth year', values=[2003,2004,2005])\n",
    "education = pl.Series(name='education',values=['High school', 'Bachelors', 'Bachelors'])\n",
    "\n",
    "# Note that series are passed within a list [series1, series2,...]\n",
    "example_df2 = pl.DataFrame([age, birth, education])\n",
    "\n",
    "example_df2"
   ]
  },
  {
   "cell_type": "markdown",
   "id": "258220a9",
   "metadata": {},
   "source": [
    "**From a numpy array:** ```pl.DataFrame(array, schema = ['column name 1', 'column name 2', ...])```"
   ]
  },
  {
   "cell_type": "code",
   "execution_count": null,
   "id": "b1d5109a",
   "metadata": {},
   "outputs": [],
   "source": [
    "# From a numpy array\n",
    "example_array = np.array([[20, 2003, 'High School'], [21, 2002, 'Bachelors'], [22, 2001, 'Bachelors']])\n",
    "\n",
    "# Creating the data frame\n",
    "example_df3 = pl.DataFrame(\n",
    "        example_array, \n",
    "        schema = {'age': pl.Int64, 'birth year': pl.Int64, 'education': pl.Utf8} \n",
    "    )\n",
    "\n",
    "example_df3"
   ]
  },
  {
   "cell_type": "markdown",
   "id": "cf53fde7",
   "metadata": {},
   "source": [
    "<div style=\"font-family:monospace; \n",
    "            border-radius:10px; \n",
    "            border:#A8A8A8 solid; \n",
    "            padding: 15px; \n",
    "            background-color: #caf0f8; \n",
    "            font-size:100%; \n",
    "            text-align:left\">\n",
    "\n",
    "<h3 align=\"left\"><font color='#000000'>🖊 Extra Notes:</font></h3>\n",
    "\n",
    "* When creating a data frame from a numpy array use ```schema``` to specify the column names and ```dtype``` for each column. Note that this is not necessary, you can also pass only column names to a list ```schema = ['name1', 'name2']``` and allow Polars to infer the ```dtype``` automatically. \n",
    "* It may also be necessary to change the ``dtype`` of specific columns after creating a data frame. This process is known as casting.\n",
    "* Please refer to the [examples in the Polars documentation](https://pola-rs.github.io/polars-book/user-guide/expressions/casting/#numerics) for more information."
   ]
  },
  {
   "cell_type": "markdown",
   "id": "74e08acc",
   "metadata": {},
   "source": [
    "<p style=\"font-family: monospace; \n",
    "          font-weight: bold; \n",
    "          letter-spacing: 1px; \n",
    "          color: black; \n",
    "          font-size: 150%; \n",
    "          text-align: left;\n",
    "          padding: 2px; \n",
    "          border-bottom: 2px solid #4cc9f0\" > (3b) Common Data Frame Operations (Methods)</p>\n",
    " \n",
    "Assume the data frame is named ```df```, the code below cover the following methods:"
   ]
  },
  {
   "cell_type": "markdown",
   "id": "43d29b8f",
   "metadata": {},
   "source": [
    "| Operations | Function(s) | Notes| \n",
    "| :--- | :--- | :--- |\n",
    "| Getting the data's dimensions | ```df.shape``` ```df.width``` ```df.height```| shape returns (rows, columns) while width returns (columns) and height returns (rows)|\n",
    "| Getting column names | ```df.columns``` | returns the column names in a list |\n",
    "| Selecting specific columns | ```df.select(['colname1', 'colname2', ....])```| column names must be strings inside a list ```[,]```. Will return a new data frame with the selected columns|\n",
    "| Selecting one column | ```df.select(['colname'])``` ```df.get_column('colname')``` |```.select()``` returns a data frame whereas ```get_column()``` returns a series|\n",
    "| Filtering (subsetting) the data | ```df.filter(pl.col('colname') == value)``` | filters (subsets) the data frame based on a condition. If the condition is based on a column then that column must be referenced using ```pl.col()``` and some condition ```==, <, <=, >, >=, !=, is_in(), etc```|\n",
    "| Sorting the data |```df.sort(['colname1', ...], descending = True/False)```| sorts the data frame based on one or more columns. The column names must be passed in a list ```[,]```. Ther direction of the sort can be changed using the ```descending``` argument|\n",
    "|Grouped operations|```df.group_by(pl.col('colname')).agg( ..operations ..)```| is used to perform operations within groups|\n",
    "|Renaming columns| ```df.rename({old name: new name})```| multiple columns can be included in the dictionary passed to the ```.rename()``` function|\n",
    "| Creating new or editing existing columns | ```df.with_columns( ..operations.. )``` | calculations and functions used to create a new column or edit existing columns must be passed to ```.with_columns()``` |\n",
    "| Combining (concating) data frames | ```pl.concat([df1, df2])``` ```pl.join()``` | data frames must be enetered in a list ```[,]``` for ```pl.concat()``` and the default functionality is to vertically stack the data frames. ```pl.join()``` offers more control for SQL-style joins.|\n",
    "|Viewing the data frame|```df.head(k)``` ```df.tail(k)```, ```df.glimpse()```| ```.head(k)``` returns the first ```k``` rows of the data frame, ```.tail(k)``` retuns the last ```k``` rows and ```.glimpse()``` gives a summary of the column names and data types"
   ]
  },
  {
   "cell_type": "markdown",
   "id": "5db9bb0c",
   "metadata": {},
   "source": [
    "<p style=\"font-family: monospace; \n",
    "          font-weight: bold; \n",
    "          letter-spacing: 1px; \n",
    "          color: black; \n",
    "          font-size: 150%; \n",
    "          text-align: left;\n",
    "          padding: 2px; \n",
    "          border-bottom: 2px solid #4cc9f0\" > (3c) Common Data Frame Operations: Examples</p>\n",
    "          \n",
    " Now lets try and manipulate a real data frame. First we will read in the ```stroke-data.csv``` file using ```pl.read_csv()```. The data frame contains health information where each row contains information about a single person."
   ]
  },
  {
   "cell_type": "code",
   "execution_count": 14,
   "id": "05680bcb",
   "metadata": {},
   "outputs": [
    {
     "name": "stdout",
     "output_type": "stream",
     "text": [
      "Rows: 15304\n",
      "Columns: 12\n",
      "$ id                <i64> 0, 1, 2, 3, 4, 5, 6, 7, 8, 9\n",
      "$ gender            <str> 'Male', 'Male', 'Female', 'Male', 'Female', 'Female', 'Female', 'Male', 'Female', 'Female'\n",
      "$ age               <f64> 28.0, 33.0, 42.0, 56.0, 24.0, 34.0, 53.0, 78.0, 45.0, 62.0\n",
      "$ hypertension      <i64> 0, 0, 0, 0, 0, 0, 0, 0, 0, 0\n",
      "$ heart_disease     <i64> 0, 0, 0, 0, 0, 0, 0, 1, 0, 0\n",
      "$ ever_married      <str> 'Yes', 'Yes', 'Yes', 'Yes', 'No', 'Yes', 'Yes', 'Yes', 'Yes', 'Yes'\n",
      "$ work_type         <str> 'Private', 'Private', 'Private', 'Private', 'Private', 'Private', 'Private', 'Self-employed', 'Private', 'Govt_job'\n",
      "$ Residence_type    <str> 'Urban', 'Rural', 'Rural', 'Urban', 'Rural', 'Urban', 'Rural', 'Rural', 'Rural', 'Urban'\n",
      "$ avg_glucose_level <f64> 79.53, 78.44, 103.0, 64.87, 73.36, 84.35, 88.97, 75.32, 107.22, 62.68\n",
      "$ bmi               <f64> 31.1, 23.9, 40.3, 28.8, 28.8, 22.2, 25.3, 24.8, 34.1, 18.4\n",
      "$ smoking_status    <str> 'never smoked', 'formerly smoked', 'Unknown', 'never smoked', 'never smoked', 'Unknown', 'never smoked', 'Unknown', 'never smoked', 'formerly smoked'\n",
      "$ stroke            <i64> 0, 0, 0, 0, 0, 0, 0, 0, 0, 0\n",
      "\n"
     ]
    }
   ],
   "source": [
    "# Read in the data set \n",
    "df = pl.read_csv('../data/stroke-data.csv')\n",
    "\n",
    "# Use df.glimpse() to get an overview of the columns and data types\n",
    "df.glimpse()"
   ]
  },
  {
   "cell_type": "code",
   "execution_count": 15,
   "id": "f7d43715",
   "metadata": {},
   "outputs": [
    {
     "data": {
      "text/html": [
       "<div><style>\n",
       ".dataframe > thead > tr > th,\n",
       ".dataframe > tbody > tr > td {\n",
       "  text-align: right;\n",
       "  white-space: pre-wrap;\n",
       "}\n",
       "</style>\n",
       "<small>shape: (10, 12)</small><table border=\"1\" class=\"dataframe\"><thead><tr><th>id</th><th>gender</th><th>age</th><th>hypertension</th><th>heart_disease</th><th>ever_married</th><th>work_type</th><th>Residence_type</th><th>avg_glucose_level</th><th>bmi</th><th>smoking_status</th><th>stroke</th></tr><tr><td>i64</td><td>str</td><td>f64</td><td>i64</td><td>i64</td><td>str</td><td>str</td><td>str</td><td>f64</td><td>f64</td><td>str</td><td>i64</td></tr></thead><tbody><tr><td>0</td><td>&quot;Male&quot;</td><td>28.0</td><td>0</td><td>0</td><td>&quot;Yes&quot;</td><td>&quot;Private&quot;</td><td>&quot;Urban&quot;</td><td>79.53</td><td>31.1</td><td>&quot;never smoked&quot;</td><td>0</td></tr><tr><td>1</td><td>&quot;Male&quot;</td><td>33.0</td><td>0</td><td>0</td><td>&quot;Yes&quot;</td><td>&quot;Private&quot;</td><td>&quot;Rural&quot;</td><td>78.44</td><td>23.9</td><td>&quot;formerly smoke…</td><td>0</td></tr><tr><td>2</td><td>&quot;Female&quot;</td><td>42.0</td><td>0</td><td>0</td><td>&quot;Yes&quot;</td><td>&quot;Private&quot;</td><td>&quot;Rural&quot;</td><td>103.0</td><td>40.3</td><td>&quot;Unknown&quot;</td><td>0</td></tr><tr><td>3</td><td>&quot;Male&quot;</td><td>56.0</td><td>0</td><td>0</td><td>&quot;Yes&quot;</td><td>&quot;Private&quot;</td><td>&quot;Urban&quot;</td><td>64.87</td><td>28.8</td><td>&quot;never smoked&quot;</td><td>0</td></tr><tr><td>4</td><td>&quot;Female&quot;</td><td>24.0</td><td>0</td><td>0</td><td>&quot;No&quot;</td><td>&quot;Private&quot;</td><td>&quot;Rural&quot;</td><td>73.36</td><td>28.8</td><td>&quot;never smoked&quot;</td><td>0</td></tr><tr><td>5</td><td>&quot;Female&quot;</td><td>34.0</td><td>0</td><td>0</td><td>&quot;Yes&quot;</td><td>&quot;Private&quot;</td><td>&quot;Urban&quot;</td><td>84.35</td><td>22.2</td><td>&quot;Unknown&quot;</td><td>0</td></tr><tr><td>6</td><td>&quot;Female&quot;</td><td>53.0</td><td>0</td><td>0</td><td>&quot;Yes&quot;</td><td>&quot;Private&quot;</td><td>&quot;Rural&quot;</td><td>88.97</td><td>25.3</td><td>&quot;never smoked&quot;</td><td>0</td></tr><tr><td>7</td><td>&quot;Male&quot;</td><td>78.0</td><td>0</td><td>1</td><td>&quot;Yes&quot;</td><td>&quot;Self-employed&quot;</td><td>&quot;Rural&quot;</td><td>75.32</td><td>24.8</td><td>&quot;Unknown&quot;</td><td>0</td></tr><tr><td>8</td><td>&quot;Female&quot;</td><td>45.0</td><td>0</td><td>0</td><td>&quot;Yes&quot;</td><td>&quot;Private&quot;</td><td>&quot;Rural&quot;</td><td>107.22</td><td>34.1</td><td>&quot;never smoked&quot;</td><td>0</td></tr><tr><td>9</td><td>&quot;Female&quot;</td><td>62.0</td><td>0</td><td>0</td><td>&quot;Yes&quot;</td><td>&quot;Govt_job&quot;</td><td>&quot;Urban&quot;</td><td>62.68</td><td>18.4</td><td>&quot;formerly smoke…</td><td>0</td></tr></tbody></table></div>"
      ],
      "text/plain": [
       "shape: (10, 12)\n",
       "┌─────┬────────┬──────┬──────────────┬───┬───────────────────┬──────┬─────────────────┬────────┐\n",
       "│ id  ┆ gender ┆ age  ┆ hypertension ┆ … ┆ avg_glucose_level ┆ bmi  ┆ smoking_status  ┆ stroke │\n",
       "│ --- ┆ ---    ┆ ---  ┆ ---          ┆   ┆ ---               ┆ ---  ┆ ---             ┆ ---    │\n",
       "│ i64 ┆ str    ┆ f64  ┆ i64          ┆   ┆ f64               ┆ f64  ┆ str             ┆ i64    │\n",
       "╞═════╪════════╪══════╪══════════════╪═══╪═══════════════════╪══════╪═════════════════╪════════╡\n",
       "│ 0   ┆ Male   ┆ 28.0 ┆ 0            ┆ … ┆ 79.53             ┆ 31.1 ┆ never smoked    ┆ 0      │\n",
       "│ 1   ┆ Male   ┆ 33.0 ┆ 0            ┆ … ┆ 78.44             ┆ 23.9 ┆ formerly smoked ┆ 0      │\n",
       "│ 2   ┆ Female ┆ 42.0 ┆ 0            ┆ … ┆ 103.0             ┆ 40.3 ┆ Unknown         ┆ 0      │\n",
       "│ 3   ┆ Male   ┆ 56.0 ┆ 0            ┆ … ┆ 64.87             ┆ 28.8 ┆ never smoked    ┆ 0      │\n",
       "│ …   ┆ …      ┆ …    ┆ …            ┆ … ┆ …                 ┆ …    ┆ …               ┆ …      │\n",
       "│ 6   ┆ Female ┆ 53.0 ┆ 0            ┆ … ┆ 88.97             ┆ 25.3 ┆ never smoked    ┆ 0      │\n",
       "│ 7   ┆ Male   ┆ 78.0 ┆ 0            ┆ … ┆ 75.32             ┆ 24.8 ┆ Unknown         ┆ 0      │\n",
       "│ 8   ┆ Female ┆ 45.0 ┆ 0            ┆ … ┆ 107.22            ┆ 34.1 ┆ never smoked    ┆ 0      │\n",
       "│ 9   ┆ Female ┆ 62.0 ┆ 0            ┆ … ┆ 62.68             ┆ 18.4 ┆ formerly smoked ┆ 0      │\n",
       "└─────┴────────┴──────┴──────────────┴───┴───────────────────┴──────┴─────────────────┴────────┘"
      ]
     },
     "execution_count": 15,
     "metadata": {},
     "output_type": "execute_result"
    }
   ],
   "source": [
    "# Use df.head(k) to view the first k rows \n",
    "df.head(10)"
   ]
  },
  {
   "cell_type": "markdown",
   "id": "88b3e557",
   "metadata": {},
   "source": [
    "**Getting the data dimensions**"
   ]
  },
  {
   "cell_type": "code",
   "execution_count": 16,
   "id": "232b788e",
   "metadata": {},
   "outputs": [
    {
     "name": "stdout",
     "output_type": "stream",
     "text": [
      "The shape of the df is (rows, columns) = (15304, 12)\n",
      "The df has 12 columns and 15304 rows\n"
     ]
    }
   ],
   "source": [
    "# Getting the dimensions of the df\n",
    "print(f'The shape of the df is (rows, columns) = {df.shape}')\n",
    "print(f'The df has {df.width} columns and {df.height} rows')"
   ]
  },
  {
   "cell_type": "markdown",
   "id": "4e3943e2",
   "metadata": {},
   "source": [
    "**Getting column names** (note the names are given in a list)"
   ]
  },
  {
   "cell_type": "code",
   "execution_count": 17,
   "id": "99f955ec",
   "metadata": {},
   "outputs": [
    {
     "name": "stdout",
     "output_type": "stream",
     "text": [
      "The column names are:\n"
     ]
    },
    {
     "data": {
      "text/plain": [
       "['id',\n",
       " 'gender',\n",
       " 'age',\n",
       " 'hypertension',\n",
       " 'heart_disease',\n",
       " 'ever_married',\n",
       " 'work_type',\n",
       " 'Residence_type',\n",
       " 'avg_glucose_level',\n",
       " 'bmi',\n",
       " 'smoking_status',\n",
       " 'stroke']"
      ]
     },
     "execution_count": 17,
     "metadata": {},
     "output_type": "execute_result"
    }
   ],
   "source": [
    "print('The column names are:')\n",
    "df.columns"
   ]
  },
  {
   "cell_type": "markdown",
   "id": "8b082f2e",
   "metadata": {},
   "source": [
    "**Selecting specific columns** (note using ```.select()``` returns a data frame)"
   ]
  },
  {
   "cell_type": "code",
   "execution_count": 18,
   "id": "fa4da2a7",
   "metadata": {},
   "outputs": [
    {
     "data": {
      "text/html": [
       "<div><style>\n",
       ".dataframe > thead > tr > th,\n",
       ".dataframe > tbody > tr > td {\n",
       "  text-align: right;\n",
       "  white-space: pre-wrap;\n",
       "}\n",
       "</style>\n",
       "<small>shape: (15_304, 3)</small><table border=\"1\" class=\"dataframe\"><thead><tr><th>gender</th><th>age</th><th>heart_disease</th></tr><tr><td>str</td><td>f64</td><td>i64</td></tr></thead><tbody><tr><td>&quot;Male&quot;</td><td>28.0</td><td>0</td></tr><tr><td>&quot;Male&quot;</td><td>33.0</td><td>0</td></tr><tr><td>&quot;Female&quot;</td><td>42.0</td><td>0</td></tr><tr><td>&quot;Male&quot;</td><td>56.0</td><td>0</td></tr><tr><td>&quot;Female&quot;</td><td>24.0</td><td>0</td></tr><tr><td>&quot;Female&quot;</td><td>34.0</td><td>0</td></tr><tr><td>&quot;Female&quot;</td><td>53.0</td><td>0</td></tr><tr><td>&quot;Male&quot;</td><td>78.0</td><td>1</td></tr><tr><td>&quot;Female&quot;</td><td>45.0</td><td>0</td></tr><tr><td>&quot;Female&quot;</td><td>62.0</td><td>0</td></tr><tr><td>&quot;Male&quot;</td><td>51.0</td><td>0</td></tr><tr><td>&quot;Female&quot;</td><td>45.0</td><td>0</td></tr><tr><td>&hellip;</td><td>&hellip;</td><td>&hellip;</td></tr><tr><td>&quot;Female&quot;</td><td>0.32</td><td>0</td></tr><tr><td>&quot;Female&quot;</td><td>78.0</td><td>0</td></tr><tr><td>&quot;Male&quot;</td><td>79.0</td><td>0</td></tr><tr><td>&quot;Male&quot;</td><td>12.0</td><td>0</td></tr><tr><td>&quot;Female&quot;</td><td>5.0</td><td>0</td></tr><tr><td>&quot;Female&quot;</td><td>32.0</td><td>0</td></tr><tr><td>&quot;Female&quot;</td><td>17.0</td><td>0</td></tr><tr><td>&quot;Female&quot;</td><td>22.0</td><td>0</td></tr><tr><td>&quot;Female&quot;</td><td>46.0</td><td>0</td></tr><tr><td>&quot;Female&quot;</td><td>75.0</td><td>0</td></tr><tr><td>&quot;Male&quot;</td><td>46.0</td><td>0</td></tr><tr><td>&quot;Female&quot;</td><td>14.0</td><td>0</td></tr></tbody></table></div>"
      ],
      "text/plain": [
       "shape: (15_304, 3)\n",
       "┌────────┬──────┬───────────────┐\n",
       "│ gender ┆ age  ┆ heart_disease │\n",
       "│ ---    ┆ ---  ┆ ---           │\n",
       "│ str    ┆ f64  ┆ i64           │\n",
       "╞════════╪══════╪═══════════════╡\n",
       "│ Male   ┆ 28.0 ┆ 0             │\n",
       "│ Male   ┆ 33.0 ┆ 0             │\n",
       "│ Female ┆ 42.0 ┆ 0             │\n",
       "│ Male   ┆ 56.0 ┆ 0             │\n",
       "│ …      ┆ …    ┆ …             │\n",
       "│ Female ┆ 46.0 ┆ 0             │\n",
       "│ Female ┆ 75.0 ┆ 0             │\n",
       "│ Male   ┆ 46.0 ┆ 0             │\n",
       "│ Female ┆ 14.0 ┆ 0             │\n",
       "└────────┴──────┴───────────────┘"
      ]
     },
     "execution_count": 18,
     "metadata": {},
     "output_type": "execute_result"
    }
   ],
   "source": [
    "# Selecting multiple columns that returns a data frame\n",
    "df.select(['gender', 'age', 'heart_disease'])"
   ]
  },
  {
   "cell_type": "code",
   "execution_count": 19,
   "id": "41858317",
   "metadata": {},
   "outputs": [
    {
     "data": {
      "text/html": [
       "<div><style>\n",
       ".dataframe > thead > tr > th,\n",
       ".dataframe > tbody > tr > td {\n",
       "  text-align: right;\n",
       "  white-space: pre-wrap;\n",
       "}\n",
       "</style>\n",
       "<small>shape: (15_304, 1)</small><table border=\"1\" class=\"dataframe\"><thead><tr><th>age</th></tr><tr><td>f64</td></tr></thead><tbody><tr><td>28.0</td></tr><tr><td>33.0</td></tr><tr><td>42.0</td></tr><tr><td>56.0</td></tr><tr><td>24.0</td></tr><tr><td>34.0</td></tr><tr><td>53.0</td></tr><tr><td>78.0</td></tr><tr><td>45.0</td></tr><tr><td>62.0</td></tr><tr><td>51.0</td></tr><tr><td>45.0</td></tr><tr><td>&hellip;</td></tr><tr><td>0.32</td></tr><tr><td>78.0</td></tr><tr><td>79.0</td></tr><tr><td>12.0</td></tr><tr><td>5.0</td></tr><tr><td>32.0</td></tr><tr><td>17.0</td></tr><tr><td>22.0</td></tr><tr><td>46.0</td></tr><tr><td>75.0</td></tr><tr><td>46.0</td></tr><tr><td>14.0</td></tr></tbody></table></div>"
      ],
      "text/plain": [
       "shape: (15_304, 1)\n",
       "┌──────┐\n",
       "│ age  │\n",
       "│ ---  │\n",
       "│ f64  │\n",
       "╞══════╡\n",
       "│ 28.0 │\n",
       "│ 33.0 │\n",
       "│ 42.0 │\n",
       "│ 56.0 │\n",
       "│ …    │\n",
       "│ 46.0 │\n",
       "│ 75.0 │\n",
       "│ 46.0 │\n",
       "│ 14.0 │\n",
       "└──────┘"
      ]
     },
     "execution_count": 19,
     "metadata": {},
     "output_type": "execute_result"
    }
   ],
   "source": [
    "# Selecting one column that returns a data frame\n",
    "df.select(['age'])"
   ]
  },
  {
   "cell_type": "code",
   "execution_count": 20,
   "id": "fb9aa3ab",
   "metadata": {},
   "outputs": [
    {
     "data": {
      "text/html": [
       "<div><style>\n",
       ".dataframe > thead > tr > th,\n",
       ".dataframe > tbody > tr > td {\n",
       "  text-align: right;\n",
       "  white-space: pre-wrap;\n",
       "}\n",
       "</style>\n",
       "<small>shape: (15_304,)</small><table border=\"1\" class=\"dataframe\"><thead><tr><th>age</th></tr><tr><td>f64</td></tr></thead><tbody><tr><td>28.0</td></tr><tr><td>33.0</td></tr><tr><td>42.0</td></tr><tr><td>56.0</td></tr><tr><td>24.0</td></tr><tr><td>34.0</td></tr><tr><td>53.0</td></tr><tr><td>78.0</td></tr><tr><td>45.0</td></tr><tr><td>62.0</td></tr><tr><td>51.0</td></tr><tr><td>45.0</td></tr><tr><td>&hellip;</td></tr><tr><td>0.32</td></tr><tr><td>78.0</td></tr><tr><td>79.0</td></tr><tr><td>12.0</td></tr><tr><td>5.0</td></tr><tr><td>32.0</td></tr><tr><td>17.0</td></tr><tr><td>22.0</td></tr><tr><td>46.0</td></tr><tr><td>75.0</td></tr><tr><td>46.0</td></tr><tr><td>14.0</td></tr></tbody></table></div>"
      ],
      "text/plain": [
       "shape: (15_304,)\n",
       "Series: 'age' [f64]\n",
       "[\n",
       "\t28.0\n",
       "\t33.0\n",
       "\t42.0\n",
       "\t56.0\n",
       "\t24.0\n",
       "\t34.0\n",
       "\t53.0\n",
       "\t78.0\n",
       "\t45.0\n",
       "\t62.0\n",
       "\t51.0\n",
       "\t45.0\n",
       "\t…\n",
       "\t32.0\n",
       "\t0.32\n",
       "\t78.0\n",
       "\t79.0\n",
       "\t12.0\n",
       "\t5.0\n",
       "\t32.0\n",
       "\t17.0\n",
       "\t22.0\n",
       "\t46.0\n",
       "\t75.0\n",
       "\t46.0\n",
       "\t14.0\n",
       "]"
      ]
     },
     "execution_count": 20,
     "metadata": {},
     "output_type": "execute_result"
    }
   ],
   "source": [
    "# For selecting a single column that returns a series\n",
    "df.get_column('age')"
   ]
  },
  {
   "cell_type": "markdown",
   "id": "4e604b74",
   "metadata": {},
   "source": [
    "<div style=\"font-family:monospace; \n",
    "            border-radius:10px; \n",
    "            border:#f77f00 solid; \n",
    "            padding: 20px; \n",
    "            background-color: #caf0f8; \n",
    "            font-size:100%; \n",
    "            text-align: left\">\n",
    "\n",
    "<h3 align=\"left\"><font color='#000000'>Filtering (subsetting) data frames</font></h3>\n",
    "\n",
    "\n",
    "Often times we are interested in a subset of the original data frame. Consider the following tasks\n",
    "\n",
    "1. Filter the data to only include men\n",
    "2. Filter the data to include only men and those with heart disease (1 = has heart disease in the data)\n",
    "3. Filter the data to include people older than 45 with a BMI greater than or equal to 30\n",
    "\n"
   ]
  },
  {
   "cell_type": "markdown",
   "id": "80539b55",
   "metadata": {},
   "source": [
    "<div style=\"font-family:monospace; \n",
    "            border-radius:10px; \n",
    "            border:#A8A8A8 solid; \n",
    "            padding: 15px; \n",
    "            background-color: #caf0f8; \n",
    "            font-size:100%; \n",
    "            text-align:left\">\n",
    "\n",
    "<h3 align=\"left\"><font color='#000000'>🖊 Extra Notes:</font></h3>\n",
    "\n",
    "* When filtering we need to use ```pl.col('column name')``` to indicate which column we would like to filter based on. An easy way to remember is ```.col``` is short for ```.column```.\n",
    "* Multiple filter statements can be chained together using ```df.filter().filter()```\n",
    "* Conditional logic can be used within ```.filter()``` by using ```df.filter((condition 1) & (condition 2))``` (use ```|``` instead of ```&``` for 'or' logic).\n",
    "* To know what to filter by we may need to figure out the values in each column. For example, we need to know the encodings for each gender in the ```gender``` column. To do this we could use ```df.select(['gender']).unique()```"
   ]
  },
  {
   "cell_type": "code",
   "execution_count": 21,
   "id": "afa4c92b",
   "metadata": {},
   "outputs": [
    {
     "data": {
      "text/html": [
       "<div><style>\n",
       ".dataframe > thead > tr > th,\n",
       ".dataframe > tbody > tr > td {\n",
       "  text-align: right;\n",
       "  white-space: pre-wrap;\n",
       "}\n",
       "</style>\n",
       "<small>shape: (3, 1)</small><table border=\"1\" class=\"dataframe\"><thead><tr><th>gender</th></tr><tr><td>str</td></tr></thead><tbody><tr><td>&quot;Female&quot;</td></tr><tr><td>&quot;Other&quot;</td></tr><tr><td>&quot;Male&quot;</td></tr></tbody></table></div>"
      ],
      "text/plain": [
       "shape: (3, 1)\n",
       "┌────────┐\n",
       "│ gender │\n",
       "│ ---    │\n",
       "│ str    │\n",
       "╞════════╡\n",
       "│ Female │\n",
       "│ Other  │\n",
       "│ Male   │\n",
       "└────────┘"
      ]
     },
     "execution_count": 21,
     "metadata": {},
     "output_type": "execute_result"
    }
   ],
   "source": [
    "# First determine the encodings for gender\n",
    "df.select(['gender']).unique()"
   ]
  },
  {
   "cell_type": "code",
   "execution_count": 22,
   "id": "2a1f48a5",
   "metadata": {},
   "outputs": [
    {
     "data": {
      "text/html": [
       "<div><style>\n",
       ".dataframe > thead > tr > th,\n",
       ".dataframe > tbody > tr > td {\n",
       "  text-align: right;\n",
       "  white-space: pre-wrap;\n",
       "}\n",
       "</style>\n",
       "<small>shape: (5_857, 12)</small><table border=\"1\" class=\"dataframe\"><thead><tr><th>id</th><th>gender</th><th>age</th><th>hypertension</th><th>heart_disease</th><th>ever_married</th><th>work_type</th><th>Residence_type</th><th>avg_glucose_level</th><th>bmi</th><th>smoking_status</th><th>stroke</th></tr><tr><td>i64</td><td>str</td><td>f64</td><td>i64</td><td>i64</td><td>str</td><td>str</td><td>str</td><td>f64</td><td>f64</td><td>str</td><td>i64</td></tr></thead><tbody><tr><td>0</td><td>&quot;Male&quot;</td><td>28.0</td><td>0</td><td>0</td><td>&quot;Yes&quot;</td><td>&quot;Private&quot;</td><td>&quot;Urban&quot;</td><td>79.53</td><td>31.1</td><td>&quot;never smoked&quot;</td><td>0</td></tr><tr><td>1</td><td>&quot;Male&quot;</td><td>33.0</td><td>0</td><td>0</td><td>&quot;Yes&quot;</td><td>&quot;Private&quot;</td><td>&quot;Rural&quot;</td><td>78.44</td><td>23.9</td><td>&quot;formerly smoke…</td><td>0</td></tr><tr><td>3</td><td>&quot;Male&quot;</td><td>56.0</td><td>0</td><td>0</td><td>&quot;Yes&quot;</td><td>&quot;Private&quot;</td><td>&quot;Urban&quot;</td><td>64.87</td><td>28.8</td><td>&quot;never smoked&quot;</td><td>0</td></tr><tr><td>7</td><td>&quot;Male&quot;</td><td>78.0</td><td>0</td><td>1</td><td>&quot;Yes&quot;</td><td>&quot;Self-employed&quot;</td><td>&quot;Rural&quot;</td><td>75.32</td><td>24.8</td><td>&quot;Unknown&quot;</td><td>0</td></tr><tr><td>10</td><td>&quot;Male&quot;</td><td>51.0</td><td>0</td><td>0</td><td>&quot;Yes&quot;</td><td>&quot;Self-employed&quot;</td><td>&quot;Urban&quot;</td><td>114.89</td><td>20.1</td><td>&quot;never smoked&quot;</td><td>0</td></tr><tr><td>13</td><td>&quot;Male&quot;</td><td>23.0</td><td>0</td><td>0</td><td>&quot;No&quot;</td><td>&quot;Private&quot;</td><td>&quot;Urban&quot;</td><td>112.09</td><td>37.3</td><td>&quot;smokes&quot;</td><td>0</td></tr><tr><td>22</td><td>&quot;Male&quot;</td><td>71.0</td><td>0</td><td>1</td><td>&quot;Yes&quot;</td><td>&quot;Self-employed&quot;</td><td>&quot;Urban&quot;</td><td>196.61</td><td>33.5</td><td>&quot;formerly smoke…</td><td>0</td></tr><tr><td>23</td><td>&quot;Male&quot;</td><td>50.0</td><td>0</td><td>0</td><td>&quot;Yes&quot;</td><td>&quot;Private&quot;</td><td>&quot;Urban&quot;</td><td>80.57</td><td>36.7</td><td>&quot;never smoked&quot;</td><td>0</td></tr><tr><td>26</td><td>&quot;Male&quot;</td><td>38.0</td><td>0</td><td>0</td><td>&quot;Yes&quot;</td><td>&quot;Private&quot;</td><td>&quot;Urban&quot;</td><td>89.21</td><td>27.0</td><td>&quot;Unknown&quot;</td><td>0</td></tr><tr><td>29</td><td>&quot;Male&quot;</td><td>61.0</td><td>0</td><td>0</td><td>&quot;Yes&quot;</td><td>&quot;Govt_job&quot;</td><td>&quot;Rural&quot;</td><td>75.03</td><td>27.6</td><td>&quot;never smoked&quot;</td><td>0</td></tr><tr><td>33</td><td>&quot;Male&quot;</td><td>58.0</td><td>0</td><td>0</td><td>&quot;Yes&quot;</td><td>&quot;Private&quot;</td><td>&quot;Rural&quot;</td><td>223.36</td><td>33.2</td><td>&quot;smokes&quot;</td><td>0</td></tr><tr><td>35</td><td>&quot;Male&quot;</td><td>56.0</td><td>0</td><td>0</td><td>&quot;Yes&quot;</td><td>&quot;Govt_job&quot;</td><td>&quot;Urban&quot;</td><td>84.11</td><td>35.8</td><td>&quot;formerly smoke…</td><td>0</td></tr><tr><td>&hellip;</td><td>&hellip;</td><td>&hellip;</td><td>&hellip;</td><td>&hellip;</td><td>&hellip;</td><td>&hellip;</td><td>&hellip;</td><td>&hellip;</td><td>&hellip;</td><td>&hellip;</td><td>&hellip;</td></tr><tr><td>15263</td><td>&quot;Male&quot;</td><td>64.0</td><td>0</td><td>0</td><td>&quot;Yes&quot;</td><td>&quot;Self-employed&quot;</td><td>&quot;Urban&quot;</td><td>65.22</td><td>33.0</td><td>&quot;formerly smoke…</td><td>0</td></tr><tr><td>15265</td><td>&quot;Male&quot;</td><td>36.0</td><td>0</td><td>0</td><td>&quot;Yes&quot;</td><td>&quot;Self-employed&quot;</td><td>&quot;Urban&quot;</td><td>79.94</td><td>37.2</td><td>&quot;Unknown&quot;</td><td>0</td></tr><tr><td>15269</td><td>&quot;Male&quot;</td><td>1.88</td><td>0</td><td>0</td><td>&quot;No&quot;</td><td>&quot;children&quot;</td><td>&quot;Urban&quot;</td><td>104.55</td><td>18.9</td><td>&quot;Unknown&quot;</td><td>0</td></tr><tr><td>15273</td><td>&quot;Male&quot;</td><td>46.0</td><td>0</td><td>0</td><td>&quot;Yes&quot;</td><td>&quot;Private&quot;</td><td>&quot;Rural&quot;</td><td>99.44</td><td>35.3</td><td>&quot;never smoked&quot;</td><td>0</td></tr><tr><td>15280</td><td>&quot;Male&quot;</td><td>14.0</td><td>0</td><td>0</td><td>&quot;No&quot;</td><td>&quot;children&quot;</td><td>&quot;Urban&quot;</td><td>112.26</td><td>23.0</td><td>&quot;never smoked&quot;</td><td>0</td></tr><tr><td>15281</td><td>&quot;Male&quot;</td><td>59.0</td><td>0</td><td>0</td><td>&quot;Yes&quot;</td><td>&quot;Private&quot;</td><td>&quot;Urban&quot;</td><td>85.06</td><td>26.7</td><td>&quot;never smoked&quot;</td><td>0</td></tr><tr><td>15283</td><td>&quot;Male&quot;</td><td>59.0</td><td>0</td><td>0</td><td>&quot;Yes&quot;</td><td>&quot;Govt_job&quot;</td><td>&quot;Urban&quot;</td><td>86.23</td><td>26.3</td><td>&quot;formerly smoke…</td><td>0</td></tr><tr><td>15284</td><td>&quot;Male&quot;</td><td>53.0</td><td>0</td><td>0</td><td>&quot;Yes&quot;</td><td>&quot;Private&quot;</td><td>&quot;Rural&quot;</td><td>86.96</td><td>32.8</td><td>&quot;Unknown&quot;</td><td>0</td></tr><tr><td>15289</td><td>&quot;Male&quot;</td><td>55.0</td><td>0</td><td>0</td><td>&quot;Yes&quot;</td><td>&quot;Govt_job&quot;</td><td>&quot;Urban&quot;</td><td>55.28</td><td>31.5</td><td>&quot;never smoked&quot;</td><td>0</td></tr><tr><td>15294</td><td>&quot;Male&quot;</td><td>79.0</td><td>0</td><td>0</td><td>&quot;Yes&quot;</td><td>&quot;Private&quot;</td><td>&quot;Rural&quot;</td><td>60.98</td><td>24.7</td><td>&quot;Unknown&quot;</td><td>1</td></tr><tr><td>15295</td><td>&quot;Male&quot;</td><td>12.0</td><td>0</td><td>0</td><td>&quot;No&quot;</td><td>&quot;children&quot;</td><td>&quot;Urban&quot;</td><td>69.78</td><td>14.3</td><td>&quot;never smoked&quot;</td><td>0</td></tr><tr><td>15302</td><td>&quot;Male&quot;</td><td>46.0</td><td>0</td><td>0</td><td>&quot;Yes&quot;</td><td>&quot;Private&quot;</td><td>&quot;Rural&quot;</td><td>101.13</td><td>22.5</td><td>&quot;Unknown&quot;</td><td>0</td></tr></tbody></table></div>"
      ],
      "text/plain": [
       "shape: (5_857, 12)\n",
       "┌───────┬────────┬──────┬──────────────┬───┬───────────────────┬──────┬─────────────────┬────────┐\n",
       "│ id    ┆ gender ┆ age  ┆ hypertension ┆ … ┆ avg_glucose_level ┆ bmi  ┆ smoking_status  ┆ stroke │\n",
       "│ ---   ┆ ---    ┆ ---  ┆ ---          ┆   ┆ ---               ┆ ---  ┆ ---             ┆ ---    │\n",
       "│ i64   ┆ str    ┆ f64  ┆ i64          ┆   ┆ f64               ┆ f64  ┆ str             ┆ i64    │\n",
       "╞═══════╪════════╪══════╪══════════════╪═══╪═══════════════════╪══════╪═════════════════╪════════╡\n",
       "│ 0     ┆ Male   ┆ 28.0 ┆ 0            ┆ … ┆ 79.53             ┆ 31.1 ┆ never smoked    ┆ 0      │\n",
       "│ 1     ┆ Male   ┆ 33.0 ┆ 0            ┆ … ┆ 78.44             ┆ 23.9 ┆ formerly smoked ┆ 0      │\n",
       "│ 3     ┆ Male   ┆ 56.0 ┆ 0            ┆ … ┆ 64.87             ┆ 28.8 ┆ never smoked    ┆ 0      │\n",
       "│ 7     ┆ Male   ┆ 78.0 ┆ 0            ┆ … ┆ 75.32             ┆ 24.8 ┆ Unknown         ┆ 0      │\n",
       "│ …     ┆ …      ┆ …    ┆ …            ┆ … ┆ …                 ┆ …    ┆ …               ┆ …      │\n",
       "│ 15289 ┆ Male   ┆ 55.0 ┆ 0            ┆ … ┆ 55.28             ┆ 31.5 ┆ never smoked    ┆ 0      │\n",
       "│ 15294 ┆ Male   ┆ 79.0 ┆ 0            ┆ … ┆ 60.98             ┆ 24.7 ┆ Unknown         ┆ 1      │\n",
       "│ 15295 ┆ Male   ┆ 12.0 ┆ 0            ┆ … ┆ 69.78             ┆ 14.3 ┆ never smoked    ┆ 0      │\n",
       "│ 15302 ┆ Male   ┆ 46.0 ┆ 0            ┆ … ┆ 101.13            ┆ 22.5 ┆ Unknown         ┆ 0      │\n",
       "└───────┴────────┴──────┴──────────────┴───┴───────────────────┴──────┴─────────────────┴────────┘"
      ]
     },
     "execution_count": 22,
     "metadata": {},
     "output_type": "execute_result"
    }
   ],
   "source": [
    "# Filter the data to only include men\n",
    "df.filter(pl.col('gender') == 'Male')"
   ]
  },
  {
   "cell_type": "code",
   "execution_count": 23,
   "id": "d3b90afe",
   "metadata": {},
   "outputs": [
    {
     "data": {
      "text/html": [
       "<div><style>\n",
       ".dataframe > thead > tr > th,\n",
       ".dataframe > tbody > tr > td {\n",
       "  text-align: right;\n",
       "  white-space: pre-wrap;\n",
       "}\n",
       "</style>\n",
       "<small>shape: (206, 12)</small><table border=\"1\" class=\"dataframe\"><thead><tr><th>id</th><th>gender</th><th>age</th><th>hypertension</th><th>heart_disease</th><th>ever_married</th><th>work_type</th><th>Residence_type</th><th>avg_glucose_level</th><th>bmi</th><th>smoking_status</th><th>stroke</th></tr><tr><td>i64</td><td>str</td><td>f64</td><td>i64</td><td>i64</td><td>str</td><td>str</td><td>str</td><td>f64</td><td>f64</td><td>str</td><td>i64</td></tr></thead><tbody><tr><td>7</td><td>&quot;Male&quot;</td><td>78.0</td><td>0</td><td>1</td><td>&quot;Yes&quot;</td><td>&quot;Self-employed&quot;</td><td>&quot;Rural&quot;</td><td>75.32</td><td>24.8</td><td>&quot;Unknown&quot;</td><td>0</td></tr><tr><td>22</td><td>&quot;Male&quot;</td><td>71.0</td><td>0</td><td>1</td><td>&quot;Yes&quot;</td><td>&quot;Self-employed&quot;</td><td>&quot;Urban&quot;</td><td>196.61</td><td>33.5</td><td>&quot;formerly smoke…</td><td>0</td></tr><tr><td>81</td><td>&quot;Male&quot;</td><td>54.0</td><td>0</td><td>1</td><td>&quot;Yes&quot;</td><td>&quot;Private&quot;</td><td>&quot;Urban&quot;</td><td>140.28</td><td>31.9</td><td>&quot;smokes&quot;</td><td>0</td></tr><tr><td>132</td><td>&quot;Male&quot;</td><td>56.0</td><td>0</td><td>1</td><td>&quot;Yes&quot;</td><td>&quot;Private&quot;</td><td>&quot;Urban&quot;</td><td>82.44</td><td>23.9</td><td>&quot;formerly smoke…</td><td>0</td></tr><tr><td>180</td><td>&quot;Male&quot;</td><td>78.0</td><td>0</td><td>1</td><td>&quot;Yes&quot;</td><td>&quot;Self-employed&quot;</td><td>&quot;Urban&quot;</td><td>57.2</td><td>30.1</td><td>&quot;formerly smoke…</td><td>0</td></tr><tr><td>186</td><td>&quot;Male&quot;</td><td>82.0</td><td>0</td><td>1</td><td>&quot;No&quot;</td><td>&quot;Self-employed&quot;</td><td>&quot;Urban&quot;</td><td>101.57</td><td>24.3</td><td>&quot;Unknown&quot;</td><td>0</td></tr><tr><td>278</td><td>&quot;Male&quot;</td><td>63.0</td><td>0</td><td>1</td><td>&quot;Yes&quot;</td><td>&quot;Private&quot;</td><td>&quot;Urban&quot;</td><td>226.93</td><td>37.8</td><td>&quot;never smoked&quot;</td><td>0</td></tr><tr><td>339</td><td>&quot;Male&quot;</td><td>57.0</td><td>0</td><td>1</td><td>&quot;Yes&quot;</td><td>&quot;Govt_job&quot;</td><td>&quot;Urban&quot;</td><td>111.73</td><td>26.9</td><td>&quot;never smoked&quot;</td><td>0</td></tr><tr><td>434</td><td>&quot;Male&quot;</td><td>74.0</td><td>1</td><td>1</td><td>&quot;Yes&quot;</td><td>&quot;Private&quot;</td><td>&quot;Rural&quot;</td><td>88.7</td><td>35.0</td><td>&quot;Unknown&quot;</td><td>0</td></tr><tr><td>779</td><td>&quot;Male&quot;</td><td>78.0</td><td>0</td><td>1</td><td>&quot;Yes&quot;</td><td>&quot;Private&quot;</td><td>&quot;Rural&quot;</td><td>80.84</td><td>27.3</td><td>&quot;smokes&quot;</td><td>0</td></tr><tr><td>812</td><td>&quot;Male&quot;</td><td>68.0</td><td>0</td><td>1</td><td>&quot;Yes&quot;</td><td>&quot;Private&quot;</td><td>&quot;Urban&quot;</td><td>80.0</td><td>34.5</td><td>&quot;Unknown&quot;</td><td>0</td></tr><tr><td>829</td><td>&quot;Male&quot;</td><td>78.0</td><td>0</td><td>1</td><td>&quot;Yes&quot;</td><td>&quot;Self-employed&quot;</td><td>&quot;Rural&quot;</td><td>60.49</td><td>31.2</td><td>&quot;formerly smoke…</td><td>1</td></tr><tr><td>&hellip;</td><td>&hellip;</td><td>&hellip;</td><td>&hellip;</td><td>&hellip;</td><td>&hellip;</td><td>&hellip;</td><td>&hellip;</td><td>&hellip;</td><td>&hellip;</td><td>&hellip;</td><td>&hellip;</td></tr><tr><td>14202</td><td>&quot;Male&quot;</td><td>78.0</td><td>0</td><td>1</td><td>&quot;Yes&quot;</td><td>&quot;Govt_job&quot;</td><td>&quot;Rural&quot;</td><td>61.88</td><td>32.3</td><td>&quot;Unknown&quot;</td><td>0</td></tr><tr><td>14221</td><td>&quot;Male&quot;</td><td>79.0</td><td>0</td><td>1</td><td>&quot;Yes&quot;</td><td>&quot;Private&quot;</td><td>&quot;Rural&quot;</td><td>75.95</td><td>24.4</td><td>&quot;never smoked&quot;</td><td>1</td></tr><tr><td>14251</td><td>&quot;Male&quot;</td><td>74.0</td><td>0</td><td>1</td><td>&quot;Yes&quot;</td><td>&quot;Private&quot;</td><td>&quot;Rural&quot;</td><td>94.14</td><td>29.0</td><td>&quot;formerly smoke…</td><td>0</td></tr><tr><td>14288</td><td>&quot;Male&quot;</td><td>71.0</td><td>0</td><td>1</td><td>&quot;Yes&quot;</td><td>&quot;Self-employed&quot;</td><td>&quot;Rural&quot;</td><td>107.94</td><td>25.5</td><td>&quot;never smoked&quot;</td><td>0</td></tr><tr><td>14428</td><td>&quot;Male&quot;</td><td>71.0</td><td>0</td><td>1</td><td>&quot;Yes&quot;</td><td>&quot;Self-employed&quot;</td><td>&quot;Urban&quot;</td><td>186.95</td><td>29.1</td><td>&quot;never smoked&quot;</td><td>0</td></tr><tr><td>14614</td><td>&quot;Male&quot;</td><td>82.0</td><td>1</td><td>1</td><td>&quot;Yes&quot;</td><td>&quot;Private&quot;</td><td>&quot;Urban&quot;</td><td>56.63</td><td>32.8</td><td>&quot;Unknown&quot;</td><td>0</td></tr><tr><td>14728</td><td>&quot;Male&quot;</td><td>72.0</td><td>0</td><td>1</td><td>&quot;Yes&quot;</td><td>&quot;Self-employed&quot;</td><td>&quot;Urban&quot;</td><td>70.13</td><td>30.6</td><td>&quot;formerly smoke…</td><td>0</td></tr><tr><td>14872</td><td>&quot;Male&quot;</td><td>61.0</td><td>0</td><td>1</td><td>&quot;Yes&quot;</td><td>&quot;Private&quot;</td><td>&quot;Rural&quot;</td><td>87.96</td><td>32.3</td><td>&quot;never smoked&quot;</td><td>0</td></tr><tr><td>14980</td><td>&quot;Male&quot;</td><td>74.0</td><td>1</td><td>1</td><td>&quot;Yes&quot;</td><td>&quot;Private&quot;</td><td>&quot;Rural&quot;</td><td>81.51</td><td>32.7</td><td>&quot;formerly smoke…</td><td>0</td></tr><tr><td>15131</td><td>&quot;Male&quot;</td><td>66.0</td><td>0</td><td>1</td><td>&quot;Yes&quot;</td><td>&quot;Self-employed&quot;</td><td>&quot;Rural&quot;</td><td>204.05</td><td>30.5</td><td>&quot;formerly smoke…</td><td>0</td></tr><tr><td>15236</td><td>&quot;Male&quot;</td><td>52.0</td><td>0</td><td>1</td><td>&quot;Yes&quot;</td><td>&quot;Private&quot;</td><td>&quot;Urban&quot;</td><td>86.3</td><td>28.8</td><td>&quot;formerly smoke…</td><td>0</td></tr><tr><td>15243</td><td>&quot;Male&quot;</td><td>78.0</td><td>0</td><td>1</td><td>&quot;Yes&quot;</td><td>&quot;Private&quot;</td><td>&quot;Urban&quot;</td><td>81.81</td><td>32.5</td><td>&quot;formerly smoke…</td><td>0</td></tr></tbody></table></div>"
      ],
      "text/plain": [
       "shape: (206, 12)\n",
       "┌───────┬────────┬──────┬──────────────┬───┬───────────────────┬──────┬─────────────────┬────────┐\n",
       "│ id    ┆ gender ┆ age  ┆ hypertension ┆ … ┆ avg_glucose_level ┆ bmi  ┆ smoking_status  ┆ stroke │\n",
       "│ ---   ┆ ---    ┆ ---  ┆ ---          ┆   ┆ ---               ┆ ---  ┆ ---             ┆ ---    │\n",
       "│ i64   ┆ str    ┆ f64  ┆ i64          ┆   ┆ f64               ┆ f64  ┆ str             ┆ i64    │\n",
       "╞═══════╪════════╪══════╪══════════════╪═══╪═══════════════════╪══════╪═════════════════╪════════╡\n",
       "│ 7     ┆ Male   ┆ 78.0 ┆ 0            ┆ … ┆ 75.32             ┆ 24.8 ┆ Unknown         ┆ 0      │\n",
       "│ 22    ┆ Male   ┆ 71.0 ┆ 0            ┆ … ┆ 196.61            ┆ 33.5 ┆ formerly smoked ┆ 0      │\n",
       "│ 81    ┆ Male   ┆ 54.0 ┆ 0            ┆ … ┆ 140.28            ┆ 31.9 ┆ smokes          ┆ 0      │\n",
       "│ 132   ┆ Male   ┆ 56.0 ┆ 0            ┆ … ┆ 82.44             ┆ 23.9 ┆ formerly smoked ┆ 0      │\n",
       "│ …     ┆ …      ┆ …    ┆ …            ┆ … ┆ …                 ┆ …    ┆ …               ┆ …      │\n",
       "│ 14980 ┆ Male   ┆ 74.0 ┆ 1            ┆ … ┆ 81.51             ┆ 32.7 ┆ formerly smoked ┆ 0      │\n",
       "│ 15131 ┆ Male   ┆ 66.0 ┆ 0            ┆ … ┆ 204.05            ┆ 30.5 ┆ formerly smoked ┆ 0      │\n",
       "│ 15236 ┆ Male   ┆ 52.0 ┆ 0            ┆ … ┆ 86.3              ┆ 28.8 ┆ formerly smoked ┆ 0      │\n",
       "│ 15243 ┆ Male   ┆ 78.0 ┆ 0            ┆ … ┆ 81.81             ┆ 32.5 ┆ formerly smoked ┆ 0      │\n",
       "└───────┴────────┴──────┴──────────────┴───┴───────────────────┴──────┴─────────────────┴────────┘"
      ]
     },
     "execution_count": 23,
     "metadata": {},
     "output_type": "execute_result"
    }
   ],
   "source": [
    "# Filter the data to only include men with heart disease\n",
    "# df.filter(pl.col('gender') == 'Male').filter(pl.col('heart_disease') == 1)\n",
    "\n",
    "# The code below is equivalent\n",
    "df.filter((pl.col('gender') == 'Male') & (pl.col('heart_disease') == 1))"
   ]
  },
  {
   "cell_type": "code",
   "execution_count": 24,
   "id": "6b43482b",
   "metadata": {},
   "outputs": [
    {
     "data": {
      "text/html": [
       "<div><style>\n",
       ".dataframe > thead > tr > th,\n",
       ".dataframe > tbody > tr > td {\n",
       "  text-align: right;\n",
       "  white-space: pre-wrap;\n",
       "}\n",
       "</style>\n",
       "<small>shape: (3_050, 12)</small><table border=\"1\" class=\"dataframe\"><thead><tr><th>id</th><th>gender</th><th>age</th><th>hypertension</th><th>heart_disease</th><th>ever_married</th><th>work_type</th><th>Residence_type</th><th>avg_glucose_level</th><th>bmi</th><th>smoking_status</th><th>stroke</th></tr><tr><td>i64</td><td>str</td><td>f64</td><td>i64</td><td>i64</td><td>str</td><td>str</td><td>str</td><td>f64</td><td>f64</td><td>str</td><td>i64</td></tr></thead><tbody><tr><td>18</td><td>&quot;Female&quot;</td><td>47.0</td><td>0</td><td>0</td><td>&quot;Yes&quot;</td><td>&quot;Private&quot;</td><td>&quot;Urban&quot;</td><td>65.34</td><td>32.5</td><td>&quot;formerly smoke…</td><td>0</td></tr><tr><td>22</td><td>&quot;Male&quot;</td><td>71.0</td><td>0</td><td>1</td><td>&quot;Yes&quot;</td><td>&quot;Self-employed&quot;</td><td>&quot;Urban&quot;</td><td>196.61</td><td>33.5</td><td>&quot;formerly smoke…</td><td>0</td></tr><tr><td>23</td><td>&quot;Male&quot;</td><td>50.0</td><td>0</td><td>0</td><td>&quot;Yes&quot;</td><td>&quot;Private&quot;</td><td>&quot;Urban&quot;</td><td>80.57</td><td>36.7</td><td>&quot;never smoked&quot;</td><td>0</td></tr><tr><td>33</td><td>&quot;Male&quot;</td><td>58.0</td><td>0</td><td>0</td><td>&quot;Yes&quot;</td><td>&quot;Private&quot;</td><td>&quot;Rural&quot;</td><td>223.36</td><td>33.2</td><td>&quot;smokes&quot;</td><td>0</td></tr><tr><td>35</td><td>&quot;Male&quot;</td><td>56.0</td><td>0</td><td>0</td><td>&quot;Yes&quot;</td><td>&quot;Govt_job&quot;</td><td>&quot;Urban&quot;</td><td>84.11</td><td>35.8</td><td>&quot;formerly smoke…</td><td>0</td></tr><tr><td>43</td><td>&quot;Female&quot;</td><td>52.0</td><td>1</td><td>0</td><td>&quot;Yes&quot;</td><td>&quot;Self-employed&quot;</td><td>&quot;Urban&quot;</td><td>129.19</td><td>35.6</td><td>&quot;smokes&quot;</td><td>0</td></tr><tr><td>45</td><td>&quot;Male&quot;</td><td>54.0</td><td>0</td><td>0</td><td>&quot;Yes&quot;</td><td>&quot;Self-employed&quot;</td><td>&quot;Urban&quot;</td><td>74.62</td><td>32.7</td><td>&quot;never smoked&quot;</td><td>0</td></tr><tr><td>57</td><td>&quot;Female&quot;</td><td>82.0</td><td>1</td><td>0</td><td>&quot;Yes&quot;</td><td>&quot;Private&quot;</td><td>&quot;Urban&quot;</td><td>73.19</td><td>33.5</td><td>&quot;never smoked&quot;</td><td>0</td></tr><tr><td>60</td><td>&quot;Female&quot;</td><td>74.0</td><td>1</td><td>0</td><td>&quot;Yes&quot;</td><td>&quot;Private&quot;</td><td>&quot;Urban&quot;</td><td>89.96</td><td>30.1</td><td>&quot;formerly smoke…</td><td>0</td></tr><tr><td>61</td><td>&quot;Female&quot;</td><td>78.0</td><td>0</td><td>0</td><td>&quot;Yes&quot;</td><td>&quot;Self-employed&quot;</td><td>&quot;Urban&quot;</td><td>182.9</td><td>32.9</td><td>&quot;never smoked&quot;</td><td>1</td></tr><tr><td>62</td><td>&quot;Female&quot;</td><td>52.0</td><td>0</td><td>0</td><td>&quot;Yes&quot;</td><td>&quot;Private&quot;</td><td>&quot;Rural&quot;</td><td>58.61</td><td>32.3</td><td>&quot;never smoked&quot;</td><td>0</td></tr><tr><td>67</td><td>&quot;Female&quot;</td><td>80.0</td><td>0</td><td>0</td><td>&quot;Yes&quot;</td><td>&quot;Private&quot;</td><td>&quot;Urban&quot;</td><td>64.92</td><td>30.0</td><td>&quot;formerly smoke…</td><td>1</td></tr><tr><td>&hellip;</td><td>&hellip;</td><td>&hellip;</td><td>&hellip;</td><td>&hellip;</td><td>&hellip;</td><td>&hellip;</td><td>&hellip;</td><td>&hellip;</td><td>&hellip;</td><td>&hellip;</td><td>&hellip;</td></tr><tr><td>15238</td><td>&quot;Female&quot;</td><td>47.0</td><td>0</td><td>0</td><td>&quot;Yes&quot;</td><td>&quot;Private&quot;</td><td>&quot;Urban&quot;</td><td>91.88</td><td>31.2</td><td>&quot;Unknown&quot;</td><td>0</td></tr><tr><td>15243</td><td>&quot;Male&quot;</td><td>78.0</td><td>0</td><td>1</td><td>&quot;Yes&quot;</td><td>&quot;Private&quot;</td><td>&quot;Urban&quot;</td><td>81.81</td><td>32.5</td><td>&quot;formerly smoke…</td><td>0</td></tr><tr><td>15250</td><td>&quot;Male&quot;</td><td>67.0</td><td>0</td><td>0</td><td>&quot;Yes&quot;</td><td>&quot;Self-employed&quot;</td><td>&quot;Rural&quot;</td><td>98.39</td><td>44.1</td><td>&quot;formerly smoke…</td><td>1</td></tr><tr><td>15251</td><td>&quot;Male&quot;</td><td>47.0</td><td>0</td><td>0</td><td>&quot;Yes&quot;</td><td>&quot;Private&quot;</td><td>&quot;Urban&quot;</td><td>104.03</td><td>33.3</td><td>&quot;smokes&quot;</td><td>0</td></tr><tr><td>15254</td><td>&quot;Female&quot;</td><td>72.0</td><td>0</td><td>0</td><td>&quot;Yes&quot;</td><td>&quot;Self-employed&quot;</td><td>&quot;Rural&quot;</td><td>68.34</td><td>32.3</td><td>&quot;never smoked&quot;</td><td>0</td></tr><tr><td>15256</td><td>&quot;Female&quot;</td><td>61.0</td><td>0</td><td>0</td><td>&quot;Yes&quot;</td><td>&quot;Private&quot;</td><td>&quot;Urban&quot;</td><td>90.42</td><td>39.9</td><td>&quot;never smoked&quot;</td><td>0</td></tr><tr><td>15263</td><td>&quot;Male&quot;</td><td>64.0</td><td>0</td><td>0</td><td>&quot;Yes&quot;</td><td>&quot;Self-employed&quot;</td><td>&quot;Urban&quot;</td><td>65.22</td><td>33.0</td><td>&quot;formerly smoke…</td><td>0</td></tr><tr><td>15268</td><td>&quot;Female&quot;</td><td>79.0</td><td>0</td><td>0</td><td>&quot;Yes&quot;</td><td>&quot;Self-employed&quot;</td><td>&quot;Urban&quot;</td><td>79.53</td><td>32.9</td><td>&quot;smokes&quot;</td><td>0</td></tr><tr><td>15273</td><td>&quot;Male&quot;</td><td>46.0</td><td>0</td><td>0</td><td>&quot;Yes&quot;</td><td>&quot;Private&quot;</td><td>&quot;Rural&quot;</td><td>99.44</td><td>35.3</td><td>&quot;never smoked&quot;</td><td>0</td></tr><tr><td>15284</td><td>&quot;Male&quot;</td><td>53.0</td><td>0</td><td>0</td><td>&quot;Yes&quot;</td><td>&quot;Private&quot;</td><td>&quot;Rural&quot;</td><td>86.96</td><td>32.8</td><td>&quot;Unknown&quot;</td><td>0</td></tr><tr><td>15289</td><td>&quot;Male&quot;</td><td>55.0</td><td>0</td><td>0</td><td>&quot;Yes&quot;</td><td>&quot;Govt_job&quot;</td><td>&quot;Urban&quot;</td><td>55.28</td><td>31.5</td><td>&quot;never smoked&quot;</td><td>0</td></tr><tr><td>15300</td><td>&quot;Female&quot;</td><td>46.0</td><td>1</td><td>0</td><td>&quot;Yes&quot;</td><td>&quot;Private&quot;</td><td>&quot;Urban&quot;</td><td>101.19</td><td>32.1</td><td>&quot;never smoked&quot;</td><td>0</td></tr></tbody></table></div>"
      ],
      "text/plain": [
       "shape: (3_050, 12)\n",
       "┌───────┬────────┬──────┬──────────────┬───┬───────────────────┬──────┬─────────────────┬────────┐\n",
       "│ id    ┆ gender ┆ age  ┆ hypertension ┆ … ┆ avg_glucose_level ┆ bmi  ┆ smoking_status  ┆ stroke │\n",
       "│ ---   ┆ ---    ┆ ---  ┆ ---          ┆   ┆ ---               ┆ ---  ┆ ---             ┆ ---    │\n",
       "│ i64   ┆ str    ┆ f64  ┆ i64          ┆   ┆ f64               ┆ f64  ┆ str             ┆ i64    │\n",
       "╞═══════╪════════╪══════╪══════════════╪═══╪═══════════════════╪══════╪═════════════════╪════════╡\n",
       "│ 18    ┆ Female ┆ 47.0 ┆ 0            ┆ … ┆ 65.34             ┆ 32.5 ┆ formerly smoked ┆ 0      │\n",
       "│ 22    ┆ Male   ┆ 71.0 ┆ 0            ┆ … ┆ 196.61            ┆ 33.5 ┆ formerly smoked ┆ 0      │\n",
       "│ 23    ┆ Male   ┆ 50.0 ┆ 0            ┆ … ┆ 80.57             ┆ 36.7 ┆ never smoked    ┆ 0      │\n",
       "│ 33    ┆ Male   ┆ 58.0 ┆ 0            ┆ … ┆ 223.36            ┆ 33.2 ┆ smokes          ┆ 0      │\n",
       "│ …     ┆ …      ┆ …    ┆ …            ┆ … ┆ …                 ┆ …    ┆ …               ┆ …      │\n",
       "│ 15273 ┆ Male   ┆ 46.0 ┆ 0            ┆ … ┆ 99.44             ┆ 35.3 ┆ never smoked    ┆ 0      │\n",
       "│ 15284 ┆ Male   ┆ 53.0 ┆ 0            ┆ … ┆ 86.96             ┆ 32.8 ┆ Unknown         ┆ 0      │\n",
       "│ 15289 ┆ Male   ┆ 55.0 ┆ 0            ┆ … ┆ 55.28             ┆ 31.5 ┆ never smoked    ┆ 0      │\n",
       "│ 15300 ┆ Female ┆ 46.0 ┆ 1            ┆ … ┆ 101.19            ┆ 32.1 ┆ never smoked    ┆ 0      │\n",
       "└───────┴────────┴──────┴──────────────┴───┴───────────────────┴──────┴─────────────────┴────────┘"
      ]
     },
     "execution_count": 24,
     "metadata": {},
     "output_type": "execute_result"
    }
   ],
   "source": [
    "# Filter\n",
    "df.filter(pl.col('age') > 45).filter(pl.col('bmi') >= 30)\n",
    "\n",
    "# The code below is equivalent\n",
    "# df.filter((pl.col('age') > 45) & (pl.col('bmi') >= 30))"
   ]
  },
  {
   "cell_type": "markdown",
   "id": "f83ed4e5",
   "metadata": {},
   "source": [
    "<div style=\"font-family:monospace; \n",
    "            border-radius:10px; \n",
    "            border:#f77f00 solid; \n",
    "            padding: 20px; \n",
    "            background-color: #caf0f8; \n",
    "            font-size:100%; \n",
    "            text-align: left\">\n",
    "\n",
    "<h3 align=\"left\"><font color='#000000'>Sorting data frames</font></h3>\n",
    "\n",
    "\n",
    "Sometimes we want to order a data frame or only examine the largest/smallest values based on a particular column. The following functions are useful for accomplishing such tasks:\n",
    "\n",
    "1. ```df.sort(['column name 1', ...])``` sorts a data frame based on a column or multiple columns. If multiple columns are selected the rows will be sorted by the first column name, then by the second within the categories from the first, and so on.\n",
    "2. ```df.top_k(k, by='column name')``` returns the top k rows of a data frame based on the k largest values from a column\n",
    "3. ```df.bottom_k(k , by='column name')``` returns the bottom k rows of a data frame based on the k smallest a column\n",
    "\n",
    "Now consider four tasks:\n",
    "1. Sort the data frame by age\n",
    "2. Sort the data frame by age and bmi\n",
    "3. Get the data for the people with the 5 lowest BMIs\n",
    "4. Get the data for the people with the 5 largest ages\n"
   ]
  },
  {
   "cell_type": "code",
   "execution_count": 25,
   "id": "6ee31d77",
   "metadata": {},
   "outputs": [
    {
     "data": {
      "text/html": [
       "<div><style>\n",
       ".dataframe > thead > tr > th,\n",
       ".dataframe > tbody > tr > td {\n",
       "  text-align: right;\n",
       "  white-space: pre-wrap;\n",
       "}\n",
       "</style>\n",
       "<small>shape: (15_304, 12)</small><table border=\"1\" class=\"dataframe\"><thead><tr><th>id</th><th>gender</th><th>age</th><th>hypertension</th><th>heart_disease</th><th>ever_married</th><th>work_type</th><th>Residence_type</th><th>avg_glucose_level</th><th>bmi</th><th>smoking_status</th><th>stroke</th></tr><tr><td>i64</td><td>str</td><td>f64</td><td>i64</td><td>i64</td><td>str</td><td>str</td><td>str</td><td>f64</td><td>f64</td><td>str</td><td>i64</td></tr></thead><tbody><tr><td>3071</td><td>&quot;Male&quot;</td><td>0.08</td><td>0</td><td>0</td><td>&quot;No&quot;</td><td>&quot;children&quot;</td><td>&quot;Rural&quot;</td><td>73.33</td><td>17.4</td><td>&quot;Unknown&quot;</td><td>0</td></tr><tr><td>3137</td><td>&quot;Male&quot;</td><td>0.08</td><td>0</td><td>0</td><td>&quot;No&quot;</td><td>&quot;children&quot;</td><td>&quot;Urban&quot;</td><td>75.93</td><td>14.8</td><td>&quot;Unknown&quot;</td><td>0</td></tr><tr><td>4155</td><td>&quot;Female&quot;</td><td>0.08</td><td>0</td><td>0</td><td>&quot;Yes&quot;</td><td>&quot;Private&quot;</td><td>&quot;Urban&quot;</td><td>79.33</td><td>33.2</td><td>&quot;Unknown&quot;</td><td>0</td></tr><tr><td>4738</td><td>&quot;Male&quot;</td><td>0.08</td><td>0</td><td>0</td><td>&quot;No&quot;</td><td>&quot;children&quot;</td><td>&quot;Urban&quot;</td><td>72.01</td><td>19.5</td><td>&quot;Unknown&quot;</td><td>0</td></tr><tr><td>7278</td><td>&quot;Male&quot;</td><td>0.08</td><td>0</td><td>0</td><td>&quot;No&quot;</td><td>&quot;children&quot;</td><td>&quot;Urban&quot;</td><td>86.32</td><td>16.6</td><td>&quot;Unknown&quot;</td><td>0</td></tr><tr><td>7579</td><td>&quot;Male&quot;</td><td>0.08</td><td>0</td><td>0</td><td>&quot;No&quot;</td><td>&quot;children&quot;</td><td>&quot;Rural&quot;</td><td>80.08</td><td>18.1</td><td>&quot;Unknown&quot;</td><td>0</td></tr><tr><td>422</td><td>&quot;Female&quot;</td><td>0.16</td><td>0</td><td>0</td><td>&quot;No&quot;</td><td>&quot;children&quot;</td><td>&quot;Rural&quot;</td><td>73.74</td><td>20.8</td><td>&quot;Unknown&quot;</td><td>0</td></tr><tr><td>4000</td><td>&quot;Female&quot;</td><td>0.16</td><td>0</td><td>0</td><td>&quot;No&quot;</td><td>&quot;children&quot;</td><td>&quot;Urban&quot;</td><td>98.03</td><td>17.0</td><td>&quot;Unknown&quot;</td><td>0</td></tr><tr><td>6303</td><td>&quot;Male&quot;</td><td>0.16</td><td>0</td><td>0</td><td>&quot;No&quot;</td><td>&quot;children&quot;</td><td>&quot;Rural&quot;</td><td>90.42</td><td>17.4</td><td>&quot;Unknown&quot;</td><td>0</td></tr><tr><td>6936</td><td>&quot;Female&quot;</td><td>0.16</td><td>0</td><td>0</td><td>&quot;No&quot;</td><td>&quot;children&quot;</td><td>&quot;Urban&quot;</td><td>86.96</td><td>19.1</td><td>&quot;Unknown&quot;</td><td>0</td></tr><tr><td>8058</td><td>&quot;Male&quot;</td><td>0.16</td><td>0</td><td>0</td><td>&quot;No&quot;</td><td>&quot;children&quot;</td><td>&quot;Urban&quot;</td><td>84.4</td><td>16.3</td><td>&quot;Unknown&quot;</td><td>0</td></tr><tr><td>11161</td><td>&quot;Female&quot;</td><td>0.16</td><td>0</td><td>0</td><td>&quot;No&quot;</td><td>&quot;children&quot;</td><td>&quot;Rural&quot;</td><td>108.63</td><td>16.3</td><td>&quot;Unknown&quot;</td><td>0</td></tr><tr><td>&hellip;</td><td>&hellip;</td><td>&hellip;</td><td>&hellip;</td><td>&hellip;</td><td>&hellip;</td><td>&hellip;</td><td>&hellip;</td><td>&hellip;</td><td>&hellip;</td><td>&hellip;</td><td>&hellip;</td></tr><tr><td>13267</td><td>&quot;Female&quot;</td><td>82.0</td><td>0</td><td>0</td><td>&quot;Yes&quot;</td><td>&quot;Private&quot;</td><td>&quot;Rural&quot;</td><td>87.62</td><td>23.1</td><td>&quot;formerly smoke…</td><td>0</td></tr><tr><td>13271</td><td>&quot;Female&quot;</td><td>82.0</td><td>0</td><td>0</td><td>&quot;Yes&quot;</td><td>&quot;Private&quot;</td><td>&quot;Rural&quot;</td><td>66.32</td><td>22.6</td><td>&quot;formerly smoke…</td><td>1</td></tr><tr><td>13748</td><td>&quot;Female&quot;</td><td>82.0</td><td>0</td><td>0</td><td>&quot;Yes&quot;</td><td>&quot;Private&quot;</td><td>&quot;Rural&quot;</td><td>85.57</td><td>21.8</td><td>&quot;never smoked&quot;</td><td>0</td></tr><tr><td>13864</td><td>&quot;Male&quot;</td><td>82.0</td><td>0</td><td>0</td><td>&quot;Yes&quot;</td><td>&quot;Private&quot;</td><td>&quot;Rural&quot;</td><td>70.23</td><td>32.8</td><td>&quot;never smoked&quot;</td><td>1</td></tr><tr><td>14078</td><td>&quot;Male&quot;</td><td>82.0</td><td>0</td><td>1</td><td>&quot;Yes&quot;</td><td>&quot;Private&quot;</td><td>&quot;Rural&quot;</td><td>81.68</td><td>29.2</td><td>&quot;Unknown&quot;</td><td>0</td></tr><tr><td>14147</td><td>&quot;Male&quot;</td><td>82.0</td><td>0</td><td>0</td><td>&quot;Yes&quot;</td><td>&quot;Self-employed&quot;</td><td>&quot;Urban&quot;</td><td>101.58</td><td>25.6</td><td>&quot;never smoked&quot;</td><td>1</td></tr><tr><td>14440</td><td>&quot;Female&quot;</td><td>82.0</td><td>0</td><td>1</td><td>&quot;Yes&quot;</td><td>&quot;Private&quot;</td><td>&quot;Urban&quot;</td><td>78.32</td><td>27.3</td><td>&quot;Unknown&quot;</td><td>0</td></tr><tr><td>14614</td><td>&quot;Male&quot;</td><td>82.0</td><td>1</td><td>1</td><td>&quot;Yes&quot;</td><td>&quot;Private&quot;</td><td>&quot;Urban&quot;</td><td>56.63</td><td>32.8</td><td>&quot;Unknown&quot;</td><td>0</td></tr><tr><td>14664</td><td>&quot;Male&quot;</td><td>82.0</td><td>1</td><td>0</td><td>&quot;Yes&quot;</td><td>&quot;Private&quot;</td><td>&quot;Rural&quot;</td><td>144.9</td><td>26.4</td><td>&quot;smokes&quot;</td><td>1</td></tr><tr><td>14931</td><td>&quot;Male&quot;</td><td>82.0</td><td>0</td><td>0</td><td>&quot;Yes&quot;</td><td>&quot;Private&quot;</td><td>&quot;Urban&quot;</td><td>74.09</td><td>33.7</td><td>&quot;Unknown&quot;</td><td>0</td></tr><tr><td>14965</td><td>&quot;Male&quot;</td><td>82.0</td><td>1</td><td>0</td><td>&quot;Yes&quot;</td><td>&quot;Self-employed&quot;</td><td>&quot;Urban&quot;</td><td>81.54</td><td>28.4</td><td>&quot;never smoked&quot;</td><td>0</td></tr><tr><td>15172</td><td>&quot;Female&quot;</td><td>82.0</td><td>1</td><td>1</td><td>&quot;Yes&quot;</td><td>&quot;Private&quot;</td><td>&quot;Rural&quot;</td><td>68.8</td><td>26.8</td><td>&quot;smokes&quot;</td><td>1</td></tr></tbody></table></div>"
      ],
      "text/plain": [
       "shape: (15_304, 12)\n",
       "┌───────┬────────┬──────┬──────────────┬───┬───────────────────┬──────┬────────────────┬────────┐\n",
       "│ id    ┆ gender ┆ age  ┆ hypertension ┆ … ┆ avg_glucose_level ┆ bmi  ┆ smoking_status ┆ stroke │\n",
       "│ ---   ┆ ---    ┆ ---  ┆ ---          ┆   ┆ ---               ┆ ---  ┆ ---            ┆ ---    │\n",
       "│ i64   ┆ str    ┆ f64  ┆ i64          ┆   ┆ f64               ┆ f64  ┆ str            ┆ i64    │\n",
       "╞═══════╪════════╪══════╪══════════════╪═══╪═══════════════════╪══════╪════════════════╪════════╡\n",
       "│ 3071  ┆ Male   ┆ 0.08 ┆ 0            ┆ … ┆ 73.33             ┆ 17.4 ┆ Unknown        ┆ 0      │\n",
       "│ 3137  ┆ Male   ┆ 0.08 ┆ 0            ┆ … ┆ 75.93             ┆ 14.8 ┆ Unknown        ┆ 0      │\n",
       "│ 4155  ┆ Female ┆ 0.08 ┆ 0            ┆ … ┆ 79.33             ┆ 33.2 ┆ Unknown        ┆ 0      │\n",
       "│ 4738  ┆ Male   ┆ 0.08 ┆ 0            ┆ … ┆ 72.01             ┆ 19.5 ┆ Unknown        ┆ 0      │\n",
       "│ …     ┆ …      ┆ …    ┆ …            ┆ … ┆ …                 ┆ …    ┆ …              ┆ …      │\n",
       "│ 14664 ┆ Male   ┆ 82.0 ┆ 1            ┆ … ┆ 144.9             ┆ 26.4 ┆ smokes         ┆ 1      │\n",
       "│ 14931 ┆ Male   ┆ 82.0 ┆ 0            ┆ … ┆ 74.09             ┆ 33.7 ┆ Unknown        ┆ 0      │\n",
       "│ 14965 ┆ Male   ┆ 82.0 ┆ 1            ┆ … ┆ 81.54             ┆ 28.4 ┆ never smoked   ┆ 0      │\n",
       "│ 15172 ┆ Female ┆ 82.0 ┆ 1            ┆ … ┆ 68.8              ┆ 26.8 ┆ smokes         ┆ 1      │\n",
       "└───────┴────────┴──────┴──────────────┴───┴───────────────────┴──────┴────────────────┴────────┘"
      ]
     },
     "execution_count": 25,
     "metadata": {},
     "output_type": "execute_result"
    }
   ],
   "source": [
    "# Sort by a single variable\n",
    "df.sort(['age'])"
   ]
  },
  {
   "cell_type": "code",
   "execution_count": 26,
   "id": "f5799f6c",
   "metadata": {},
   "outputs": [
    {
     "data": {
      "text/html": [
       "<div><style>\n",
       ".dataframe > thead > tr > th,\n",
       ".dataframe > tbody > tr > td {\n",
       "  text-align: right;\n",
       "  white-space: pre-wrap;\n",
       "}\n",
       "</style>\n",
       "<small>shape: (15_304, 12)</small><table border=\"1\" class=\"dataframe\"><thead><tr><th>id</th><th>gender</th><th>age</th><th>hypertension</th><th>heart_disease</th><th>ever_married</th><th>work_type</th><th>Residence_type</th><th>avg_glucose_level</th><th>bmi</th><th>smoking_status</th><th>stroke</th></tr><tr><td>i64</td><td>str</td><td>f64</td><td>i64</td><td>i64</td><td>str</td><td>str</td><td>str</td><td>f64</td><td>f64</td><td>str</td><td>i64</td></tr></thead><tbody><tr><td>3137</td><td>&quot;Male&quot;</td><td>0.08</td><td>0</td><td>0</td><td>&quot;No&quot;</td><td>&quot;children&quot;</td><td>&quot;Urban&quot;</td><td>75.93</td><td>14.8</td><td>&quot;Unknown&quot;</td><td>0</td></tr><tr><td>7278</td><td>&quot;Male&quot;</td><td>0.08</td><td>0</td><td>0</td><td>&quot;No&quot;</td><td>&quot;children&quot;</td><td>&quot;Urban&quot;</td><td>86.32</td><td>16.6</td><td>&quot;Unknown&quot;</td><td>0</td></tr><tr><td>3071</td><td>&quot;Male&quot;</td><td>0.08</td><td>0</td><td>0</td><td>&quot;No&quot;</td><td>&quot;children&quot;</td><td>&quot;Rural&quot;</td><td>73.33</td><td>17.4</td><td>&quot;Unknown&quot;</td><td>0</td></tr><tr><td>7579</td><td>&quot;Male&quot;</td><td>0.08</td><td>0</td><td>0</td><td>&quot;No&quot;</td><td>&quot;children&quot;</td><td>&quot;Rural&quot;</td><td>80.08</td><td>18.1</td><td>&quot;Unknown&quot;</td><td>0</td></tr><tr><td>4738</td><td>&quot;Male&quot;</td><td>0.08</td><td>0</td><td>0</td><td>&quot;No&quot;</td><td>&quot;children&quot;</td><td>&quot;Urban&quot;</td><td>72.01</td><td>19.5</td><td>&quot;Unknown&quot;</td><td>0</td></tr><tr><td>4155</td><td>&quot;Female&quot;</td><td>0.08</td><td>0</td><td>0</td><td>&quot;Yes&quot;</td><td>&quot;Private&quot;</td><td>&quot;Urban&quot;</td><td>79.33</td><td>33.2</td><td>&quot;Unknown&quot;</td><td>0</td></tr><tr><td>8058</td><td>&quot;Male&quot;</td><td>0.16</td><td>0</td><td>0</td><td>&quot;No&quot;</td><td>&quot;children&quot;</td><td>&quot;Urban&quot;</td><td>84.4</td><td>16.3</td><td>&quot;Unknown&quot;</td><td>0</td></tr><tr><td>11161</td><td>&quot;Female&quot;</td><td>0.16</td><td>0</td><td>0</td><td>&quot;No&quot;</td><td>&quot;children&quot;</td><td>&quot;Rural&quot;</td><td>108.63</td><td>16.3</td><td>&quot;Unknown&quot;</td><td>0</td></tr><tr><td>4000</td><td>&quot;Female&quot;</td><td>0.16</td><td>0</td><td>0</td><td>&quot;No&quot;</td><td>&quot;children&quot;</td><td>&quot;Urban&quot;</td><td>98.03</td><td>17.0</td><td>&quot;Unknown&quot;</td><td>0</td></tr><tr><td>6303</td><td>&quot;Male&quot;</td><td>0.16</td><td>0</td><td>0</td><td>&quot;No&quot;</td><td>&quot;children&quot;</td><td>&quot;Rural&quot;</td><td>90.42</td><td>17.4</td><td>&quot;Unknown&quot;</td><td>0</td></tr><tr><td>6936</td><td>&quot;Female&quot;</td><td>0.16</td><td>0</td><td>0</td><td>&quot;No&quot;</td><td>&quot;children&quot;</td><td>&quot;Urban&quot;</td><td>86.96</td><td>19.1</td><td>&quot;Unknown&quot;</td><td>0</td></tr><tr><td>422</td><td>&quot;Female&quot;</td><td>0.16</td><td>0</td><td>0</td><td>&quot;No&quot;</td><td>&quot;children&quot;</td><td>&quot;Rural&quot;</td><td>73.74</td><td>20.8</td><td>&quot;Unknown&quot;</td><td>0</td></tr><tr><td>&hellip;</td><td>&hellip;</td><td>&hellip;</td><td>&hellip;</td><td>&hellip;</td><td>&hellip;</td><td>&hellip;</td><td>&hellip;</td><td>&hellip;</td><td>&hellip;</td><td>&hellip;</td><td>&hellip;</td></tr><tr><td>8012</td><td>&quot;Male&quot;</td><td>82.0</td><td>0</td><td>0</td><td>&quot;Yes&quot;</td><td>&quot;Self-employed&quot;</td><td>&quot;Urban&quot;</td><td>96.62</td><td>32.4</td><td>&quot;formerly smoke…</td><td>0</td></tr><tr><td>13864</td><td>&quot;Male&quot;</td><td>82.0</td><td>0</td><td>0</td><td>&quot;Yes&quot;</td><td>&quot;Private&quot;</td><td>&quot;Rural&quot;</td><td>70.23</td><td>32.8</td><td>&quot;never smoked&quot;</td><td>1</td></tr><tr><td>14614</td><td>&quot;Male&quot;</td><td>82.0</td><td>1</td><td>1</td><td>&quot;Yes&quot;</td><td>&quot;Private&quot;</td><td>&quot;Urban&quot;</td><td>56.63</td><td>32.8</td><td>&quot;Unknown&quot;</td><td>0</td></tr><tr><td>955</td><td>&quot;Male&quot;</td><td>82.0</td><td>0</td><td>0</td><td>&quot;Yes&quot;</td><td>&quot;Private&quot;</td><td>&quot;Rural&quot;</td><td>57.56</td><td>33.1</td><td>&quot;formerly smoke…</td><td>1</td></tr><tr><td>57</td><td>&quot;Female&quot;</td><td>82.0</td><td>1</td><td>0</td><td>&quot;Yes&quot;</td><td>&quot;Private&quot;</td><td>&quot;Urban&quot;</td><td>73.19</td><td>33.5</td><td>&quot;never smoked&quot;</td><td>0</td></tr><tr><td>14931</td><td>&quot;Male&quot;</td><td>82.0</td><td>0</td><td>0</td><td>&quot;Yes&quot;</td><td>&quot;Private&quot;</td><td>&quot;Urban&quot;</td><td>74.09</td><td>33.7</td><td>&quot;Unknown&quot;</td><td>0</td></tr><tr><td>8986</td><td>&quot;Female&quot;</td><td>82.0</td><td>1</td><td>0</td><td>&quot;Yes&quot;</td><td>&quot;Self-employed&quot;</td><td>&quot;Urban&quot;</td><td>196.69</td><td>34.5</td><td>&quot;smokes&quot;</td><td>0</td></tr><tr><td>6922</td><td>&quot;Female&quot;</td><td>82.0</td><td>0</td><td>0</td><td>&quot;Yes&quot;</td><td>&quot;Private&quot;</td><td>&quot;Rural&quot;</td><td>97.26</td><td>35.3</td><td>&quot;never smoked&quot;</td><td>0</td></tr><tr><td>10268</td><td>&quot;Female&quot;</td><td>82.0</td><td>0</td><td>0</td><td>&quot;Yes&quot;</td><td>&quot;Self-employed&quot;</td><td>&quot;Urban&quot;</td><td>90.92</td><td>35.9</td><td>&quot;never smoked&quot;</td><td>0</td></tr><tr><td>2934</td><td>&quot;Female&quot;</td><td>82.0</td><td>0</td><td>0</td><td>&quot;Yes&quot;</td><td>&quot;Self-employed&quot;</td><td>&quot;Urban&quot;</td><td>228.7</td><td>37.2</td><td>&quot;formerly smoke…</td><td>0</td></tr><tr><td>11385</td><td>&quot;Male&quot;</td><td>82.0</td><td>0</td><td>0</td><td>&quot;Yes&quot;</td><td>&quot;Govt_job&quot;</td><td>&quot;Rural&quot;</td><td>90.41</td><td>39.1</td><td>&quot;formerly smoke…</td><td>1</td></tr><tr><td>1604</td><td>&quot;Female&quot;</td><td>82.0</td><td>0</td><td>0</td><td>&quot;Yes&quot;</td><td>&quot;Private&quot;</td><td>&quot;Urban&quot;</td><td>93.02</td><td>40.5</td><td>&quot;never smoked&quot;</td><td>1</td></tr></tbody></table></div>"
      ],
      "text/plain": [
       "shape: (15_304, 12)\n",
       "┌───────┬────────┬──────┬──────────────┬───┬───────────────────┬──────┬─────────────────┬────────┐\n",
       "│ id    ┆ gender ┆ age  ┆ hypertension ┆ … ┆ avg_glucose_level ┆ bmi  ┆ smoking_status  ┆ stroke │\n",
       "│ ---   ┆ ---    ┆ ---  ┆ ---          ┆   ┆ ---               ┆ ---  ┆ ---             ┆ ---    │\n",
       "│ i64   ┆ str    ┆ f64  ┆ i64          ┆   ┆ f64               ┆ f64  ┆ str             ┆ i64    │\n",
       "╞═══════╪════════╪══════╪══════════════╪═══╪═══════════════════╪══════╪═════════════════╪════════╡\n",
       "│ 3137  ┆ Male   ┆ 0.08 ┆ 0            ┆ … ┆ 75.93             ┆ 14.8 ┆ Unknown         ┆ 0      │\n",
       "│ 7278  ┆ Male   ┆ 0.08 ┆ 0            ┆ … ┆ 86.32             ┆ 16.6 ┆ Unknown         ┆ 0      │\n",
       "│ 3071  ┆ Male   ┆ 0.08 ┆ 0            ┆ … ┆ 73.33             ┆ 17.4 ┆ Unknown         ┆ 0      │\n",
       "│ 7579  ┆ Male   ┆ 0.08 ┆ 0            ┆ … ┆ 80.08             ┆ 18.1 ┆ Unknown         ┆ 0      │\n",
       "│ …     ┆ …      ┆ …    ┆ …            ┆ … ┆ …                 ┆ …    ┆ …               ┆ …      │\n",
       "│ 10268 ┆ Female ┆ 82.0 ┆ 0            ┆ … ┆ 90.92             ┆ 35.9 ┆ never smoked    ┆ 0      │\n",
       "│ 2934  ┆ Female ┆ 82.0 ┆ 0            ┆ … ┆ 228.7             ┆ 37.2 ┆ formerly smoked ┆ 0      │\n",
       "│ 11385 ┆ Male   ┆ 82.0 ┆ 0            ┆ … ┆ 90.41             ┆ 39.1 ┆ formerly smoked ┆ 1      │\n",
       "│ 1604  ┆ Female ┆ 82.0 ┆ 0            ┆ … ┆ 93.02             ┆ 40.5 ┆ never smoked    ┆ 1      │\n",
       "└───────┴────────┴──────┴──────────────┴───┴───────────────────┴──────┴─────────────────┴────────┘"
      ]
     },
     "execution_count": 26,
     "metadata": {},
     "output_type": "execute_result"
    }
   ],
   "source": [
    "# Sort by multiple variables (age then bmi)\n",
    "df.sort(['age', 'bmi'])"
   ]
  },
  {
   "cell_type": "code",
   "execution_count": 27,
   "id": "611f8cac",
   "metadata": {},
   "outputs": [
    {
     "data": {
      "text/html": [
       "<div><style>\n",
       ".dataframe > thead > tr > th,\n",
       ".dataframe > tbody > tr > td {\n",
       "  text-align: right;\n",
       "  white-space: pre-wrap;\n",
       "}\n",
       "</style>\n",
       "<small>shape: (5, 12)</small><table border=\"1\" class=\"dataframe\"><thead><tr><th>id</th><th>gender</th><th>age</th><th>hypertension</th><th>heart_disease</th><th>ever_married</th><th>work_type</th><th>Residence_type</th><th>avg_glucose_level</th><th>bmi</th><th>smoking_status</th><th>stroke</th></tr><tr><td>i64</td><td>str</td><td>f64</td><td>i64</td><td>i64</td><td>str</td><td>str</td><td>str</td><td>f64</td><td>f64</td><td>str</td><td>i64</td></tr></thead><tbody><tr><td>9436</td><td>&quot;Female&quot;</td><td>4.0</td><td>0</td><td>0</td><td>&quot;No&quot;</td><td>&quot;children&quot;</td><td>&quot;Urban&quot;</td><td>107.25</td><td>10.3</td><td>&quot;Unknown&quot;</td><td>0</td></tr><tr><td>1953</td><td>&quot;Female&quot;</td><td>1.24</td><td>0</td><td>0</td><td>&quot;No&quot;</td><td>&quot;children&quot;</td><td>&quot;Rural&quot;</td><td>113.4</td><td>10.3</td><td>&quot;Unknown&quot;</td><td>0</td></tr><tr><td>7779</td><td>&quot;Female&quot;</td><td>1.24</td><td>0</td><td>0</td><td>&quot;No&quot;</td><td>&quot;children&quot;</td><td>&quot;Urban&quot;</td><td>61.94</td><td>10.3</td><td>&quot;Unknown&quot;</td><td>0</td></tr><tr><td>10781</td><td>&quot;Male&quot;</td><td>57.0</td><td>0</td><td>0</td><td>&quot;Yes&quot;</td><td>&quot;Private&quot;</td><td>&quot;Rural&quot;</td><td>90.54</td><td>12.2</td><td>&quot;Unknown&quot;</td><td>0</td></tr><tr><td>5819</td><td>&quot;Male&quot;</td><td>1.64</td><td>0</td><td>0</td><td>&quot;No&quot;</td><td>&quot;children&quot;</td><td>&quot;Urban&quot;</td><td>56.21</td><td>12.3</td><td>&quot;Unknown&quot;</td><td>0</td></tr></tbody></table></div>"
      ],
      "text/plain": [
       "shape: (5, 12)\n",
       "┌───────┬────────┬──────┬──────────────┬───┬───────────────────┬──────┬────────────────┬────────┐\n",
       "│ id    ┆ gender ┆ age  ┆ hypertension ┆ … ┆ avg_glucose_level ┆ bmi  ┆ smoking_status ┆ stroke │\n",
       "│ ---   ┆ ---    ┆ ---  ┆ ---          ┆   ┆ ---               ┆ ---  ┆ ---            ┆ ---    │\n",
       "│ i64   ┆ str    ┆ f64  ┆ i64          ┆   ┆ f64               ┆ f64  ┆ str            ┆ i64    │\n",
       "╞═══════╪════════╪══════╪══════════════╪═══╪═══════════════════╪══════╪════════════════╪════════╡\n",
       "│ 9436  ┆ Female ┆ 4.0  ┆ 0            ┆ … ┆ 107.25            ┆ 10.3 ┆ Unknown        ┆ 0      │\n",
       "│ 1953  ┆ Female ┆ 1.24 ┆ 0            ┆ … ┆ 113.4             ┆ 10.3 ┆ Unknown        ┆ 0      │\n",
       "│ 7779  ┆ Female ┆ 1.24 ┆ 0            ┆ … ┆ 61.94             ┆ 10.3 ┆ Unknown        ┆ 0      │\n",
       "│ 10781 ┆ Male   ┆ 57.0 ┆ 0            ┆ … ┆ 90.54             ┆ 12.2 ┆ Unknown        ┆ 0      │\n",
       "│ 5819  ┆ Male   ┆ 1.64 ┆ 0            ┆ … ┆ 56.21             ┆ 12.3 ┆ Unknown        ┆ 0      │\n",
       "└───────┴────────┴──────┴──────────────┴───┴───────────────────┴──────┴────────────────┴────────┘"
      ]
     },
     "execution_count": 27,
     "metadata": {},
     "output_type": "execute_result"
    }
   ],
   "source": [
    "# Top 5 smallest BMIs\n",
    "df.bottom_k(5, by='bmi')"
   ]
  },
  {
   "cell_type": "code",
   "execution_count": 28,
   "id": "b20312cc",
   "metadata": {},
   "outputs": [
    {
     "data": {
      "text/html": [
       "<div><style>\n",
       ".dataframe > thead > tr > th,\n",
       ".dataframe > tbody > tr > td {\n",
       "  text-align: right;\n",
       "  white-space: pre-wrap;\n",
       "}\n",
       "</style>\n",
       "<small>shape: (5, 12)</small><table border=\"1\" class=\"dataframe\"><thead><tr><th>id</th><th>gender</th><th>age</th><th>hypertension</th><th>heart_disease</th><th>ever_married</th><th>work_type</th><th>Residence_type</th><th>avg_glucose_level</th><th>bmi</th><th>smoking_status</th><th>stroke</th></tr><tr><td>i64</td><td>str</td><td>f64</td><td>i64</td><td>i64</td><td>str</td><td>str</td><td>str</td><td>f64</td><td>f64</td><td>str</td><td>i64</td></tr></thead><tbody><tr><td>13864</td><td>&quot;Male&quot;</td><td>82.0</td><td>0</td><td>0</td><td>&quot;Yes&quot;</td><td>&quot;Private&quot;</td><td>&quot;Rural&quot;</td><td>70.23</td><td>32.8</td><td>&quot;never smoked&quot;</td><td>1</td></tr><tr><td>10525</td><td>&quot;Female&quot;</td><td>82.0</td><td>0</td><td>0</td><td>&quot;Yes&quot;</td><td>&quot;Self-employed&quot;</td><td>&quot;Rural&quot;</td><td>99.83</td><td>30.3</td><td>&quot;formerly smoke…</td><td>0</td></tr><tr><td>9402</td><td>&quot;Female&quot;</td><td>82.0</td><td>0</td><td>0</td><td>&quot;Yes&quot;</td><td>&quot;Self-employed&quot;</td><td>&quot;Urban&quot;</td><td>79.63</td><td>22.7</td><td>&quot;formerly smoke…</td><td>0</td></tr><tr><td>8174</td><td>&quot;Female&quot;</td><td>82.0</td><td>0</td><td>0</td><td>&quot;Yes&quot;</td><td>&quot;Private&quot;</td><td>&quot;Urban&quot;</td><td>88.06</td><td>19.5</td><td>&quot;never smoked&quot;</td><td>0</td></tr><tr><td>5927</td><td>&quot;Male&quot;</td><td>82.0</td><td>0</td><td>0</td><td>&quot;Yes&quot;</td><td>&quot;Self-employed&quot;</td><td>&quot;Urban&quot;</td><td>90.68</td><td>23.7</td><td>&quot;Unknown&quot;</td><td>0</td></tr></tbody></table></div>"
      ],
      "text/plain": [
       "shape: (5, 12)\n",
       "┌───────┬────────┬──────┬──────────────┬───┬───────────────────┬──────┬─────────────────┬────────┐\n",
       "│ id    ┆ gender ┆ age  ┆ hypertension ┆ … ┆ avg_glucose_level ┆ bmi  ┆ smoking_status  ┆ stroke │\n",
       "│ ---   ┆ ---    ┆ ---  ┆ ---          ┆   ┆ ---               ┆ ---  ┆ ---             ┆ ---    │\n",
       "│ i64   ┆ str    ┆ f64  ┆ i64          ┆   ┆ f64               ┆ f64  ┆ str             ┆ i64    │\n",
       "╞═══════╪════════╪══════╪══════════════╪═══╪═══════════════════╪══════╪═════════════════╪════════╡\n",
       "│ 13864 ┆ Male   ┆ 82.0 ┆ 0            ┆ … ┆ 70.23             ┆ 32.8 ┆ never smoked    ┆ 1      │\n",
       "│ 10525 ┆ Female ┆ 82.0 ┆ 0            ┆ … ┆ 99.83             ┆ 30.3 ┆ formerly smoked ┆ 0      │\n",
       "│ 9402  ┆ Female ┆ 82.0 ┆ 0            ┆ … ┆ 79.63             ┆ 22.7 ┆ formerly smoked ┆ 0      │\n",
       "│ 8174  ┆ Female ┆ 82.0 ┆ 0            ┆ … ┆ 88.06             ┆ 19.5 ┆ never smoked    ┆ 0      │\n",
       "│ 5927  ┆ Male   ┆ 82.0 ┆ 0            ┆ … ┆ 90.68             ┆ 23.7 ┆ Unknown         ┆ 0      │\n",
       "└───────┴────────┴──────┴──────────────┴───┴───────────────────┴──────┴─────────────────┴────────┘"
      ]
     },
     "execution_count": 28,
     "metadata": {},
     "output_type": "execute_result"
    }
   ],
   "source": [
    "# Top 5 oldest people\n",
    "df.top_k(5, by='age')"
   ]
  },
  {
   "cell_type": "markdown",
   "id": "627b5537",
   "metadata": {},
   "source": [
    "<div style=\"font-family:monospace; \n",
    "            border-radius:10px; \n",
    "            border:#f77f00 solid; \n",
    "            padding: 20px; \n",
    "            background-color: #caf0f8; \n",
    "            font-size:100%; \n",
    "            text-align: left\">\n",
    "\n",
    "<h3 align=\"left\"><font color='#000000'>Grouping and aggregating</font></h3>\n",
    "    \n",
    "Often times we are interested in finding statistics based on a specific group. To tell Polars which groupings and statistics we are interested in we can use the ```.group_by()``` and aggregate ```.agg()``` methods. The steps are usually group, aggregate, calculate by using ```.group_by(pl.col('colname')).agg( ..operations... )``` where ```pl.col('colname')``` tells Polars to group by the values in the specified column and ```..operations..``` indicates the statistical procedures we want to perform for each group.\n",
    "\n",
    "Consider the following tasks:\n",
    "1. Calculate the maximum age for each gender in the data\n",
    "2. Calculate the average bmi grouped by heart disease status"
   ]
  },
  {
   "cell_type": "code",
   "execution_count": null,
   "id": "198f5c76",
   "metadata": {},
   "outputs": [],
   "source": [
    "# Task 1: grouping by gender then calculating the maximum age\n",
    "df.group_by(pl.col('gender')).agg(pl.col('age').max())"
   ]
  },
  {
   "cell_type": "code",
   "execution_count": 30,
   "id": "b4424b92",
   "metadata": {},
   "outputs": [
    {
     "data": {
      "text/html": [
       "<div><style>\n",
       ".dataframe > thead > tr > th,\n",
       ".dataframe > tbody > tr > td {\n",
       "  text-align: right;\n",
       "  white-space: pre-wrap;\n",
       "}\n",
       "</style>\n",
       "<small>shape: (2, 2)</small><table border=\"1\" class=\"dataframe\"><thead><tr><th>heart_disease</th><th>mean bmi</th></tr><tr><td>i64</td><td>f64</td></tr></thead><tbody><tr><td>0</td><td>28.056017</td></tr><tr><td>1</td><td>30.486835</td></tr></tbody></table></div>"
      ],
      "text/plain": [
       "shape: (2, 2)\n",
       "┌───────────────┬───────────┐\n",
       "│ heart_disease ┆ mean bmi  │\n",
       "│ ---           ┆ ---       │\n",
       "│ i64           ┆ f64       │\n",
       "╞═══════════════╪═══════════╡\n",
       "│ 0             ┆ 28.056017 │\n",
       "│ 1             ┆ 30.486835 │\n",
       "└───────────────┴───────────┘"
      ]
     },
     "execution_count": 30,
     "metadata": {},
     "output_type": "execute_result"
    }
   ],
   "source": [
    "# Task 2: grouping by heart disease then calcualting the average bmi\n",
    "df.group_by(pl.col('heart_disease')).agg(pl.col('bmi').mean().alias('mean bmi'))"
   ]
  },
  {
   "cell_type": "markdown",
   "id": "1a83d597",
   "metadata": {},
   "source": [
    "<div style=\"font-family:monospace; \n",
    "            border-radius:10px; \n",
    "            border:#A8A8A8 solid; \n",
    "            padding: 15px; \n",
    "            background-color: #caf0f8; \n",
    "            font-size:100%; \n",
    "            text-align:left\">\n",
    "\n",
    "<h3 align=\"left\"><font color='#000000'>🖊 Extra Notes:</font></h3>\n",
    "\n",
    "* Note that Polars will automatically name the column after the aggregation as the column operated on. You can manually define the column name using ```.alias()```\n",
    "* You can do multiple calculations in one call to ```.agg()```. For example ```.agg(pl.col('age').max().alias('max age'), pl.col('age).min().alias('min age'))```. Note that when doing multiple operations within ```.agg()``` on the same column (like age) you must use alias to name the output columns\n",
    "* ```.filter()```, ```.select()```, ```.sort()```, and ```.group_by()``` can be combined in various ways to answer questions about the data\n",
    "* You can always chain multiple functions together such as ```df.filter().select().sort()``` "
   ]
  },
  {
   "cell_type": "markdown",
   "id": "02cb0dae",
   "metadata": {},
   "source": [
    "<div style=\"font-family:monospace; \n",
    "            border-radius:10px; \n",
    "            border:#f77f00 solid; \n",
    "            padding: 20px; \n",
    "            background-color: #caf0f8; \n",
    "            font-size:100%; \n",
    "            text-align: left\">\n",
    "\n",
    "<h3 align=\"left\"><font color='#000000'>Calculating summary statistics</font></h3>\n",
    "    \n",
    "We can combine some of the functions previously used to calculate summary statistics about the data. For a quick summary of all the values in the data we can use ```df.describe()```. For summary statistics about a specific column we can chain the ```.select()``` or ```get_column()``` functions with different statistical functions. Note that using ```.select()``` will return a data frame whereas ```.get_column()``` will return a numeric value. "
   ]
  },
  {
   "cell_type": "code",
   "execution_count": null,
   "id": "b959f149",
   "metadata": {},
   "outputs": [],
   "source": [
    "# Describe all the columns in the data\n",
    "df.describe()"
   ]
  },
  {
   "cell_type": "code",
   "execution_count": null,
   "id": "00e4fbd7",
   "metadata": {},
   "outputs": [],
   "source": [
    "# Get the average age\n",
    "df.select(['age']).mean() # Returns a data frame"
   ]
  },
  {
   "cell_type": "code",
   "execution_count": null,
   "id": "3c613388",
   "metadata": {},
   "outputs": [],
   "source": [
    "# Get the average age\n",
    "df.get_column('age').mean() # Returns a single value"
   ]
  },
  {
   "cell_type": "markdown",
   "id": "ff5905fd",
   "metadata": {},
   "source": [
    "<div style=\"font-family:monospace; \n",
    "            border-radius:10px; \n",
    "            border:#f77f00 solid; \n",
    "            padding: 20px; \n",
    "            background-color: #caf0f8; \n",
    "            font-size:100%; \n",
    "            text-align: left\">\n",
    "\n",
    "<h3 align=\"left\"><font color='#000000'>Creating new and editing existing columns</font></h3>\n",
    "    \n",
    "New columns can be created using the ```.with_columns()``` function, which can also be used to edit existing columns. The scope of what can be done using ```.with_columns()``` is vast, so we will simply consider a few examples.  \n",
    "\n",
    "Consider the following tasks:\n",
    "1. Create a new column ```example_col1```  contains ones\n",
    "2. Create a new column that is equal to 1 if BMI is >= 35 and 0 otherwise named ```overweight```\n",
    "3. Create a new column that is equal to 0 if BMI is < 25, 1 if BMI is in [25, 35], 2 if BMI is above 35, and missing otherwise named ```weight_categories``` \n",
    "                                                         \n",
    "**Note**:Programming operations often follow a logical pattern \"when **condition** is true, then do **this**, otherwise do **that**\". Polars encodes this logical flow using the functions ```pl.when().then().otherwise()```. This functionality allows us to create columns based on the values from other columns, which is often very useful when analyzing real world data.                                                         "
   ]
  },
  {
   "cell_type": "markdown",
   "id": "bbf8db23",
   "metadata": {},
   "source": [
    "<div style=\"font-family:monospace; \n",
    "            border-radius:10px; \n",
    "            border:#A8A8A8 solid; \n",
    "            padding: 15px; \n",
    "            background-color: #caf0f8; \n",
    "            font-size:100%; \n",
    "            text-align:left\">\n",
    "\n",
    "<h3 align=\"left\"><font color='#000000'>🖊 Extra Notes:</font></h3>\n",
    "    \n",
    "* ```pl.col('colname').is_between(low number, high number)``` can be used to get values of a column between two numbers. By default the method will be inclusive of the numbers provided. \n",
    "* and/or logic can be used to create new columns ```.with_columns(pl.when((condition 1) & (condition 2)).then(1).otherwise(0)```. Note that the conditions must be in parenthesis for both and logic ```() & ()``` as well as or logic ```() | ()``` (recall that ```|``` is used to represent \"or\" logically)  \n",
    "* We can chain when/then/otherwise statements using ```pl.when(condition 1).then().when(condition 2).then().otherwise()```. This can be done for as many conditions as desired.\n",
    "* ```pl.lit()``` will initialize a column of a single value, ie, ```pl.lit(0)``` will create a column of all zeros if used \n",
    "* At the end of a set of operations within ```with_columns()``` the name of a column is defined using ```.alias('name`)```. If the name already exists then the original column will be overwritten and when the name doesn't exist in the df already then a new column will be created."
   ]
  },
  {
   "cell_type": "code",
   "execution_count": null,
   "id": "c0964b0a",
   "metadata": {
    "scrolled": true
   },
   "outputs": [],
   "source": [
    "# Task 1 (the new column will be the rightmost column)\n",
    "df = df.with_columns(\n",
    "    pl.lit(1).alias('example_col1'),\n",
    ")\n",
    "\n",
    "df"
   ]
  },
  {
   "cell_type": "code",
   "execution_count": 29,
   "id": "57d5cc8c",
   "metadata": {},
   "outputs": [
    {
     "data": {
      "text/html": [
       "<div><style>\n",
       ".dataframe > thead > tr > th,\n",
       ".dataframe > tbody > tr > td {\n",
       "  text-align: right;\n",
       "  white-space: pre-wrap;\n",
       "}\n",
       "</style>\n",
       "<small>shape: (15_304, 13)</small><table border=\"1\" class=\"dataframe\"><thead><tr><th>id</th><th>gender</th><th>age</th><th>hypertension</th><th>heart_disease</th><th>ever_married</th><th>work_type</th><th>Residence_type</th><th>avg_glucose_level</th><th>bmi</th><th>smoking_status</th><th>stroke</th><th>overweight</th></tr><tr><td>i64</td><td>str</td><td>f64</td><td>i64</td><td>i64</td><td>str</td><td>str</td><td>str</td><td>f64</td><td>f64</td><td>str</td><td>i64</td><td>i32</td></tr></thead><tbody><tr><td>0</td><td>&quot;Male&quot;</td><td>28.0</td><td>0</td><td>0</td><td>&quot;Yes&quot;</td><td>&quot;Private&quot;</td><td>&quot;Urban&quot;</td><td>79.53</td><td>31.1</td><td>&quot;never smoked&quot;</td><td>0</td><td>0</td></tr><tr><td>1</td><td>&quot;Male&quot;</td><td>33.0</td><td>0</td><td>0</td><td>&quot;Yes&quot;</td><td>&quot;Private&quot;</td><td>&quot;Rural&quot;</td><td>78.44</td><td>23.9</td><td>&quot;formerly smoke…</td><td>0</td><td>0</td></tr><tr><td>2</td><td>&quot;Female&quot;</td><td>42.0</td><td>0</td><td>0</td><td>&quot;Yes&quot;</td><td>&quot;Private&quot;</td><td>&quot;Rural&quot;</td><td>103.0</td><td>40.3</td><td>&quot;Unknown&quot;</td><td>0</td><td>1</td></tr><tr><td>3</td><td>&quot;Male&quot;</td><td>56.0</td><td>0</td><td>0</td><td>&quot;Yes&quot;</td><td>&quot;Private&quot;</td><td>&quot;Urban&quot;</td><td>64.87</td><td>28.8</td><td>&quot;never smoked&quot;</td><td>0</td><td>0</td></tr><tr><td>4</td><td>&quot;Female&quot;</td><td>24.0</td><td>0</td><td>0</td><td>&quot;No&quot;</td><td>&quot;Private&quot;</td><td>&quot;Rural&quot;</td><td>73.36</td><td>28.8</td><td>&quot;never smoked&quot;</td><td>0</td><td>0</td></tr><tr><td>5</td><td>&quot;Female&quot;</td><td>34.0</td><td>0</td><td>0</td><td>&quot;Yes&quot;</td><td>&quot;Private&quot;</td><td>&quot;Urban&quot;</td><td>84.35</td><td>22.2</td><td>&quot;Unknown&quot;</td><td>0</td><td>0</td></tr><tr><td>6</td><td>&quot;Female&quot;</td><td>53.0</td><td>0</td><td>0</td><td>&quot;Yes&quot;</td><td>&quot;Private&quot;</td><td>&quot;Rural&quot;</td><td>88.97</td><td>25.3</td><td>&quot;never smoked&quot;</td><td>0</td><td>0</td></tr><tr><td>7</td><td>&quot;Male&quot;</td><td>78.0</td><td>0</td><td>1</td><td>&quot;Yes&quot;</td><td>&quot;Self-employed&quot;</td><td>&quot;Rural&quot;</td><td>75.32</td><td>24.8</td><td>&quot;Unknown&quot;</td><td>0</td><td>0</td></tr><tr><td>8</td><td>&quot;Female&quot;</td><td>45.0</td><td>0</td><td>0</td><td>&quot;Yes&quot;</td><td>&quot;Private&quot;</td><td>&quot;Rural&quot;</td><td>107.22</td><td>34.1</td><td>&quot;never smoked&quot;</td><td>0</td><td>0</td></tr><tr><td>9</td><td>&quot;Female&quot;</td><td>62.0</td><td>0</td><td>0</td><td>&quot;Yes&quot;</td><td>&quot;Govt_job&quot;</td><td>&quot;Urban&quot;</td><td>62.68</td><td>18.4</td><td>&quot;formerly smoke…</td><td>0</td><td>0</td></tr><tr><td>10</td><td>&quot;Male&quot;</td><td>51.0</td><td>0</td><td>0</td><td>&quot;Yes&quot;</td><td>&quot;Self-employed&quot;</td><td>&quot;Urban&quot;</td><td>114.89</td><td>20.1</td><td>&quot;never smoked&quot;</td><td>0</td><td>0</td></tr><tr><td>11</td><td>&quot;Female&quot;</td><td>45.0</td><td>0</td><td>0</td><td>&quot;Yes&quot;</td><td>&quot;Private&quot;</td><td>&quot;Urban&quot;</td><td>69.94</td><td>23.5</td><td>&quot;never smoked&quot;</td><td>0</td><td>0</td></tr><tr><td>&hellip;</td><td>&hellip;</td><td>&hellip;</td><td>&hellip;</td><td>&hellip;</td><td>&hellip;</td><td>&hellip;</td><td>&hellip;</td><td>&hellip;</td><td>&hellip;</td><td>&hellip;</td><td>&hellip;</td><td>&hellip;</td></tr><tr><td>15292</td><td>&quot;Female&quot;</td><td>0.32</td><td>0</td><td>0</td><td>&quot;No&quot;</td><td>&quot;children&quot;</td><td>&quot;Urban&quot;</td><td>89.04</td><td>17.8</td><td>&quot;Unknown&quot;</td><td>0</td><td>0</td></tr><tr><td>15293</td><td>&quot;Female&quot;</td><td>78.0</td><td>0</td><td>0</td><td>&quot;Yes&quot;</td><td>&quot;Private&quot;</td><td>&quot;Rural&quot;</td><td>203.36</td><td>28.7</td><td>&quot;formerly smoke…</td><td>0</td><td>0</td></tr><tr><td>15294</td><td>&quot;Male&quot;</td><td>79.0</td><td>0</td><td>0</td><td>&quot;Yes&quot;</td><td>&quot;Private&quot;</td><td>&quot;Rural&quot;</td><td>60.98</td><td>24.7</td><td>&quot;Unknown&quot;</td><td>1</td><td>0</td></tr><tr><td>15295</td><td>&quot;Male&quot;</td><td>12.0</td><td>0</td><td>0</td><td>&quot;No&quot;</td><td>&quot;children&quot;</td><td>&quot;Urban&quot;</td><td>69.78</td><td>14.3</td><td>&quot;never smoked&quot;</td><td>0</td><td>0</td></tr><tr><td>15296</td><td>&quot;Female&quot;</td><td>5.0</td><td>0</td><td>0</td><td>&quot;No&quot;</td><td>&quot;children&quot;</td><td>&quot;Urban&quot;</td><td>73.92</td><td>13.5</td><td>&quot;Unknown&quot;</td><td>0</td><td>0</td></tr><tr><td>15297</td><td>&quot;Female&quot;</td><td>32.0</td><td>0</td><td>0</td><td>&quot;No&quot;</td><td>&quot;Private&quot;</td><td>&quot;Urban&quot;</td><td>75.06</td><td>32.4</td><td>&quot;smokes&quot;</td><td>0</td><td>0</td></tr><tr><td>15298</td><td>&quot;Female&quot;</td><td>17.0</td><td>0</td><td>0</td><td>&quot;No&quot;</td><td>&quot;Private&quot;</td><td>&quot;Rural&quot;</td><td>77.65</td><td>24.8</td><td>&quot;smokes&quot;</td><td>0</td><td>0</td></tr><tr><td>15299</td><td>&quot;Female&quot;</td><td>22.0</td><td>0</td><td>0</td><td>&quot;No&quot;</td><td>&quot;Govt_job&quot;</td><td>&quot;Urban&quot;</td><td>72.63</td><td>19.5</td><td>&quot;never smoked&quot;</td><td>0</td><td>0</td></tr><tr><td>15300</td><td>&quot;Female&quot;</td><td>46.0</td><td>1</td><td>0</td><td>&quot;Yes&quot;</td><td>&quot;Private&quot;</td><td>&quot;Urban&quot;</td><td>101.19</td><td>32.1</td><td>&quot;never smoked&quot;</td><td>0</td><td>0</td></tr><tr><td>15301</td><td>&quot;Female&quot;</td><td>75.0</td><td>0</td><td>0</td><td>&quot;Yes&quot;</td><td>&quot;Self-employed&quot;</td><td>&quot;Urban&quot;</td><td>87.69</td><td>26.2</td><td>&quot;never smoked&quot;</td><td>0</td><td>0</td></tr><tr><td>15302</td><td>&quot;Male&quot;</td><td>46.0</td><td>0</td><td>0</td><td>&quot;Yes&quot;</td><td>&quot;Private&quot;</td><td>&quot;Rural&quot;</td><td>101.13</td><td>22.5</td><td>&quot;Unknown&quot;</td><td>0</td><td>0</td></tr><tr><td>15303</td><td>&quot;Female&quot;</td><td>14.0</td><td>0</td><td>0</td><td>&quot;No&quot;</td><td>&quot;Private&quot;</td><td>&quot;Rural&quot;</td><td>85.12</td><td>24.7</td><td>&quot;never smoked&quot;</td><td>0</td><td>0</td></tr></tbody></table></div>"
      ],
      "text/plain": [
       "shape: (15_304, 13)\n",
       "┌───────┬────────┬──────┬──────────────┬───┬──────┬─────────────────┬────────┬────────────┐\n",
       "│ id    ┆ gender ┆ age  ┆ hypertension ┆ … ┆ bmi  ┆ smoking_status  ┆ stroke ┆ overweight │\n",
       "│ ---   ┆ ---    ┆ ---  ┆ ---          ┆   ┆ ---  ┆ ---             ┆ ---    ┆ ---        │\n",
       "│ i64   ┆ str    ┆ f64  ┆ i64          ┆   ┆ f64  ┆ str             ┆ i64    ┆ i32        │\n",
       "╞═══════╪════════╪══════╪══════════════╪═══╪══════╪═════════════════╪════════╪════════════╡\n",
       "│ 0     ┆ Male   ┆ 28.0 ┆ 0            ┆ … ┆ 31.1 ┆ never smoked    ┆ 0      ┆ 0          │\n",
       "│ 1     ┆ Male   ┆ 33.0 ┆ 0            ┆ … ┆ 23.9 ┆ formerly smoked ┆ 0      ┆ 0          │\n",
       "│ 2     ┆ Female ┆ 42.0 ┆ 0            ┆ … ┆ 40.3 ┆ Unknown         ┆ 0      ┆ 1          │\n",
       "│ 3     ┆ Male   ┆ 56.0 ┆ 0            ┆ … ┆ 28.8 ┆ never smoked    ┆ 0      ┆ 0          │\n",
       "│ …     ┆ …      ┆ …    ┆ …            ┆ … ┆ …    ┆ …               ┆ …      ┆ …          │\n",
       "│ 15300 ┆ Female ┆ 46.0 ┆ 1            ┆ … ┆ 32.1 ┆ never smoked    ┆ 0      ┆ 0          │\n",
       "│ 15301 ┆ Female ┆ 75.0 ┆ 0            ┆ … ┆ 26.2 ┆ never smoked    ┆ 0      ┆ 0          │\n",
       "│ 15302 ┆ Male   ┆ 46.0 ┆ 0            ┆ … ┆ 22.5 ┆ Unknown         ┆ 0      ┆ 0          │\n",
       "│ 15303 ┆ Female ┆ 14.0 ┆ 0            ┆ … ┆ 24.7 ┆ never smoked    ┆ 0      ┆ 0          │\n",
       "└───────┴────────┴──────┴──────────────┴───┴──────┴─────────────────┴────────┴────────────┘"
      ]
     },
     "execution_count": 29,
     "metadata": {},
     "output_type": "execute_result"
    }
   ],
   "source": [
    "# Task 2: using when then otherwise (the new column will be the rightmost column)\n",
    "df = df.with_columns(\n",
    "    pl.when(pl.col('bmi') >= 35).then(1).otherwise(0).alias('overweight')\n",
    ")\n",
    "\n",
    "df"
   ]
  },
  {
   "cell_type": "code",
   "execution_count": null,
   "id": "b15113b1",
   "metadata": {},
   "outputs": [],
   "source": [
    "df = df.with_columns(\n",
    "    pl.when(\n",
    "        pl.col('bmi') < 25\n",
    "    ).then(0)\\\n",
    "    .when(\n",
    "        (pl.col('bmi') >= 25) & (pl.col('bmi') <= 35) # Alternatively you could use pl.col('bmi').is_between(25,35)\n",
    "    ).then(1)\\\n",
    "    .when(\n",
    "        pl.col('bmi') > 35\n",
    "    ).then(2)\\\n",
    "    .otherwise(None)\\\n",
    "    .alias('weight_categories')\n",
    ")\n",
    "\n",
    "df"
   ]
  },
  {
   "cell_type": "markdown",
   "id": "81c82359",
   "metadata": {},
   "source": [
    "<div style=\"font-family:monospace; \n",
    "            border-radius:10px; \n",
    "            border:#f77f00 solid; \n",
    "            padding: 20px; \n",
    "            background-color: #caf0f8; \n",
    "            font-size:100%; \n",
    "            text-align: left\">\n",
    "\n",
    "<h3 align=\"left\"><font color='#000000'>Concat (combining) two data frames</font></h3>\n",
    "\n",
    "Data frames often need to be combined. Two ways to join data sets are vertically by stacking them where the columns are the same in both data frames or horizontally where the data frames are joined based on a key, or unique identifier, in for each row.\n",
    "    \n",
    "Below are an example of each type of join using Polars using ```pl.concat([df1, df2, ...], how='vertical'/'align')```. When using ```how = 'align'``` Polars will combine the rows of two data frames by detecting a common column in both data frames, which it will use as a key. For SQL-style joins ```.join()``` can be used where the key column is explicitly defined in the function arguments, see [the documentation](https://pola-rs.github.io/polars/py-polars/html/reference/dataframe/api/polars.DataFrame.join.html) for more details. "
   ]
  },
  {
   "attachments": {
    "horizontal_join.png": {
     "image/png": "[encoded data removed]"
    }
   },
   "cell_type": "markdown",
   "id": "9258881b",
   "metadata": {},
   "source": [
    "**Horizontal Join:**\n",
    "![horizontal_join.png](attachment:horizontal_join.png)"
   ]
  },
  {
   "attachments": {
    "vertical_join.png": {
     "image/png": "[encoded data removed]"
    }
   },
   "cell_type": "markdown",
   "id": "bccf54e5",
   "metadata": {},
   "source": [
    "**Vertical Join:**\n",
    "![vertical_join.png](attachment:vertical_join.png)"
   ]
  },
  {
   "cell_type": "code",
   "execution_count": null,
   "id": "369040d6",
   "metadata": {},
   "outputs": [],
   "source": [
    "# Data frames to join horizontally\n",
    "df1 = df.select(['id', 'age', 'gender'])\n",
    "df2 = df.select(['id', 'work_type', 'stroke'])\n",
    "\n",
    "df_hjoin = pl.concat([df1, df2], how = 'align')\n",
    "\n",
    "print(df1.head())\n",
    "print(df2.head())\n",
    "\n",
    "print('-------- Horizontally Joined Data Frame --------')\n",
    "print(df_hjoin.head())"
   ]
  },
  {
   "cell_type": "code",
   "execution_count": null,
   "id": "f580d8ee",
   "metadata": {},
   "outputs": [],
   "source": [
    "# Data frames to join vertically\n",
    "df3 = df.take_every(3).select(['age', 'gender', 'stroke']).head(2)\n",
    "df4 = df.take_every(10).select(['age', 'gender', 'stroke']).head(2)\n",
    "\n",
    "df_vjoin = pl.concat([df3, df4], how='vertical')\n",
    "\n",
    "print(df3)\n",
    "print(df4)\n",
    "\n",
    "print('-------- Vertically Joined Data Frame --------')\n",
    "print(df_vjoin)"
   ]
  },
  {
   "cell_type": "markdown",
   "id": "5d684fc2",
   "metadata": {},
   "source": [
    "<div style=\"font-family:monospace; \n",
    "            border-radius:10px; \n",
    "            border:#A8A8A8 solid; \n",
    "            padding: 15px; \n",
    "            background-color: #caf0f8; \n",
    "            font-size:100%; \n",
    "            text-align:left\">\n",
    "\n",
    "<h3 align=\"left\"><font color='#000000'>🖊 Extra Notes:</font></h3>\n",
    "    \n",
    "* Unlike Pandas, Polars is **very** strict about data types when joining data frames, which is part of the reason why Polars is fast. For example, if you have two data frames each with a column called ```age``` and you vertically stack them, if the ```dtype``` for ```age``` in one data frame is an integer an the other is a float then Polars will return an error. \n",
    "* To change the ```dtype``` of a column it must be \"cast\" to another type. Casting can be done within the ```.with_columns()``` or ```.select()``` methods mentioned earlier.\n",
    "* Example: ```df.with_columns(pl.col('age').cast(pl.Float32).alias('age'))``` will cast the column ```age``` to a float32 ```dtype```. "
   ]
  },
  {
   "cell_type": "markdown",
   "id": "e35baccf",
   "metadata": {},
   "source": [
    "<a id=\"section-four\"></a>\n",
    "<p style=\"font-family: monospace; \n",
    "          font-weight: bold; \n",
    "          letter-spacing: 1px; \n",
    "          color: black; \n",
    "          font-size: 200%; \n",
    "          text-align: left;\n",
    "          padding: 8px; \n",
    "          border-bottom: 3px solid #4cc9f0\" > (4) Converting Polars data frames to Numpy arrays </p>\n",
    "          \n",
    "Sometimes Polars data frames need to be converted into different objects. For example, many machine learning libraries require numpy arrays as inputs into machine learning algorithms. The most useful function to know is ```to_numpy()``` which will convert a Polars series or data frame into a numpy array.  "
   ]
  },
  {
   "cell_type": "code",
   "execution_count": null,
   "id": "9f7cb2fe",
   "metadata": {},
   "outputs": [],
   "source": [
    "df.select(['age', 'bmi', 'hypertension']).to_numpy()"
   ]
  },
  {
   "cell_type": "markdown",
   "id": "b1cea6bc",
   "metadata": {},
   "source": [
    "<a id=\"section-five\"></a>\n",
    "<p style=\"font-family: monospace; \n",
    "          font-weight: bold; \n",
    "          letter-spacing: 1px; \n",
    "          color: black; \n",
    "          font-size: 200%; \n",
    "          text-align: left;\n",
    "          padding: 8px; \n",
    "          border-bottom: 3px solid #4cc9f0\" > (5) Extras </p> \n",
    "\n",
    "1. Polars is a new library and has only been in development for a few years. As such, many large language models and code assistants (GPT-4, ChatGPT, Llama, CoPilot, etc) are not very good at returning correct or well-written Polars code. Use such tools cautiously when writing Polars code. \n",
    "\n",
    "\n",
    "2. When reading in data as a Polars data frame, for example by using ```pl.read_csv()``` you can specify the ```dtype``` of each column as an argument to the function as well as which encodings should be considered missing.\n",
    "\n",
    "\n",
    "3. Polars uses the ```null``` type to indicate missingness. Polars has a variety of ways to deal with missing values that can be found in [the documentation](https://pola-rs.github.io/polars-book/user-guide/expressions/null/). To find the number of missing values in each column the ```df.null_count()``` method can be used. "
   ]
  },
  {
   "cell_type": "markdown",
   "id": "4cdf10c6",
   "metadata": {},
   "source": [
    "<a id=\"section-six\"></a>\n",
    "<p style=\"font-family: monospace; \n",
    "          font-weight: bold; \n",
    "          letter-spacing: 1px; \n",
    "          color: black; \n",
    "          font-size: 200%; \n",
    "          text-align: left;\n",
    "          padding: 8px; \n",
    "          border-bottom: 3px solid #4cc9f0\" > (6) Useful Links </p>\n",
    "          \n",
    "1. [Polars documentation](https://pola-rs.github.io/polars/py-polars/html/reference/)"
   ]
  }
 ],
 "metadata": {
  "kernelspec": {
   "display_name": "Python 3 (ipykernel)",
   "language": "python",
   "name": "python3"
  },
  "language_info": {
   "codemirror_mode": {
    "name": "ipython",
    "version": 3
   },
   "file_extension": ".py",
   "mimetype": "text/x-python",
   "name": "python",
   "nbconvert_exporter": "python",
   "pygments_lexer": "ipython3",
   "version": "3.11.5"
  }
 },
 "nbformat": 4,
 "nbformat_minor": 5
}

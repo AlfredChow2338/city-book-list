{
 "cells": [
  {
   "cell_type": "markdown",
   "id": "eae1f2dc",
   "metadata": {},
   "source": [
    "<div style=\"font-family:monospace; \n",
    "            border-radius:10px; \n",
    "            border:#f77f00 solid; \n",
    "            padding: 20px; \n",
    "            background-color: #caf0f8; \n",
    "            font-size:100%; \n",
    "            text-align: right\">\n",
    "\n",
    "<h1 align=\"left\"><font color='#000000'>SDSC2001 Tutorial 4: Lists, Numpy, Lambda Functions</font></h1>\n",
    "\n",
    "TA: Collin Sakal"
   ]
  },
  {
   "cell_type": "code",
   "execution_count": null,
   "id": "51b62ced",
   "metadata": {},
   "outputs": [],
   "source": [
    "# import numpy\n",
    "import numpy as np"
   ]
  },
  {
   "cell_type": "markdown",
   "id": "bf480666",
   "metadata": {},
   "source": [
    "<div style=\"font-family:monospace; \n",
    "            border-radius:10px; \n",
    "            border:#f77f00 solid; \n",
    "            padding: 20px; \n",
    "            background-color: #caf0f8; \n",
    "            font-size:100%; \n",
    "            text-align: right\">\n",
    "\n",
    "<h2 align=\"left\"><font color='#000000'>Tutorial Overview</font></h2>\n",
    "\n",
    "In this tutorial we will generate data for a pretend class of students and analyze the data using list comprehension techniques and numpy functions. Lastly, we will review and implement lambda functions."
   ]
  },
  {
   "cell_type": "markdown",
   "id": "93174ccc",
   "metadata": {},
   "source": [
    "<p style=\"font-family: monospace; \n",
    "          font-weight: bold; \n",
    "          letter-spacing: 0px; \n",
    "          color: black; \n",
    "          font-size: 150%; \n",
    "          text-align: left;\n",
    "          padding: 8px; \n",
    "          border-bottom: 3px solid #4cc9f0\" >Reference Table</p>\n",
    "          \n",
    "If you get stuck on any of the problems in this tutorial please reference the table below. **Note that if you use for-loops make sure the indentation is correct.**"
   ]
  },
  {
   "cell_type": "markdown",
   "id": "47ff09e6",
   "metadata": {},
   "source": [
    "| Task | Example Code | Notes |\n",
    "| :--- | :--- | :--- | \n",
    "| Creating lists | ```example_list = [1,2,3,4]```||\n",
    "| Appending lists |```example_list.append(5)```| Will append the list to include the number 5|\n",
    "| Iterating over a list |```for i in example_list:```<br> ```    print(i)```| Will print each element in the list|\n",
    "| List comprehension |```[x+1 for x in example_list]```| Will create a new list adding <br> 1 to each element of example_list|\n",
    "| Creating arrays |```example_array = np.array([3,4,6,2,6,7])```||\n",
    "| Sorting an array |```example_array.sort()```|By default sorts from smallest <br> to largest|\n",
    "| Slicing an array |```example_array[example_array > 4]```|Get values >4|\n",
    "| Mathematical operations |```example_array.max()```<br><br>```example_array.min()``` <br><br>```example_array.mean()``` <br><br> ```example_array.std()``` <br><br> ```example_array**2```|Maximum <br><br> Minimum <br><br> Mean (average) <br><br> Standard deviation <br><br>Square|\n",
    "| Slice then do math |```example_array[example_array > 3].mean()```| Get values >3 then take the mean|\n",
    "| Number generator |```np.random.normal(loc = 0, scale = 1, size = 10)```|Mean (loc) = 0 <br> Standard deviation (scale) = 1 <br> Number of values (size) = 10|\n",
    "Lambda function |```example_lambda = lambda x: x + 10```|Adds 10 to an input x|"
   ]
  },
  {
   "cell_type": "markdown",
   "id": "930e7778",
   "metadata": {},
   "source": [
    "<div style=\"font-family:monospace; \n",
    "            border-radius:10px; \n",
    "            border:#A8A8A8 solid; \n",
    "            padding: 5px; \n",
    "            background-color: #caf0f8; \n",
    "            font-size:100%; \n",
    "            text-align:left\">\n",
    "\n",
    "<h3 align=\"left\"><font color='#000000'> (1) A List Problem</font></h3>\n",
    "    \n",
    "* Consider a list called \"TA_names\" that contains the names of Teaching Assistants for the class. Suppose a new TA, Jocelyn, joins the class. Add (append) her name to the list of TAs"
   ]
  },
  {
   "cell_type": "code",
   "execution_count": null,
   "id": "bd601dab",
   "metadata": {},
   "outputs": [],
   "source": [
    "TA_names = [\"Collin\", \"Wei\", \"Cheng\", \"Tong\", \"Muhammad\", \"Katya\", \"Isabella\"]\n",
    "\n",
    "# Write your code below\n",
    "TA_names.append(\"Jocelyn\")\n",
    "print(TA_names)"
   ]
  },
  {
   "cell_type": "markdown",
   "id": "84447e64",
   "metadata": {},
   "source": [
    "<div style=\"font-family:monospace; \n",
    "            border-radius:10px; \n",
    "            border:#A8A8A8 solid; \n",
    "            padding: 5px; \n",
    "            background-color: #caf0f8; \n",
    "            font-size:100%; \n",
    "            text-align:left\">\n",
    "\n",
    "<h3 align=\"left\"><font color='#000000'> (2) A Harder List Problem</font></h3>\n",
    "    \n",
    "* Suppose we want to create a list ```a_names``` that contains all of the TAs who have the letter \"a\" in their name. Write code that creates such a list using a for loop or list comphrension <br>\n",
    "\n",
    "    \n",
    "    **HINT:** If you use a for-loop you may want to consider the append function to add new names to the empty list"
   ]
  },
  {
   "cell_type": "code",
   "execution_count": null,
   "id": "9e72a1c4",
   "metadata": {},
   "outputs": [],
   "source": [
    "a_names = []\n",
    "\n",
    "# Write your code below\n",
    "\n",
    "# For loop method\n",
    "for name in TA_names:\n",
    "    if 'a' in name:\n",
    "        a_names.append(name)\n",
    "        \n",
    "print(a_names)\n",
    "\n",
    "# List comprehension method\n",
    "a_names = [name for name in TA_names if 'a' in name]\n",
    "\n",
    "print(a_names)"
   ]
  },
  {
   "cell_type": "markdown",
   "id": "5e27d2f2",
   "metadata": {},
   "source": [
    "<div style=\"font-family:monospace; \n",
    "            border-radius:10px; \n",
    "            border:#A8A8A8 solid; \n",
    "            padding: 5px; \n",
    "            background-color: #caf0f8; \n",
    "            font-size:100%; \n",
    "            text-align:left\">\n",
    "\n",
    "<h3 align=\"left\"><font color='#000000'> (3) Generating Random Numbers </font></h3>\n",
    "    \n",
    "* Say we want to generate information about the heights of students in the class. Assume there are 100 students in the class. Generate a numpy array called ```heights``` from a normal distribution with mean 170 (cm) and standard deviation 12. Print the array. \n",
    "<br>\n",
    "\n",
    "* **HINT:** in the relevant numpy function the following arguments will be needed:\n",
    "    * ```loc``` = mean\n",
    "    * ```scale``` = standard deviation\n",
    "    * ```size``` = amount of numbers to generate"
   ]
  },
  {
   "cell_type": "code",
   "execution_count": null,
   "id": "83ac4513",
   "metadata": {},
   "outputs": [],
   "source": [
    "# Random seed so we all get the same answers\n",
    "np.random.seed(19970507)\n",
    "\n",
    "# Write your code below\n",
    "heights = np.random.normal(loc = 170, scale = 12, size = 100)\n",
    "print(heights)"
   ]
  },
  {
   "cell_type": "markdown",
   "id": "783d78d3",
   "metadata": {},
   "source": [
    "\n",
    "\n",
    "<div style=\"font-family:monospace; \n",
    "            border-radius:10px; \n",
    "            border:#A8A8A8 solid; \n",
    "            padding: 5px; \n",
    "            background-color: #caf0f8; \n",
    "            font-size:100%; \n",
    "            text-align:left\">\n",
    "\n",
    "<h3 align=\"left\"><font color='#000000'> (4) Sorting </font></h3>\n",
    "    \n",
    "* Sort the heights array and print it again, what are the heights of the shortest and tallest students in the class?"
   ]
  },
  {
   "cell_type": "code",
   "execution_count": null,
   "id": "49b2d974",
   "metadata": {
    "scrolled": true
   },
   "outputs": [],
   "source": [
    "# Write your code below\n",
    "heights.sort()\n",
    "print(heights)\n",
    "\n",
    "# Shortest = 147.1\n",
    "# Tallest = 199.9"
   ]
  },
  {
   "cell_type": "markdown",
   "id": "2cf337f6",
   "metadata": {},
   "source": [
    "<div style=\"font-family:monospace; \n",
    "            border-radius:10px; \n",
    "            border:#A8A8A8 solid; \n",
    "            padding: 5px; \n",
    "            background-color: #caf0f8; \n",
    "            font-size:100%; \n",
    "            text-align:left\">\n",
    "\n",
    "<h3 align=\"left\"><font color='#000000'> (5) Mathematical Functions and Arrays  </font></h3>\n",
    "\n",
    "* Write code that returns the heights of the shortest and tallest students in the class WITHOUT sorting or printing the entire array\n",
    "* **HINT:** the tallest person will have the **MAXIMUM** height in the array and the shortest person will have the **MINIMUM** height "
   ]
  },
  {
   "cell_type": "code",
   "execution_count": null,
   "id": "78d80265",
   "metadata": {
    "scrolled": false
   },
   "outputs": [],
   "source": [
    "# Write your code below\n",
    "print(f\"The tallest person in the class has a height of {heights.max()} centimeters\")\n",
    "print(f\"The shortest person in the class has a height of {heights.min()} cenitmeters\")"
   ]
  },
  {
   "cell_type": "markdown",
   "id": "9ecdc04a",
   "metadata": {},
   "source": [
    "<div style=\"font-family:monospace; \n",
    "            border-radius:10px; \n",
    "            border:#A8A8A8 solid; \n",
    "            padding: 5px; \n",
    "            background-color: #caf0f8; \n",
    "            font-size:100%; \n",
    "            text-align:left\">\n",
    "\n",
    "<h3 align=\"left\"><font color='#000000'> (6) More Math and Arrays</font></h3>\n",
    "\n",
    "* What is the average height of students in the class?"
   ]
  },
  {
   "cell_type": "code",
   "execution_count": null,
   "id": "0786bdbe",
   "metadata": {},
   "outputs": [],
   "source": [
    "# Write your code below\n",
    "print(f\"The average height of students in the class is: {heights.mean()} centimeters\")"
   ]
  },
  {
   "cell_type": "markdown",
   "id": "4e96345b",
   "metadata": {},
   "source": [
    "<div style=\"font-family:monospace; \n",
    "            border-radius:10px; \n",
    "            border:#A8A8A8 solid; \n",
    "            padding: 5px; \n",
    "            background-color: #caf0f8; \n",
    "            font-size:100%; \n",
    "            text-align:left\">\n",
    "\n",
    "<h3 align=\"left\"><font color='#000000'> (7) Even More Math and Arrays </font></h3>\n",
    "\n",
    "* Create an array called \"heights_m\" that contains the heights of everyone in the class in meters. Print the average of the new array.\n",
    "\n",
    "* **HINT**: To get height in meters, divide height in cm by 100"
   ]
  },
  {
   "cell_type": "code",
   "execution_count": null,
   "id": "817c2072",
   "metadata": {
    "scrolled": true
   },
   "outputs": [],
   "source": [
    "# Write your code below\n",
    "heights_m = heights/100\n",
    "print(f\"The average height of the class in meters is: {heights_m.mean()} meters\")"
   ]
  },
  {
   "cell_type": "markdown",
   "id": "8d2cb87a",
   "metadata": {},
   "source": [
    "<div style=\"font-family:monospace; \n",
    "            border-radius:10px; \n",
    "            border:#A8A8A8 solid; \n",
    "            padding: 5px; \n",
    "            background-color: #caf0f8; \n",
    "            font-size:100%; \n",
    "            text-align:left\">\n",
    "\n",
    "<h3 align=\"left\"><font color='#000000'> (8) Slicing </font></h3>\n",
    "\n",
    "* Lets generate the weights (unit of measurement: kilograms, kg) for the students in the class from a normal distribution with mean 70kg and standard deviation 5kg.\n",
    "\n",
    "* Write code that returns the weights of students who weigh more than 65kg\n",
    "\n",
    "* **HINT:** You need to SLICE the array "
   ]
  },
  {
   "cell_type": "code",
   "execution_count": null,
   "id": "c5f71883",
   "metadata": {},
   "outputs": [],
   "source": [
    "# Random seed so we all get the same answers\n",
    "np.random.seed(19970507)\n",
    "\n",
    "# Generating weights\n",
    "weights = np.random.normal(loc = 70, scale = 5, size = 100)\n",
    "\n",
    "# Write your code below\n",
    "weights[weights > 65]"
   ]
  },
  {
   "cell_type": "markdown",
   "id": "ba4817c8",
   "metadata": {},
   "source": [
    "<div style=\"font-family:monospace; \n",
    "            border-radius:10px; \n",
    "            border:#A8A8A8 solid; \n",
    "            padding: 5px; \n",
    "            background-color: #caf0f8; \n",
    "            font-size:100%; \n",
    "            text-align:left\">\n",
    "\n",
    "<h3 align=\"left\"><font color='#000000'> (9) Combining Slicing and Math Operations </font></h3>\n",
    "\n",
    "* What is the average weight of students who weigh more than 65kg?\n",
    "\n",
    "* **HINT:** you can use .mean() after you slice an array\n"
   ]
  },
  {
   "cell_type": "code",
   "execution_count": null,
   "id": "a0028dd5",
   "metadata": {
    "scrolled": true
   },
   "outputs": [],
   "source": [
    "# Write your code below\n",
    "print(f\"The average weight of students who weigh more than 80kg is: {weights[weights>65].mean()} kg\")"
   ]
  },
  {
   "cell_type": "markdown",
   "id": "35b63cb9",
   "metadata": {},
   "source": [
    "<div style=\"font-family:monospace; \n",
    "            border-radius:10px; \n",
    "            border:#A8A8A8 solid; \n",
    "            padding: 5px; \n",
    "            background-color: #caf0f8; \n",
    "            font-size:100%; \n",
    "            text-align:left\">\n",
    "\n",
    "<h3 align=\"left\"><font color='#000000'> (10) A Real World Problem </font></h3>\n",
    "\n",
    "* Body Mass Index (BMI) is an estimate of the amount of body fat a person has. The formula for BMI is ```BMI = weight / height^2``` such that weight is measured in kg and height in meters. Please write a few lines of code that does the following:\n",
    "\n",
    "  1. Creates an array called ```BMI``` that contains the BMI of everyone in the class.\n",
    "  2. Prints the average, maximum, minimum, and standard deviation of the BMIs in the class.\n",
    "\n",
    "**HINT:** Remember to use heights_m (which contains heights in meters). Recall that we have already defined ```weights``` earlier so you can use it directly in your code below."
   ]
  },
  {
   "cell_type": "code",
   "execution_count": null,
   "id": "3ba08f6f",
   "metadata": {},
   "outputs": [],
   "source": [
    "# Write your code below\n",
    "BMI = weights/heights_m**2\n",
    "\n",
    "print(f\"The average BMI in the class is: {BMI.mean()}\")\n",
    "print(f\"The minimum BMI in the class is: {BMI.min()}\")\n",
    "print(f\"The maximum BMI in the class is: {BMI.max()}\")\n",
    "print(f\"The standard deviation of the BMIs in the class is {BMI.std()}\")"
   ]
  },
  {
   "cell_type": "markdown",
   "id": "45310eb5",
   "metadata": {},
   "source": [
    "<div\n",
    "     style=\"font-family:monospace; \n",
    "            font-weight: bold; \n",
    "            border-radius:10px; \n",
    "            border:#f77f00 solid; \n",
    "            padding: 40px; \n",
    "            background-color: #caf0f8; \n",
    "            font-size:200%; \n",
    "            text-align:left\">\n",
    "    \n",
    "Review of Lambda functions\n",
    "</div>"
   ]
  },
  {
   "cell_type": "markdown",
   "id": "9e524d30",
   "metadata": {},
   "source": [
    "We've previously seen how to create functions such as the one below:"
   ]
  },
  {
   "cell_type": "code",
   "execution_count": null,
   "id": "829645f0",
   "metadata": {},
   "outputs": [],
   "source": [
    "def add_five(x):\n",
    "    \"\"\"\n",
    "    This functions adds 5 to the input number x\n",
    "    \"\"\"\n",
    "    result = x + 5\n",
    "    return result"
   ]
  },
  {
   "cell_type": "markdown",
   "id": "aa1b6e90",
   "metadata": {},
   "source": [
    "But we can also define functions using lambda in a more concise way"
   ]
  },
  {
   "cell_type": "code",
   "execution_count": null,
   "id": "4b1b90ee",
   "metadata": {},
   "outputs": [],
   "source": [
    "add_five_lambda = lambda x: x + 5"
   ]
  },
  {
   "cell_type": "markdown",
   "id": "d7485cf3",
   "metadata": {},
   "source": [
    " Note that both of these functions will return the same result"
   ]
  },
  {
   "cell_type": "code",
   "execution_count": null,
   "id": "acc3d9d0",
   "metadata": {
    "scrolled": true
   },
   "outputs": [],
   "source": [
    "print(add_five(9))\n",
    "print(add_five_lambda(9))"
   ]
  },
  {
   "cell_type": "markdown",
   "id": "14589c66",
   "metadata": {},
   "source": [
    "Lambda functions can also take multiple arguments. For example, consider a function that calculates the sum of two inputs"
   ]
  },
  {
   "cell_type": "code",
   "execution_count": null,
   "id": "f70b20d2",
   "metadata": {},
   "outputs": [],
   "source": [
    "sum_lambda = lambda x, y: x + y\n",
    "\n",
    "sum_lambda(10, 6)"
   ]
  },
  {
   "cell_type": "markdown",
   "id": "ad313e36",
   "metadata": {},
   "source": [
    "<div style=\"font-family:monospace; \n",
    "            border-radius:10px; \n",
    "            border:#A8A8A8 solid; \n",
    "            padding: 5px; \n",
    "            background-color: #caf0f8; \n",
    "            font-size:100%; \n",
    "            text-align:left\">\n",
    "\n",
    "<h3 align=\"left\"><font color='#000000'> (11) Lambda Functions</font></h3>\n",
    "\n",
    "* Below is a function ```bmi_calculator()``` that takes a person's height (in meters) and weight (in kg) and returns their BMI using the standard function form. Recall that BMI = weight/height^2.\n",
    "    \n",
    "* Re-create ```bmi_calculator()``` using lambda. Test the function using inputs of 77 for weight and 1.83 for height"
   ]
  },
  {
   "cell_type": "code",
   "execution_count": null,
   "id": "f81e4255",
   "metadata": {},
   "outputs": [],
   "source": [
    "def bmi_calculator(weight, height):\n",
    "    \"\"\"\n",
    "    This function returns a person's BMI given their weight (in kg) and height (in meters)\n",
    "    \"\"\"\n",
    "    \n",
    "    bmi = weight/height**2\n",
    "    return bmi\n",
    "\n",
    "bmi_calculator(weight = 77, height = 1.83) # bmi_calculator(77, 1.83) works as well"
   ]
  },
  {
   "cell_type": "code",
   "execution_count": null,
   "id": "e0b65d3a",
   "metadata": {},
   "outputs": [],
   "source": [
    "# Write your code below\n",
    "bmi_calculator_lambda = lambda weight, height: weight/height**2\n",
    "\n",
    "bmi_calculator_lambda(weight = 77, height = 1.83) # bmi_calculator_lambda(77, 1.83) works as well"
   ]
  }
 ],
 "metadata": {
  "kernelspec": {
   "display_name": "Python 3 (ipykernel)",
   "language": "python",
   "name": "python3"
  },
  "language_info": {
   "codemirror_mode": {
    "name": "ipython",
    "version": 3
   },
   "file_extension": ".py",
   "mimetype": "text/x-python",
   "name": "python",
   "nbconvert_exporter": "python",
   "pygments_lexer": "ipython3",
   "version": "3.11.4"
  }
 },
 "nbformat": 4,
 "nbformat_minor": 5
}

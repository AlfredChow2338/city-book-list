{
 "cells": [
  {
   "cell_type": "markdown",
   "metadata": {
    "id": "L5ys2TFaGyez"
   },
   "source": [
    "## Bar Charts"
   ]
  },
  {
   "cell_type": "code",
   "execution_count": null,
   "metadata": {
    "id": "QnSbJJwJGye0"
   },
   "outputs": [],
   "source": [
    "%matplotlib inline\n",
    "import matplotlib as mpl\n",
    "import matplotlib.pyplot as plt\n",
    "import numpy as np\n",
    "data1 = np.arange(1,11)\n",
    "data2 = data1 ** 2\n",
    "data2"
   ]
  },
  {
   "cell_type": "code",
   "execution_count": null,
   "metadata": {
    "colab": {
     "base_uri": "https://localhost:8080/",
     "height": 295
    },
    "id": "K7rOOpPiGye3",
    "outputId": "3da00b93-d612-44c8-8afa-3a5fe9ff9296"
   },
   "outputs": [],
   "source": [
    "plt.figure()\n",
    "xvals = range(len(data1))\n",
    "plt.bar(xvals, data1, width = 0.3)\n",
    "#plt.bar(xvals, data1, width = 1.0)\n",
    "\n",
    "# Add title and axis names\n",
    "plt.title('bar chart of XX')\n",
    "plt.xlabel('XX')\n",
    "plt.ylabel('Count');"
   ]
  },
  {
   "cell_type": "code",
   "execution_count": null,
   "metadata": {
    "colab": {
     "base_uri": "https://localhost:8080/",
     "height": 282
    },
    "id": "B4JXDFTxGye5",
    "outputId": "780ca883-840c-4087-8443-7d6d5d46b7c8"
   },
   "outputs": [],
   "source": [
    "plt.figure()\n",
    "xvals = range(len(data1))\n",
    "plt.bar(xvals, data1, width = 0.3)\n",
    "\n",
    "new_xvals = []\n",
    "\n",
    "# plot another set of bars\n",
    "# adjusting the new xvals to make up for the first set of bars \n",
    "for item in xvals:\n",
    "    new_xvals.append(item+0.3)\n",
    "#new_xvals = xvals + 0.3 #not working, range + float\n",
    "\n",
    "plt.bar(new_xvals, data2, width = 0.3 ,color='lightgreen')"
   ]
  },
  {
   "cell_type": "code",
   "execution_count": null,
   "metadata": {},
   "outputs": [],
   "source": [
    "?plt.bar"
   ]
  },
  {
   "cell_type": "code",
   "execution_count": null,
   "metadata": {
    "colab": {
     "base_uri": "https://localhost:8080/",
     "height": 282
    },
    "id": "zJkB9k1cGye7",
    "outputId": "a808c61f-1a45-413f-850b-65876245ce83",
    "scrolled": true
   },
   "outputs": [],
   "source": [
    "err = np.random.random(len(data1))\n",
    "\n",
    "# plot errorbars using the list of random error values\n",
    "plt.bar(xvals, data1, width = 0.3, yerr=err)"
   ]
  },
  {
   "cell_type": "code",
   "execution_count": null,
   "metadata": {
    "colab": {
     "base_uri": "https://localhost:8080/",
     "height": 282
    },
    "id": "HxQRgj7GGye9",
    "outputId": "52f2075a-ea64-4b6c-b4de-75c6cd30d4bb"
   },
   "outputs": [],
   "source": [
    "# stacked bar charts \n",
    "plt.figure()\n",
    "xvals = range(len(data1))\n",
    "plt.bar(xvals, data1, width = 0.3, color='b')\n",
    "plt.bar(xvals, data2, width = 0.3, \n",
    "        bottom=data1, #stacked\n",
    "        color='lightgreen')"
   ]
  },
  {
   "cell_type": "code",
   "execution_count": null,
   "metadata": {
    "colab": {
     "base_uri": "https://localhost:8080/",
     "height": 282
    },
    "id": "yonkbGTDGye_",
    "outputId": "7b213f67-77a5-4b8e-c002-f6da2dd6a0b9",
    "scrolled": false
   },
   "outputs": [],
   "source": [
    "# barh: horizontal bar charts\n",
    "plt.figure()\n",
    "xvals = range(len(data1))\n",
    "plt.barh(xvals, data1, height = 0.3, color='b')\n",
    "plt.barh(xvals, data2, height = 0.3, \n",
    "         left=data1, \n",
    "         color='lightgreen');"
   ]
  },
  {
   "cell_type": "markdown",
   "metadata": {
    "id": "O5_Czh0GGyfA"
   },
   "source": [
    "## Boxplots"
   ]
  },
  {
   "cell_type": "code",
   "execution_count": null,
   "metadata": {
    "id": "Qbz5eoKBGyfB"
   },
   "outputs": [],
   "source": [
    "import numpy as np\n",
    "import pandas as pd\n",
    "normal_sample = np.random.normal(loc=0.0, scale=1.0, size=10000)\n",
    "random_sample = np.random.random(size=10000)\n",
    "gamma_sample = np.random.gamma(2, size=10000)\n",
    "\n",
    "df = pd.DataFrame({'normal': normal_sample, \n",
    "                   'random': random_sample, \n",
    "                   'gamma': gamma_sample})"
   ]
  },
  {
   "cell_type": "code",
   "execution_count": null,
   "metadata": {
    "colab": {
     "base_uri": "https://localhost:8080/",
     "height": 294
    },
    "id": "Hmki5ZbQGyfE",
    "outputId": "524371a9-af84-42a3-9fd8-3b5b0acd0546",
    "scrolled": true
   },
   "outputs": [],
   "source": [
    "df.describe()"
   ]
  },
  {
   "cell_type": "code",
   "execution_count": null,
   "metadata": {
    "colab": {
     "base_uri": "https://localhost:8080/",
     "height": 265
    },
    "id": "xyTYhSbaGyfG",
    "outputId": "15a19f37-d12c-4319-a6a8-537bafdf8d34",
    "scrolled": false
   },
   "outputs": [],
   "source": [
    "# plot boxplots for all three of df's columns\n",
    "# assign the output to a variable to supress output\n",
    "plt.boxplot([ df['normal'], df['random'], df['gamma'] ]);"
   ]
  },
  {
   "cell_type": "markdown",
   "metadata": {
    "id": "hAw8q_3bGyfH"
   },
   "source": [
    "## Plot with Pandas"
   ]
  },
  {
   "cell_type": "code",
   "execution_count": null,
   "metadata": {
    "id": "992rfiOGGyfI"
   },
   "outputs": [],
   "source": [
    "import pandas as pd\n",
    "import numpy as np\n",
    "import matplotlib.pyplot as plt\n",
    "\n",
    "#%matplotlib notebook"
   ]
  },
  {
   "cell_type": "code",
   "execution_count": null,
   "metadata": {
    "colab": {
     "base_uri": "https://localhost:8080/"
    },
    "id": "-v1kSt4YGyfJ",
    "outputId": "5f54d46b-de0a-45c3-fbdc-050d75b54a75"
   },
   "outputs": [],
   "source": [
    "# see the pre-defined styles provided\n",
    "plt.style.available"
   ]
  },
  {
   "cell_type": "code",
   "execution_count": null,
   "metadata": {
    "id": "gdLsaCCGGyfL"
   },
   "outputs": [],
   "source": [
    "# use the 'seaborn-colorblind' style\n",
    "plt.style.use('seaborn-colorblind')"
   ]
  },
  {
   "cell_type": "markdown",
   "metadata": {
    "id": "qWZUOAmWGyfM"
   },
   "source": [
    "### DataFrame.plot"
   ]
  },
  {
   "cell_type": "code",
   "execution_count": null,
   "metadata": {
    "colab": {
     "base_uri": "https://localhost:8080/",
     "height": 202
    },
    "id": "5dyAzNH0GyfN",
    "outputId": "e78aa30f-fe08-4f28-ce15-bdc7c4ee2c37",
    "scrolled": false
   },
   "outputs": [],
   "source": [
    "np.random.seed(1234)\n",
    "\n",
    "df = pd.DataFrame({'A': np.random.randn(365).cumsum(0), \n",
    "                   'B': np.random.randn(365).cumsum(0) + 20,\n",
    "                   'C': np.random.randn(365).cumsum(0) - 20}, \n",
    "                  index=pd.date_range('11/07/2022', periods=365))\n",
    "df.head()"
   ]
  },
  {
   "cell_type": "code",
   "execution_count": null,
   "metadata": {},
   "outputs": [],
   "source": [
    "help(np.random.randn(365).cumsum)"
   ]
  },
  {
   "cell_type": "code",
   "execution_count": null,
   "metadata": {
    "colab": {
     "base_uri": "https://localhost:8080/",
     "height": 17
    },
    "id": "6qk2eXg3GyfO",
    "outputId": "a5efddb2-5c30-48b3-8435-907e5278ad0c",
    "scrolled": false
   },
   "outputs": [],
   "source": [
    "# add a semi-colon to suppress the output\n",
    "df.plot();"
   ]
  },
  {
   "cell_type": "markdown",
   "metadata": {
    "id": "qCM-aMLiGyfQ"
   },
   "source": [
    "We can select which plot we want to use by passing it into the 'kind' parameter. <br>\n",
    "Alternatively, use `DataFrame.plot.kind` methods.\n",
    "\n",
    "`kind` :\n",
    "- `'line'` : line plot (default)\n",
    "- `'bar'` : vertical bar plot\n",
    "- `'barh'` : horizontal bar plot\n",
    "- `'hist'` : histogram\n",
    "- `'box'` : boxplot\n",
    "- `'kde'` : Kernel Density Estimation plot\n",
    "- `'density'` : same as 'kde'\n",
    "- `'area'` : area plot\n",
    "- `'pie'` : pie plot\n",
    "- `'scatter'` : scatter plot\n",
    "- `'hexbin'` : hexbin plot"
   ]
  },
  {
   "cell_type": "code",
   "execution_count": null,
   "metadata": {
    "colab": {
     "base_uri": "https://localhost:8080/",
     "height": 17
    },
    "id": "kNmTJYvRGyfQ",
    "outputId": "168197aa-7907-409c-f8bf-a601797e67c9"
   },
   "outputs": [],
   "source": [
    "df.plot('A','C', kind = 'scatter');"
   ]
  },
  {
   "cell_type": "code",
   "execution_count": null,
   "metadata": {
    "colab": {
     "base_uri": "https://localhost:8080/",
     "height": 51
    },
    "id": "OTv7Gu0KGyfS",
    "outputId": "cd853654-eea3-40df-b481-9a93228c6e9a",
    "scrolled": false
   },
   "outputs": [],
   "source": [
    "# scatterplot of 'A' and 'C'\n",
    "# color (c) and size (s) based on column 'B'\n",
    "df.plot.scatter('A', 'C', c='B', s=df['B'], colormap='viridis');"
   ]
  },
  {
   "cell_type": "code",
   "execution_count": null,
   "metadata": {
    "colab": {
     "base_uri": "https://localhost:8080/",
     "height": 17
    },
    "id": "umZNmmCoGyfT",
    "outputId": "00e2e03e-8409-4d81-bbb5-858a80e10a85",
    "scrolled": false
   },
   "outputs": [],
   "source": [
    "df.plot.box();"
   ]
  },
  {
   "cell_type": "code",
   "execution_count": null,
   "metadata": {
    "colab": {
     "base_uri": "https://localhost:8080/",
     "height": 17
    },
    "id": "XYK7X2moGyfV",
    "outputId": "1a306af7-de74-4fff-f856-d18f1cd2d63f"
   },
   "outputs": [],
   "source": [
    "df.plot.hist(bins=20,alpha=0.3);"
   ]
  },
  {
   "cell_type": "code",
   "execution_count": null,
   "metadata": {
    "colab": {
     "base_uri": "https://localhost:8080/",
     "height": 17
    },
    "id": "iiti30c4GyfX",
    "outputId": "acd1c698-ee2c-4a9f-9dde-b1f0937b3114"
   },
   "outputs": [],
   "source": [
    "# kernel density estimation plot instead \n",
    "df.plot.kde();"
   ]
  },
  {
   "cell_type": "code",
   "execution_count": null,
   "metadata": {},
   "outputs": [],
   "source": [
    "df.plot('A','C', kind = 'hexbin');"
   ]
  },
  {
   "cell_type": "markdown",
   "metadata": {
    "id": "cEtPMZrNGyfY"
   },
   "source": [
    "### pd.plotting"
   ]
  },
  {
   "cell_type": "code",
   "execution_count": null,
   "metadata": {
    "id": "Vr5kAO7MGyfZ"
   },
   "outputs": [],
   "source": [
    "pd.plotting?"
   ]
  },
  {
   "cell_type": "code",
   "execution_count": null,
   "metadata": {
    "colab": {
     "base_uri": "https://localhost:8080/",
     "height": 17
    },
    "id": "Yx3jvCxfGyfa",
    "outputId": "ae8e7080-5110-46d2-ff13-a4698ff96edd",
    "scrolled": true
   },
   "outputs": [],
   "source": [
    "pd.plotting.scatter_matrix(df, alpha=0.2);"
   ]
  },
  {
   "cell_type": "markdown",
   "metadata": {
    "id": "auzx2VoOGyfc"
   },
   "source": [
    "## Seaborn\n",
    "High-level commands to create a variety of plot types useful for statistical data exploration, and even some statistical model fitting."
   ]
  },
  {
   "cell_type": "code",
   "execution_count": null,
   "metadata": {
    "id": "wpxXymnsGyfc"
   },
   "outputs": [],
   "source": [
    "import numpy as np\n",
    "import pandas as pd\n",
    "import matplotlib.pyplot as plt\n",
    "import seaborn as sns\n",
    "\n",
    "%matplotlib inline"
   ]
  },
  {
   "cell_type": "code",
   "execution_count": null,
   "metadata": {
    "colab": {
     "base_uri": "https://localhost:8080/",
     "height": 265
    },
    "id": "L71TNEdKGyfe",
    "outputId": "0ba6ae9d-7ae0-4531-fb36-965ad3381014"
   },
   "outputs": [],
   "source": [
    "data = np.random.multivariate_normal([0, 30], \n",
    "                                     [[100, 50], [50, 100]],\n",
    "                                     size=2000)\n",
    "data = pd.DataFrame(data, columns=['x', 'y'])\n",
    "for col in 'xy':\n",
    "    plt.hist(data[col], density=True, alpha=0.5,\n",
    "            bins=np.arange(-50,150,5), label = col)\n",
    "plt.legend();"
   ]
  },
  {
   "cell_type": "code",
   "execution_count": null,
   "metadata": {
    "colab": {
     "base_uri": "https://localhost:8080/",
     "height": 268
    },
    "id": "JCU9SXpNGyff",
    "outputId": "17f48571-0e41-444f-8c12-02a42c50726c"
   },
   "outputs": [],
   "source": [
    "# kernel density estimation over stacked barchart\n",
    "plt.figure()\n",
    "for col in 'xy':\n",
    "    plt.hist(data[col], \n",
    "             histtype='barstacked', \n",
    "             density=True, alpha=0.5);\n",
    "\n",
    "v3 = np.concatenate((data['x'],data['y']))\n",
    "sns.kdeplot(v3);"
   ]
  },
  {
   "cell_type": "code",
   "execution_count": null,
   "metadata": {},
   "outputs": [],
   "source": [
    "help(plt.hist)"
   ]
  },
  {
   "cell_type": "code",
   "execution_count": null,
   "metadata": {
    "colab": {
     "base_uri": "https://localhost:8080/",
     "height": 368
    },
    "id": "3dSUwIo6Gyfh",
    "outputId": "b1a14338-5fd4-4ac1-f478-99a2db5e1c61"
   },
   "outputs": [],
   "source": [
    "plt.figure()\n",
    "#distplot combining histogram and density plot\n",
    "sns.distplot(data['x'], hist_kws={'color': 'darkgreen'},\n",
    "             kde_kws={'color': 'green'});\n",
    "sns.distplot(data['y'], hist_kws={'color': 'darkred'},\n",
    "             kde_kws={'color': 'red'});"
   ]
  },
  {
   "cell_type": "code",
   "execution_count": null,
   "metadata": {
    "colab": {
     "base_uri": "https://localhost:8080/",
     "height": 495
    },
    "id": "5QNqC7wvGyfj",
    "outputId": "0daf5c23-95aa-455b-e22f-b8c59aa82ed1"
   },
   "outputs": [],
   "source": [
    "#joint distribution and the marginal distributions together\n",
    "sns.jointplot(x=\"x\",y=\"y\", data=data, alpha=0.4, kind='hex');\n",
    "#plt.colorbar()"
   ]
  },
  {
   "cell_type": "markdown",
   "metadata": {
    "id": "c8ZOdfeNGyfl"
   },
   "source": [
    "#### pairwise plot"
   ]
  },
  {
   "cell_type": "code",
   "execution_count": null,
   "metadata": {
    "colab": {
     "base_uri": "https://localhost:8080/",
     "height": 550
    },
    "id": "xxF2olLLGyfl",
    "outputId": "783489f3-4d23-472a-f678-92202a7bcc23"
   },
   "outputs": [],
   "source": [
    "# pairwise plot\n",
    "np.random.seed(1234)\n",
    "\n",
    "df = pd.DataFrame({'A': np.random.randn(100).cumsum(0), \n",
    "                   'B': np.random.randn(100).cumsum(0) + 20,\n",
    "                   'C': np.random.randn(100).cumsum(0) - 20, \n",
    "                   'D': np.random.randint(0,3,100)})\n",
    "\n",
    "sns.pairplot(df, hue='D',palette='Accent');"
   ]
  },
  {
   "cell_type": "code",
   "execution_count": null,
   "metadata": {},
   "outputs": [],
   "source": [
    "sns.pairplot?"
   ]
  },
  {
   "cell_type": "markdown",
   "metadata": {},
   "source": [
    "#### Supported values\n",
    "'Accent', 'Accent_r', 'Blues', 'Blues_r', 'BrBG', 'BrBG_r', 'BuGn', 'BuGn_r', 'BuPu', 'BuPu_r', 'CMRmap', 'CMRmap_r', 'Dark2', 'Dark2_r', 'GnBu', 'GnBu_r', 'Greens', 'Greens_r', 'Greys', 'Greys_r', 'OrRd', 'OrRd_r', 'Oranges', 'Oranges_r', 'PRGn', 'PRGn_r', 'Paired', 'Paired_r', 'Pastel1', 'Pastel1_r', 'Pastel2', 'Pastel2_r', 'PiYG', 'PiYG_r', 'PuBu', 'PuBuGn', 'PuBuGn_r', 'PuBu_r', 'PuOr', 'PuOr_r', 'PuRd', 'PuRd_r', 'Purples', 'Purples_r', 'RdBu', 'RdBu_r', 'RdGy', 'RdGy_r', 'RdPu', 'RdPu_r', 'RdYlBu', 'RdYlBu_r', 'RdYlGn', 'RdYlGn_r', 'Reds', 'Reds_r', 'Set1', 'Set1_r', 'Set2', 'Set2_r', 'Set3', 'Set3_r', 'Spectral', 'Spectral_r', 'Wistia', 'Wistia_r', 'YlGn', 'YlGnBu', 'YlGnBu_r', 'YlGn_r', 'YlOrBr', 'YlOrBr_r', 'YlOrRd', 'YlOrRd_r', 'afmhot', 'afmhot_r', 'autumn', 'autumn_r', 'binary', 'binary_r', 'bone', 'bone_r', 'brg', 'brg_r', 'bwr', 'bwr_r', 'cividis', 'cividis_r', 'cool', 'cool_r', 'coolwarm', 'coolwarm_r', 'copper', 'copper_r', 'crest', 'crest_r', 'cubehelix', 'cubehelix_r', 'flag', 'flag_r', 'flare', 'flare_r', 'gist_earth', 'gist_earth_r', 'gist_gray', 'gist_gray_r', 'gist_heat', 'gist_heat_r', 'gist_ncar', 'gist_ncar_r', 'gist_rainbow', 'gist_rainbow_r', 'gist_stern', 'gist_stern_r', 'gist_yarg', 'gist_yarg_r', 'gnuplot', 'gnuplot2', 'gnuplot2_r', 'gnuplot_r', 'gray', 'gray_r', 'hot', 'hot_r', 'hsv', 'hsv_r', 'icefire', 'icefire_r', 'inferno', 'inferno_r', 'jet', 'jet_r', 'magma', 'magma_r', 'mako', 'mako_r', 'nipy_spectral', 'nipy_spectral_r', 'ocean', 'ocean_r', 'pink', 'pink_r', 'plasma', 'plasma_r', 'prism', 'prism_r', 'rainbow', 'rainbow_r', 'rocket', 'rocket_r', 'seismic', 'seismic_r', 'spring', 'spring_r', 'summer', 'summer_r', 'tab10', 'tab10_r', 'tab20', 'tab20_r', 'tab20b', 'tab20b_r', 'tab20c', 'tab20c_r', 'terrain', 'terrain_r', 'turbo', 'turbo_r', 'twilight', 'twilight_r', 'twilight_shifted', 'twilight_shifted_r', 'viridis', 'viridis_r', 'vlag', 'vlag_r', 'winter', 'winter_r'"
   ]
  },
  {
   "cell_type": "markdown",
   "metadata": {
    "id": "8WMTmKn5Gyfm"
   },
   "source": [
    "#### facet histograms"
   ]
  },
  {
   "cell_type": "code",
   "execution_count": null,
   "metadata": {
    "colab": {
     "base_uri": "https://localhost:8080/",
     "height": 0
    },
    "id": "JsedZPefGyfn",
    "outputId": "35618906-7b00-4a56-d5a3-6b6cf4516d38"
   },
   "outputs": [],
   "source": [
    "# the amount that restaurant staff receive in tips \n",
    "# based on various indicator data\n",
    "tips = sns.load_dataset('tips')\n",
    "tips.head()"
   ]
  },
  {
   "cell_type": "code",
   "execution_count": null,
   "metadata": {
    "colab": {
     "base_uri": "https://localhost:8080/",
     "height": 0
    },
    "id": "jFodqh8-Gyfo",
    "outputId": "3acfa8cc-4bee-4ac0-c8a3-ee6b2690194c"
   },
   "outputs": [],
   "source": [
    "tips['tip_pct'] = 100 * tips['tip'] / tips['total_bill']\n",
    "grid = sns.FacetGrid(tips, row=\"sex\", col=\"time\", \n",
    "                     margin_titles=True)\n",
    "grid.map(plt.hist, \"tip_pct\", \n",
    "         bins=np.linspace(0, 40, 10));"
   ]
  },
  {
   "cell_type": "markdown",
   "metadata": {
    "id": "4XhZEs1MGyfr"
   },
   "source": [
    "#### factor plot"
   ]
  },
  {
   "cell_type": "code",
   "execution_count": null,
   "metadata": {},
   "outputs": [],
   "source": [
    "?sns.catplot"
   ]
  },
  {
   "cell_type": "code",
   "execution_count": null,
   "metadata": {
    "colab": {
     "base_uri": "https://localhost:8080/",
     "height": 0
    },
    "id": "VQH0bEilGyfr",
    "outputId": "819de025-e128-4338-9c0b-eb339fcab915"
   },
   "outputs": [],
   "source": [
    "g = sns.catplot(x=\"day\", y=\"total_bill\", \n",
    "                    hue=\"sex\", #legend group\n",
    "                    data=tips, kind=\"box\")\n",
    "g.set_axis_labels(\"Day\", \"Total Bill\");"
   ]
  },
  {
   "cell_type": "code",
   "execution_count": null,
   "metadata": {},
   "outputs": [],
   "source": [
    "g = sns.catplot(x=\"day\", y=\"total_bill\", \n",
    "                    hue=\"sex\", #legend group\n",
    "                    data=tips, kind=\"violin\")\n",
    "g.set_axis_labels(\"Day\", \"Total Bill\");"
   ]
  },
  {
   "cell_type": "code",
   "execution_count": null,
   "metadata": {},
   "outputs": [],
   "source": [
    "tips.describe()"
   ]
  },
  {
   "cell_type": "markdown",
   "metadata": {
    "id": "-1TSDViQGyft"
   },
   "source": [
    "#### joint distributions"
   ]
  },
  {
   "cell_type": "code",
   "execution_count": null,
   "metadata": {
    "colab": {
     "base_uri": "https://localhost:8080/",
     "height": 0
    },
    "id": "0XsayNT2Gyft",
    "outputId": "e0d157f1-a0ae-4af0-a401-81733386b47d"
   },
   "outputs": [],
   "source": [
    "sns.jointplot(x=\"total_bill\", y=\"tip\", data=tips, \n",
    "                  kind='kde');"
   ]
  },
  {
   "cell_type": "code",
   "execution_count": null,
   "metadata": {
    "colab": {
     "base_uri": "https://localhost:8080/",
     "height": 0
    },
    "id": "5FJjaaMqGyfu",
    "outputId": "32ffb472-3f44-4d91-a2cc-7d5a3a5e62a2"
   },
   "outputs": [],
   "source": [
    "sns.jointplot(x=\"total_bill\", y=\"tip\", data=tips, \n",
    "                  kind='hex'); #hexagon density plot (nonnegative)"
   ]
  },
  {
   "cell_type": "code",
   "execution_count": null,
   "metadata": {},
   "outputs": [],
   "source": [
    "plt.style.use('seaborn-darkgrid')\n",
    "sns.jointplot(x=\"total_bill\", y=\"tip\", data=tips, \n",
    "                  kind='hex'); "
   ]
  },
  {
   "cell_type": "code",
   "execution_count": null,
   "metadata": {
    "colab": {
     "base_uri": "https://localhost:8080/",
     "height": 0
    },
    "id": "Y_9Jz8kJGyfw",
    "outputId": "22a5c6e0-5a51-45ee-8e99-28341cd60dd6"
   },
   "outputs": [],
   "source": [
    "#regression\n",
    "sns.jointplot(x=\"total_bill\", y=\"tip\", data=tips, kind='reg');"
   ]
  },
  {
   "cell_type": "markdown",
   "metadata": {
    "id": "fVksZeIRGyfx"
   },
   "source": [
    "#### violin plot"
   ]
  },
  {
   "cell_type": "code",
   "execution_count": null,
   "metadata": {
    "colab": {
     "base_uri": "https://localhost:8080/",
     "height": 0
    },
    "id": "1ojDSv4SGyfy",
    "outputId": "02f6fe10-55e7-4274-81cd-6924e80f5dfd",
    "scrolled": true
   },
   "outputs": [],
   "source": [
    "sns.violinplot(x=\"day\", y=\"tip\", hue=\"sex\", data=tips,\n",
    "               palette=[\"lightblue\", \"lightpink\"]);"
   ]
  },
  {
   "cell_type": "code",
   "execution_count": null,
   "metadata": {},
   "outputs": [],
   "source": [
    "with sns.axes_style(style=None):\n",
    "    sns.violinplot(x=\"day\", y=\"tip\", hue=\"sex\", data=tips,\n",
    "                   split=True, inner=\"quartile\",\n",
    "                   palette=[\"lightblue\", \"lightpink\"]);"
   ]
  },
  {
   "cell_type": "markdown",
   "metadata": {},
   "source": [
    "#### 3D plots"
   ]
  },
  {
   "cell_type": "code",
   "execution_count": null,
   "metadata": {},
   "outputs": [],
   "source": [
    "from mpl_toolkits import mplot3d\n",
    "%matplotlib inline\n",
    "import numpy as np\n",
    "import matplotlib.pyplot as plt\n",
    "fig = plt.figure()\n",
    "ax = plt.axes(projection='3d')"
   ]
  },
  {
   "cell_type": "code",
   "execution_count": null,
   "metadata": {},
   "outputs": [],
   "source": [
    "ax = plt.axes(projection='3d')\n",
    "# Data for a three-dimensional line\n",
    "zline = np.linspace(0, 15, 1000)\n",
    "xline = np.sin(zline)\n",
    "yline = np.cos(zline)\n",
    "ax.plot3D(xline, yline, zline, 'gray')\n",
    "# Data for three-dimensional scattered points\n",
    "zdata = 15 * np.random.random(100)\n",
    "xdata = np.sin(zdata) + 0.1 * np.random.randn(100)\n",
    "ydata = np.cos(zdata) + 0.1 * np.random.randn(100)\n",
    "ax.scatter3D(xdata, ydata, zdata, c=zdata, cmap='Reds'); #points with transparency adjusted"
   ]
  },
  {
   "cell_type": "code",
   "execution_count": null,
   "metadata": {},
   "outputs": [],
   "source": [
    "%matplotlib notebook\n",
    "fig = plt.figure()\n",
    "ax = plt.axes(projection='3d')\n",
    "ax.plot3D(xline, yline, zline, 'gray')\n",
    "ax.scatter3D(xdata, ydata, zdata, c=zdata, cmap='Reds');"
   ]
  },
  {
   "cell_type": "markdown",
   "metadata": {},
   "source": [
    "#### Three-Dimensional Contour Plots"
   ]
  },
  {
   "cell_type": "code",
   "execution_count": null,
   "metadata": {},
   "outputs": [],
   "source": [
    "def f(x, y):\n",
    "    return np.sin(np.sqrt(x ** 2 + y ** 2))\n",
    "x = np.linspace(-6, 6, 30)\n",
    "y = np.linspace(-6, 6, 30)\n",
    "X, Y = np.meshgrid(x, y)\n",
    "Z = f(X, Y)"
   ]
  },
  {
   "cell_type": "code",
   "execution_count": null,
   "metadata": {},
   "outputs": [],
   "source": [
    "fig = plt.figure()\n",
    "ax = plt.axes(projection='3d')\n",
    "ax.contour3D(X, Y, Z, 50, cmap='binary')\n",
    "ax.set_xlabel('x')\n",
    "ax.set_ylabel('y')\n",
    "ax.set_zlabel('z');"
   ]
  },
  {
   "cell_type": "code",
   "execution_count": null,
   "metadata": {},
   "outputs": [],
   "source": [
    "ax.view_init(60, 35)\n",
    "fig"
   ]
  },
  {
   "cell_type": "markdown",
   "metadata": {},
   "source": [
    "#### Wireframes and Surface Plots"
   ]
  },
  {
   "cell_type": "code",
   "execution_count": null,
   "metadata": {},
   "outputs": [],
   "source": [
    "%matplotlib inline\n",
    "fig = plt.figure()\n",
    "ax = plt.axes(projection='3d')\n",
    "ax.plot_wireframe(X, Y, Z, color='black')\n",
    "ax.set_title('wireframe');\n",
    "ax.view_init(60, 35)"
   ]
  },
  {
   "cell_type": "code",
   "execution_count": null,
   "metadata": {},
   "outputs": [],
   "source": [
    "ax = plt.axes(projection='3d')\n",
    "ax.plot_surface(X, Y, Z, rstride=1, cstride=1,\n",
    "cmap='viridis', edgecolor='none')\n",
    "ax.set_title('surface');"
   ]
  },
  {
   "cell_type": "markdown",
   "metadata": {},
   "source": [
    "#### Polar grids"
   ]
  },
  {
   "cell_type": "code",
   "execution_count": null,
   "metadata": {},
   "outputs": [],
   "source": [
    "r = np.linspace(0, 6, 20)\n",
    "theta = np.linspace(-0.9 * np.pi, 0.8 * np.pi, 40)\n",
    "r, theta = np.meshgrid(r, theta)\n",
    "X = r * np.sin(theta)\n",
    "Y = r * np.cos(theta)\n",
    "Z = f(X, Y)\n",
    "ax = plt.axes(projection='3d')\n",
    "ax.plot_surface(X, Y, Z, rstride=1, cstride=1,\n",
    "cmap='viridis', edgecolor='none');"
   ]
  },
  {
   "cell_type": "markdown",
   "metadata": {},
   "source": [
    "#### Random draws instead of an even draw from a Cartesian or a polar grid"
   ]
  },
  {
   "cell_type": "code",
   "execution_count": null,
   "metadata": {},
   "outputs": [],
   "source": [
    "#scatterplot\n",
    "theta = 2 * np.pi * np.random.random(1000)\n",
    "r = 6 * np.random.random(1000)\n",
    "x = np.ravel(r * np.sin(theta))\n",
    "y = np.ravel(r * np.cos(theta))\n",
    "z = f(x, y)\n",
    "ax = plt.axes(projection='3d')\n",
    "ax.scatter(x, y, z, c=z, cmap='viridis', linewidth=0.5);"
   ]
  },
  {
   "cell_type": "code",
   "execution_count": null,
   "metadata": {},
   "outputs": [],
   "source": [
    "#surface triangulations:find triangles formed between adjacent points\n",
    "ax = plt.axes(projection='3d')\n",
    "ax.plot_trisurf(x, y, z,\n",
    "cmap='viridis', edgecolor='none');"
   ]
  },
  {
   "cell_type": "markdown",
   "metadata": {},
   "source": [
    "#### Mobius strip"
   ]
  },
  {
   "cell_type": "code",
   "execution_count": null,
   "metadata": {},
   "outputs": [],
   "source": [
    "#theta ranges from 0 to 2π around the loop\n",
    "#w ranges from –1 to 1 across the width of the strip\n",
    "theta = np.linspace(0, 2 * np.pi, 30)\n",
    "w = np.linspace(-0.25, 0.25, 8)\n",
    "w, theta = np.meshgrid(w, theta)\n",
    "#half a twist during a full loop\n",
    "phi = 0.5 * theta\n",
    "#r denotes the distance to each point from the center\n",
    "r = 1 + w * np.cos(phi)\n",
    "x = np.ravel(r * np.cos(theta))\n",
    "y = np.ravel(r * np.sin(theta))\n",
    "z = np.ravel(w * np.sin(phi))\n",
    "#triangulate in the underlying parameterization\n",
    "from matplotlib.tri import Triangulation\n",
    "tri = Triangulation(np.ravel(w), np.ravel(theta))\n",
    "ax = plt.axes(projection='3d')\n",
    "ax.plot_trisurf(x, y, z, triangles=tri.triangles,\n",
    "cmap='viridis', linewidths=0.2);\n",
    "ax.set_xlim(-1, 1); ax.set_ylim(-1, 1); ax.set_zlim(-1, 1);"
   ]
  }
 ],
 "metadata": {
  "colab": {
   "collapsed_sections": [
    "8WMTmKn5Gyfm",
    "4XhZEs1MGyfr",
    "-1TSDViQGyft",
    "fVksZeIRGyfx"
   ],
   "name": "lec9_matplotlib_seaborn.ipynb",
   "provenance": []
  },
  "kernelspec": {
   "display_name": "Python 3 (ipykernel)",
   "language": "python",
   "name": "python3"
  },
  "language_info": {
   "codemirror_mode": {
    "name": "ipython",
    "version": 3
   },
   "file_extension": ".py",
   "mimetype": "text/x-python",
   "name": "python",
   "nbconvert_exporter": "python",
   "pygments_lexer": "ipython3",
   "version": "3.11.3"
  }
 },
 "nbformat": 4,
 "nbformat_minor": 1
}
